{
  "nbformat": 4,
  "nbformat_minor": 0,
  "metadata": {
    "colab": {
      "provenance": []
    },
    "kernelspec": {
      "name": "python3",
      "display_name": "Python 3"
    },
    "language_info": {
      "name": "python"
    }
  },
  "cells": [
    {
      "cell_type": "code",
      "execution_count": 4,
      "metadata": {
        "colab": {
          "base_uri": "https://localhost:8080/"
        },
        "id": "o-HSSo3qAkva",
        "outputId": "b658b49b-539c-48fc-964e-9c857c396f5b"
      },
      "outputs": [
        {
          "output_type": "stream",
          "name": "stdout",
          "text": [
            "Requirement already satisfied: XGBoost in /usr/local/lib/python3.11/dist-packages (2.1.4)\n",
            "Requirement already satisfied: numpy in /usr/local/lib/python3.11/dist-packages (from XGBoost) (2.0.2)\n",
            "Requirement already satisfied: nvidia-nccl-cu12 in /usr/local/lib/python3.11/dist-packages (from XGBoost) (2.21.5)\n",
            "Requirement already satisfied: scipy in /usr/local/lib/python3.11/dist-packages (from XGBoost) (1.15.2)\n",
            "Requirement already satisfied: catboost in /usr/local/lib/python3.11/dist-packages (1.2.8)\n",
            "Requirement already satisfied: graphviz in /usr/local/lib/python3.11/dist-packages (from catboost) (0.20.3)\n",
            "Requirement already satisfied: matplotlib in /usr/local/lib/python3.11/dist-packages (from catboost) (3.10.0)\n",
            "Requirement already satisfied: numpy<3.0,>=1.16.0 in /usr/local/lib/python3.11/dist-packages (from catboost) (2.0.2)\n",
            "Requirement already satisfied: pandas>=0.24 in /usr/local/lib/python3.11/dist-packages (from catboost) (2.2.2)\n",
            "Requirement already satisfied: scipy in /usr/local/lib/python3.11/dist-packages (from catboost) (1.15.2)\n",
            "Requirement already satisfied: plotly in /usr/local/lib/python3.11/dist-packages (from catboost) (5.24.1)\n",
            "Requirement already satisfied: six in /usr/local/lib/python3.11/dist-packages (from catboost) (1.17.0)\n",
            "Requirement already satisfied: python-dateutil>=2.8.2 in /usr/local/lib/python3.11/dist-packages (from pandas>=0.24->catboost) (2.9.0.post0)\n",
            "Requirement already satisfied: pytz>=2020.1 in /usr/local/lib/python3.11/dist-packages (from pandas>=0.24->catboost) (2025.2)\n",
            "Requirement already satisfied: tzdata>=2022.7 in /usr/local/lib/python3.11/dist-packages (from pandas>=0.24->catboost) (2025.2)\n",
            "Requirement already satisfied: contourpy>=1.0.1 in /usr/local/lib/python3.11/dist-packages (from matplotlib->catboost) (1.3.2)\n",
            "Requirement already satisfied: cycler>=0.10 in /usr/local/lib/python3.11/dist-packages (from matplotlib->catboost) (0.12.1)\n",
            "Requirement already satisfied: fonttools>=4.22.0 in /usr/local/lib/python3.11/dist-packages (from matplotlib->catboost) (4.57.0)\n",
            "Requirement already satisfied: kiwisolver>=1.3.1 in /usr/local/lib/python3.11/dist-packages (from matplotlib->catboost) (1.4.8)\n",
            "Requirement already satisfied: packaging>=20.0 in /usr/local/lib/python3.11/dist-packages (from matplotlib->catboost) (24.2)\n",
            "Requirement already satisfied: pillow>=8 in /usr/local/lib/python3.11/dist-packages (from matplotlib->catboost) (11.2.1)\n",
            "Requirement already satisfied: pyparsing>=2.3.1 in /usr/local/lib/python3.11/dist-packages (from matplotlib->catboost) (3.2.3)\n",
            "Requirement already satisfied: tenacity>=6.2.0 in /usr/local/lib/python3.11/dist-packages (from plotly->catboost) (9.1.2)\n",
            "Requirement already satisfied: optuna in /usr/local/lib/python3.11/dist-packages (4.3.0)\n",
            "Requirement already satisfied: alembic>=1.5.0 in /usr/local/lib/python3.11/dist-packages (from optuna) (1.15.2)\n",
            "Requirement already satisfied: colorlog in /usr/local/lib/python3.11/dist-packages (from optuna) (6.9.0)\n",
            "Requirement already satisfied: numpy in /usr/local/lib/python3.11/dist-packages (from optuna) (2.0.2)\n",
            "Requirement already satisfied: packaging>=20.0 in /usr/local/lib/python3.11/dist-packages (from optuna) (24.2)\n",
            "Requirement already satisfied: sqlalchemy>=1.4.2 in /usr/local/lib/python3.11/dist-packages (from optuna) (2.0.40)\n",
            "Requirement already satisfied: tqdm in /usr/local/lib/python3.11/dist-packages (from optuna) (4.67.1)\n",
            "Requirement already satisfied: PyYAML in /usr/local/lib/python3.11/dist-packages (from optuna) (6.0.2)\n",
            "Requirement already satisfied: Mako in /usr/lib/python3/dist-packages (from alembic>=1.5.0->optuna) (1.1.3)\n",
            "Requirement already satisfied: typing-extensions>=4.12 in /usr/local/lib/python3.11/dist-packages (from alembic>=1.5.0->optuna) (4.13.2)\n",
            "Requirement already satisfied: greenlet>=1 in /usr/local/lib/python3.11/dist-packages (from sqlalchemy>=1.4.2->optuna) (3.2.1)\n",
            "Requirement already satisfied: LightGBM in /usr/local/lib/python3.11/dist-packages (4.5.0)\n",
            "Requirement already satisfied: numpy>=1.17.0 in /usr/local/lib/python3.11/dist-packages (from LightGBM) (2.0.2)\n",
            "Requirement already satisfied: scipy in /usr/local/lib/python3.11/dist-packages (from LightGBM) (1.15.2)\n",
            "Requirement already satisfied: optuna-integration[lightgbm] in /usr/local/lib/python3.11/dist-packages (4.3.0)\n",
            "Requirement already satisfied: optuna in /usr/local/lib/python3.11/dist-packages (from optuna-integration[lightgbm]) (4.3.0)\n",
            "Requirement already satisfied: lightgbm in /usr/local/lib/python3.11/dist-packages (from optuna-integration[lightgbm]) (4.5.0)\n",
            "Requirement already satisfied: scikit-learn in /usr/local/lib/python3.11/dist-packages (from optuna-integration[lightgbm]) (1.6.1)\n",
            "Requirement already satisfied: numpy>=1.17.0 in /usr/local/lib/python3.11/dist-packages (from lightgbm->optuna-integration[lightgbm]) (2.0.2)\n",
            "Requirement already satisfied: scipy in /usr/local/lib/python3.11/dist-packages (from lightgbm->optuna-integration[lightgbm]) (1.15.2)\n",
            "Requirement already satisfied: alembic>=1.5.0 in /usr/local/lib/python3.11/dist-packages (from optuna->optuna-integration[lightgbm]) (1.15.2)\n",
            "Requirement already satisfied: colorlog in /usr/local/lib/python3.11/dist-packages (from optuna->optuna-integration[lightgbm]) (6.9.0)\n",
            "Requirement already satisfied: packaging>=20.0 in /usr/local/lib/python3.11/dist-packages (from optuna->optuna-integration[lightgbm]) (24.2)\n",
            "Requirement already satisfied: sqlalchemy>=1.4.2 in /usr/local/lib/python3.11/dist-packages (from optuna->optuna-integration[lightgbm]) (2.0.40)\n",
            "Requirement already satisfied: tqdm in /usr/local/lib/python3.11/dist-packages (from optuna->optuna-integration[lightgbm]) (4.67.1)\n",
            "Requirement already satisfied: PyYAML in /usr/local/lib/python3.11/dist-packages (from optuna->optuna-integration[lightgbm]) (6.0.2)\n",
            "Requirement already satisfied: joblib>=1.2.0 in /usr/local/lib/python3.11/dist-packages (from scikit-learn->optuna-integration[lightgbm]) (1.4.2)\n",
            "Requirement already satisfied: threadpoolctl>=3.1.0 in /usr/local/lib/python3.11/dist-packages (from scikit-learn->optuna-integration[lightgbm]) (3.6.0)\n",
            "Requirement already satisfied: Mako in /usr/lib/python3/dist-packages (from alembic>=1.5.0->optuna->optuna-integration[lightgbm]) (1.1.3)\n",
            "Requirement already satisfied: typing-extensions>=4.12 in /usr/local/lib/python3.11/dist-packages (from alembic>=1.5.0->optuna->optuna-integration[lightgbm]) (4.13.2)\n",
            "Requirement already satisfied: greenlet>=1 in /usr/local/lib/python3.11/dist-packages (from sqlalchemy>=1.4.2->optuna->optuna-integration[lightgbm]) (3.2.1)\n"
          ]
        }
      ],
      "source": [
        "!pip install XGBoost\n",
        "!pip install catboost\n",
        "!pip install optuna\n",
        "!pip install LightGBM\n",
        "!pip install optuna-integration[lightgbm]\n",
        "import pandas as pd\n",
        "from sklearn.metrics import roc_auc_score\n",
        "from catboost import CatBoostClassifier\n",
        "from lightgbm import LGBMClassifier\n",
        "from xgboost import XGBClassifier\n",
        "import numpy as np\n",
        "import pandas as pd\n",
        "import matplotlib.pyplot as plt\n",
        "import seaborn as sns\n",
        "import optuna\n",
        "import seaborn as sns\n",
        "from sklearn.metrics import roc_curve, auc\n",
        "from xgboost import XGBClassifier\n",
        "from catboost import CatBoostClassifier\n",
        "from lightgbm import LGBMClassifier\n"
      ]
    },
    {
      "cell_type": "code",
      "source": [
        "from sklearn.model_selection import train_test_split\n",
        "df_m_train = pd.read_csv(\"train_Mortgage.csv\")\n",
        "df_p_train = pd.read_csv(\"train_Pension.csv\")\n",
        "df_s_train = pd.read_csv(\"train_Savings.csv\")\n",
        "target_name_1 = \"Mortgage\"\n",
        "target_name_2 = \"Pension\"\n",
        "target_name_3 = \"Savings\"\n",
        "y_train_m = df_m_train[target_name_1]\n",
        "y_train_p = df_p_train[target_name_2]\n",
        "y_train_s = df_s_train[target_name_3]\n",
        "X_train_m = df_m_train.drop(columns=[target_name_1])\n",
        "X_train_p = df_p_train.drop(columns=[target_name_2])\n",
        "X_train_s = df_s_train.drop(columns=[target_name_3])"
      ],
      "metadata": {
        "id": "7Yk571jTA1kG"
      },
      "execution_count": 5,
      "outputs": []
    },
    {
      "cell_type": "code",
      "source": [
        "df_m_valid = pd.read_csv(\"val_Mortgage.csv\")\n",
        "df_p_valid = pd.read_csv(\"val_Pension.csv\")\n",
        "df_s_valid = pd.read_csv(\"val_Savings.csv\")\n",
        "y_test_m = df_m_valid[target_name_1]\n",
        "y_test_p = df_p_valid[target_name_2]\n",
        "y_test_s = df_s_valid[target_name_3]\n",
        "X_test_m = df_m_valid.drop(columns=[target_name_1])\n",
        "X_test_p = df_p_valid.drop(columns=[target_name_2])\n",
        "X_test_s = df_s_valid.drop(columns=[target_name_3])"
      ],
      "metadata": {
        "id": "IYZkmSz4WuaW"
      },
      "execution_count": 6,
      "outputs": []
    },
    {
      "cell_type": "markdown",
      "source": [
        "CatBoost + ExtraTrees + LightGBM + XGBoost - > LogisticRegression"
      ],
      "metadata": {
        "id": "QJYeMy8YpxzG"
      }
    },
    {
      "cell_type": "code",
      "source": [
        "import pandas as pd\n",
        "from sklearn.model_selection import train_test_split\n",
        "from sklearn.metrics import accuracy_score, roc_auc_score\n",
        "from sklearn.ensemble import ExtraTreesClassifier, StackingClassifier\n",
        "from xgboost import XGBClassifier\n",
        "from lightgbm import LGBMClassifier\n",
        "from catboost import CatBoostClassifier\n",
        "from sklearn.linear_model import LogisticRegression\n",
        "\n",
        "# Базовые модели\n",
        "models = {\n",
        "    \"CatBoost\": CatBoostClassifier(verbose=0, random_state=42),\n",
        "    \"ExtraTrees\": ExtraTreesClassifier(n_estimators=100, random_state=42),\n",
        "    \"LightGBM\": LGBMClassifier(verbose=-1,random_state=42),\n",
        "    \"XGBoost\": XGBClassifier(random_state=42)\n",
        "}\n",
        "\n",
        "def evaluate_stacking(X_train, X_test, y_train, y_test, models, meta_model):\n",
        "    # Создаем стекинг\n",
        "    stacking_model = StackingClassifier(\n",
        "        estimators=list(models.items()),\n",
        "        final_estimator=meta_model,\n",
        "        cv=5,\n",
        "        stack_method=\"predict_proba\"\n",
        "    )\n",
        "\n",
        "    # Обучение и предсказание\n",
        "    stacking_model.fit(X_train, y_train)\n",
        "    y_pred = stacking_model.predict(X_test)\n",
        "    y_proba = stacking_model.predict_proba(X_test)[:, 1]  # для ROC-AUC\n",
        "\n",
        "    # Оценка\n",
        "    accuracy = accuracy_score(y_test, y_pred)\n",
        "    roc_auc = roc_auc_score(y_test, y_proba)\n",
        "\n",
        "    return accuracy, roc_auc\n",
        "\n",
        "# Мета-модель\n",
        "meta_model = LogisticRegression()\n",
        "\n",
        "# Проверяем на каждом таргете\n",
        "targets = {\n",
        "    \"Mortgage\": (X_train_m, X_test_m, y_train_m, y_test_m),\n",
        "    \"Pension\": (X_train_p, X_test_p, y_train_p, y_test_p),\n",
        "    \"Savings\": (X_train_s, X_test_s, y_train_s, y_test_s)\n",
        "}\n",
        "\n",
        "results = {}\n",
        "for target_name, (X_train, X_test, y_train, y_test) in targets.items():\n",
        "    acc, auc = evaluate_stacking(X_train, X_test, y_train, y_test, models, meta_model)\n",
        "    results[target_name] = {\"Accuracy\": acc, \"ROC-AUC\": auc}\n",
        "\n",
        "# Вывод результатов\n",
        "for target, metrics in results.items():\n",
        "    print(f\"{target}: Accuracy = {metrics['Accuracy']:.4f}, ROC-AUC = {metrics['ROC-AUC']:.4f}\")"
      ],
      "metadata": {
        "colab": {
          "base_uri": "https://localhost:8080/"
        },
        "id": "dBsXyRZsoWqZ",
        "outputId": "ac723b24-0811-4449-cced-2101d800a3a2"
      },
      "execution_count": 10,
      "outputs": [
        {
          "output_type": "stream",
          "name": "stdout",
          "text": [
            "Mortgage: Accuracy = 0.7598, ROC-AUC = 0.9395\n",
            "Pension: Accuracy = 0.5540, ROC-AUC = 0.7569\n",
            "Savings: Accuracy = 0.5521, ROC-AUC = 0.6725\n"
          ]
        }
      ]
    },
    {
      "cell_type": "code",
      "source": [
        "import pandas as pd\n",
        "from itertools import combinations\n",
        "from sklearn.metrics import roc_auc_score\n",
        "from sklearn.ensemble import StackingClassifier\n",
        "from sklearn.linear_model import LogisticRegression\n",
        "from lightgbm import LGBMClassifier\n",
        "from xgboost import XGBClassifier\n",
        "from catboost import CatBoostClassifier\n",
        "from sklearn.ensemble import ExtraTreesClassifier, RandomForestClassifier\n",
        "from sklearn.svm import SVC\n",
        "from sklearn.model_selection import cross_val_predict\n",
        "\n",
        "# Все модели для комбинирования\n",
        "\n",
        "cb_mortgage = CatBoostClassifier(iterations=839, learning_rate=0.05774795442279825, depth=6,\n",
        "                                 l2_leaf_reg=0.2880865175456189, random_strength=0.16254277485904814,\n",
        "                                 bagging_temperature=0.7992786757360438, border_count=32, boosting_type='Ordered', verbose=0)\n",
        "xgb_mortgage = XGBClassifier(n_estimators=234, max_depth=14, learning_rate=0.13020051661181956,\n",
        "                                 subsample=0.5000183482043092, colsample_bytree=0.9712108470499956,\n",
        "                                 min_child_weight=10, gamma=4.927111346239827, reg_alpha=2.3159564553387995,\n",
        "                                 reg_lambda=1.7788240357504277, scale_pos_weight=1.155068929743032)\n",
        "\n",
        "lgb_mortgage = LGBMClassifier(n_estimators=891, learning_rate=0.2775178145806826, num_leaves=154, max_depth=4,\n",
        "                                  min_child_samples=5, subsample=0.875834146327149, colsample_bytree=0.9367342318343456,\n",
        "                                  reg_alpha=4.0997572412343555, reg_lambda=1.3718029339702882, verbose=-1)\n",
        "\n",
        "et_mortgage = ExtraTreesClassifier(max_depth=10, min_samples_leaf=5, min_samples_split=2, n_estimators=200)\n",
        "lr_mortgage = LogisticRegression(C=0.01, max_iter=1000, solver='lbfgs')\n",
        "\n",
        "\n",
        "#mlp_mortgage = MLPClassifier(max_iter=300)\n",
        "\n",
        "\n",
        "cb_pension = CatBoostClassifier(iterations=200, learning_rate=0.010875325239675968, l2_leaf_reg=0.010817134192675052,\n",
        "                                random_strength=4.740509717654505, bagging_temperature=0.9584104224319896,\n",
        "                                border_count=75, colsample_bylevel=0.25113614025415143, depth=1, boosting_type='Plain', verbose=0)\n",
        "xgb_pension = XGBClassifier(n_estimators=238, max_depth=3, learning_rate=0.058427369161116946,\n",
        "                                subsample=0.9293867219852593, colsample_bytree=0.5238187849054002,\n",
        "                                min_child_weight=6, gamma=4.7308173402905505, reg_alpha=8.066467399907712,\n",
        "                                reg_lambda=4.390801165747763, scale_pos_weight=1.0066125076750385)\n",
        "lgb_pension = LGBMClassifier(n_estimators=1191, learning_rate=0.11153678049934727, num_leaves=107, max_depth=3,\n",
        "                                 min_child_samples=41, subsample=0.5173705475484477, colsample_bytree=0.7026966245620551,\n",
        "                                 reg_alpha=0.45638892145814025, reg_lambda=5.315359029396548, verbose=-1)\n",
        "et_pension = ExtraTreesClassifier(max_depth=10, min_samples_leaf=3, min_samples_split=10, n_estimators=100)\n",
        "lr_pension = LogisticRegression(C=0.001, max_iter=1000, solver='lbfgs')\n",
        "\n",
        "cb_savings = CatBoostClassifier(iterations=205, learning_rate=0.041965496183629054, l2_leaf_reg=0.0033091053333706402,\n",
        "                                random_strength=0.4267643014670958, bagging_temperature=0.6548287821971729, border_count=254,\n",
        "                                colsample_bylevel=0.6355211623405239, depth=5, boosting_type='Plain', verbose=0)\n",
        "xgb_savings = XGBClassifier(n_estimators=1446, max_depth=3, learning_rate=0.17633766607373635,\n",
        "                                subsample=0.8802608079409611, colsample_bytree=0.6399123535237496,\n",
        "                                min_child_weight=10, gamma=4.7135127571247475, reg_alpha=7.307229547015628,\n",
        "                                reg_lambda=0.5506026977366328, scale_pos_weight=4.0245802517341716)\n",
        "lgb_savings = LGBMClassifier(n_estimators=903, learning_rate=0.2620735099496511, num_leaves=198, max_depth=5,\n",
        "                                 min_child_samples=98, subsample=0.5818744149073714, colsample_bytree=0.9979504029037664,\n",
        "                                 reg_alpha=3.2759181752443514, reg_lambda=9.427794042824686, verbose=-1)\n",
        "\n",
        "et_savings = ExtraTreesClassifier(max_depth=10, min_samples_leaf=1, min_samples_split=10, n_estimators=200)\n",
        "lr_savings = LogisticRegression(C=0.1, max_iter=1000, solver='lbfgs')\n",
        "\n",
        "all_models_m = {\n",
        "    \"CatBoost\": cb_mortgage,\n",
        "    \"LightGBM\": lgb_mortgage,\n",
        "    \"XGBoost\": xgb_mortgage,\n",
        "    \"ExtraTrees\": et_mortgage,\n",
        "    \"LogisticRegression\" : lr_mortgage\n",
        "}\n",
        "\n",
        "all_models_p = {\n",
        "    \"CatBoost\": cb_pension,\n",
        "    \"LightGBM\": lgb_pension,\n",
        "    \"XGBoost\": xgb_pension,\n",
        "    \"ExtraTrees\": et_pension,\n",
        "    \"LogisticRegression\" : lr_pension\n",
        "}\n",
        "\n",
        "all_models_s = {\n",
        "    \"CatBoost\": cb_savings,\n",
        "    \"LightGBM\": lgb_savings,\n",
        "    \"XGBoost\": xgb_savings,\n",
        "    \"ExtraTrees\": et_savings,\n",
        "    \"LogisticRegression\" : lr_savings\n",
        "}\n",
        "\n",
        "# Мета-модель\n",
        "meta_model = LogisticRegression()\n",
        "\n",
        "# Перебираем все комбинации моделей от 2 до 6\n",
        "min_comb_size = 2\n",
        "max_comb_size = len(all_models_m)\n",
        "\n",
        "results = {}\n"
      ],
      "metadata": {
        "id": "ALXF3h06s1k2"
      },
      "execution_count": 20,
      "outputs": []
    },
    {
      "cell_type": "code",
      "source": [
        "import warnings\n",
        "from sklearn.exceptions import ConvergenceWarning\n",
        "\n",
        "warnings.filterwarnings(\"ignore\", category=ConvergenceWarning)"
      ],
      "metadata": {
        "id": "P-_YCyJQayVw"
      },
      "execution_count": 21,
      "outputs": []
    },
    {
      "cell_type": "code",
      "source": [
        "results = {}\n",
        "def combs(min_comb_size, max_comb_size, all_models, X_train, y_train, X_test, y_test ):\n",
        "    target_results=[]\n",
        "    for r in range(min_comb_size, max_comb_size + 1):\n",
        "        for model_names in combinations(all_models.keys(), r):\n",
        "            models = {name: all_models[name] for name in model_names}\n",
        "\n",
        "            stacking = StackingClassifier(\n",
        "                estimators=list(models.items()),\n",
        "                final_estimator=meta_model,\n",
        "                cv=5,\n",
        "                stack_method='predict_proba'\n",
        "            )\n",
        "\n",
        "            stacking.fit(X_train, y_train)\n",
        "            y_proba = stacking.predict_proba(X_test)[:, 1]\n",
        "            auc = roc_auc_score(y_test, y_proba)\n",
        "\n",
        "            target_results.append({\n",
        "                \"Models\": \"+\".join(model_names),\n",
        "                \"ROC-AUC\": auc,\n",
        "                \"Num_Models\": r\n",
        "            })\n",
        "            print(target_results[-1])\n",
        "    results[target_name] = pd.DataFrame(target_results).sort_values(\"ROC-AUC\", ascending=False)\n",
        "print(\"Mortgage\")\n",
        "combs(min_comb_size, max_comb_size, all_models_m, X_train_m, y_train_m, X_test_m, y_test_m)\n",
        "\n",
        "for target_name, df in results.items():\n",
        "    print(f\"\\n🔹 Лучшие комбинации для {target_name}:\")\n",
        "    print(df.head(10).to_markdown(tablefmt=\"grid\"))"
      ],
      "metadata": {
        "colab": {
          "base_uri": "https://localhost:8080/"
        },
        "id": "EGaZHXTmQlnx",
        "outputId": "b03da048-c1fa-471a-fdda-3550c90b7058"
      },
      "execution_count": 22,
      "outputs": [
        {
          "output_type": "stream",
          "name": "stdout",
          "text": [
            "Mortgage\n",
            "{'Models': 'CatBoost+LightGBM', 'ROC-AUC': np.float64(0.9421809196583971), 'Num_Models': 2}\n",
            "{'Models': 'CatBoost+XGBoost', 'ROC-AUC': np.float64(0.9420636853069285), 'Num_Models': 2}\n",
            "{'Models': 'CatBoost+ExtraTrees', 'ROC-AUC': np.float64(0.9402690979267556), 'Num_Models': 2}\n",
            "{'Models': 'CatBoost+LogisticRegression', 'ROC-AUC': np.float64(0.9404043683322962), 'Num_Models': 2}\n",
            "{'Models': 'LightGBM+XGBoost', 'ROC-AUC': np.float64(0.9425236046857668), 'Num_Models': 2}\n",
            "{'Models': 'LightGBM+ExtraTrees', 'ROC-AUC': np.float64(0.9434975516056596), 'Num_Models': 2}\n",
            "{'Models': 'LightGBM+LogisticRegression', 'ROC-AUC': np.float64(0.9431819206593982), 'Num_Models': 2}\n",
            "{'Models': 'XGBoost+ExtraTrees', 'ROC-AUC': np.float64(0.9420456492528564), 'Num_Models': 2}\n",
            "{'Models': 'XGBoost+LogisticRegression', 'ROC-AUC': np.float64(0.9420456492528564), 'Num_Models': 2}\n",
            "{'Models': 'ExtraTrees+LogisticRegression', 'ROC-AUC': np.float64(0.939971503034566), 'Num_Models': 2}\n",
            "{'Models': 'CatBoost+LightGBM+XGBoost', 'ROC-AUC': np.float64(0.9418472526580635), 'Num_Models': 3}\n",
            "{'Models': 'CatBoost+LightGBM+ExtraTrees', 'ROC-AUC': np.float64(0.9420185951717484), 'Num_Models': 3}\n",
            "{'Models': 'CatBoost+LightGBM+LogisticRegression', 'ROC-AUC': np.float64(0.9424785145505866), 'Num_Models': 3}\n",
            "{'Models': 'CatBoost+XGBoost+ExtraTrees', 'ROC-AUC': np.float64(0.9420997574150727), 'Num_Models': 3}\n",
            "{'Models': 'CatBoost+XGBoost+LogisticRegression', 'ROC-AUC': np.float64(0.9420456492528564), 'Num_Models': 3}\n",
            "{'Models': 'CatBoost+ExtraTrees+LogisticRegression', 'ROC-AUC': np.float64(0.9404314224134044), 'Num_Models': 3}\n",
            "{'Models': 'LightGBM+XGBoost+ExtraTrees', 'ROC-AUC': np.float64(0.9420636853069286), 'Num_Models': 3}\n",
            "{'Models': 'LightGBM+XGBoost+LogisticRegression', 'ROC-AUC': np.float64(0.9423793162531902), 'Num_Models': 3}\n",
            "{'Models': 'LightGBM+ExtraTrees+LogisticRegression', 'ROC-AUC': np.float64(0.9433262090919747), 'Num_Models': 3}\n",
            "{'Models': 'XGBoost+ExtraTrees+LogisticRegression', 'ROC-AUC': np.float64(0.9415226036847658), 'Num_Models': 3}\n",
            "{'Models': 'CatBoost+LightGBM+XGBoost+ExtraTrees', 'ROC-AUC': np.float64(0.9416308200091984), 'Num_Models': 4}\n",
            "{'Models': 'CatBoost+LightGBM+XGBoost+LogisticRegression', 'ROC-AUC': np.float64(0.9418743067391715), 'Num_Models': 4}\n",
            "{'Models': 'CatBoost+LightGBM+ExtraTrees+LogisticRegression', 'ROC-AUC': np.float64(0.9420005591176762), 'Num_Models': 4}\n",
            "{'Models': 'CatBoost+XGBoost+ExtraTrees+LogisticRegression', 'ROC-AUC': np.float64(0.9423612801991179), 'Num_Models': 4}\n",
            "{'Models': 'LightGBM+XGBoost+ExtraTrees+LogisticRegression', 'ROC-AUC': np.float64(0.9423342261180099), 'Num_Models': 4}\n",
            "{'Models': 'CatBoost+LightGBM+XGBoost+ExtraTrees+LogisticRegression', 'ROC-AUC': np.float64(0.9416939461984506), 'Num_Models': 5}\n",
            "\n",
            "🔹 Лучшие комбинации для Mortgage:\n",
            "+----+------------------------------------------------+-----------+--------------+\n",
            "|    | Models                                         |   ROC-AUC |   Num_Models |\n",
            "+====+================================================+===========+==============+\n",
            "|  5 | LightGBM+ExtraTrees                            |  0.943498 |            2 |\n",
            "+----+------------------------------------------------+-----------+--------------+\n",
            "| 18 | LightGBM+ExtraTrees+LogisticRegression         |  0.943326 |            3 |\n",
            "+----+------------------------------------------------+-----------+--------------+\n",
            "|  6 | LightGBM+LogisticRegression                    |  0.943182 |            2 |\n",
            "+----+------------------------------------------------+-----------+--------------+\n",
            "|  4 | LightGBM+XGBoost                               |  0.942524 |            2 |\n",
            "+----+------------------------------------------------+-----------+--------------+\n",
            "| 12 | CatBoost+LightGBM+LogisticRegression           |  0.942479 |            3 |\n",
            "+----+------------------------------------------------+-----------+--------------+\n",
            "| 17 | LightGBM+XGBoost+LogisticRegression            |  0.942379 |            3 |\n",
            "+----+------------------------------------------------+-----------+--------------+\n",
            "| 23 | CatBoost+XGBoost+ExtraTrees+LogisticRegression |  0.942361 |            4 |\n",
            "+----+------------------------------------------------+-----------+--------------+\n",
            "| 24 | LightGBM+XGBoost+ExtraTrees+LogisticRegression |  0.942334 |            4 |\n",
            "+----+------------------------------------------------+-----------+--------------+\n",
            "|  0 | CatBoost+LightGBM                              |  0.942181 |            2 |\n",
            "+----+------------------------------------------------+-----------+--------------+\n",
            "| 13 | CatBoost+XGBoost+ExtraTrees                    |  0.9421   |            3 |\n",
            "+----+------------------------------------------------+-----------+--------------+\n"
          ]
        }
      ]
    },
    {
      "cell_type": "code",
      "source": [
        "print(\"Pension\")\n",
        "target_name = \"Pension\"\n",
        "combs(min_comb_size, max_comb_size, all_models_p,X_train_p, y_train_p, X_test_p, y_test_p)\n",
        "\n",
        "for target_name, df in results.items():\n",
        "    print(f\"\\n🔹 Лучшие комбинации для {target_name}:\")\n",
        "    print(df.head(10).to_markdown(tablefmt=\"grid\"))"
      ],
      "metadata": {
        "colab": {
          "base_uri": "https://localhost:8080/"
        },
        "id": "YyNLvX24O0OV",
        "outputId": "9fb3f180-49d8-455e-f6ff-080581399f93"
      },
      "execution_count": 23,
      "outputs": [
        {
          "output_type": "stream",
          "name": "stdout",
          "text": [
            "Pension\n",
            "{'Models': 'CatBoost+LightGBM', 'ROC-AUC': np.float64(0.7776058669078028), 'Num_Models': 2}\n",
            "{'Models': 'CatBoost+XGBoost', 'ROC-AUC': np.float64(0.7781492527407801), 'Num_Models': 2}\n",
            "{'Models': 'CatBoost+ExtraTrees', 'ROC-AUC': np.float64(0.7786594547060945), 'Num_Models': 2}\n",
            "{'Models': 'CatBoost+LogisticRegression', 'ROC-AUC': np.float64(0.7781077729062017), 'Num_Models': 2}\n",
            "{'Models': 'LightGBM+XGBoost', 'ROC-AUC': np.float64(0.7783317640129251), 'Num_Models': 2}\n",
            "{'Models': 'LightGBM+ExtraTrees', 'ROC-AUC': np.float64(0.7765066512914748), 'Num_Models': 2}\n",
            "{'Models': 'LightGBM+LogisticRegression', 'ROC-AUC': np.float64(0.7709483534579665), 'Num_Models': 2}\n",
            "{'Models': 'XGBoost+ExtraTrees', 'ROC-AUC': np.float64(0.7784313156159134), 'Num_Models': 2}\n",
            "{'Models': 'XGBoost+LogisticRegression', 'ROC-AUC': np.float64(0.7781948805588164), 'Num_Models': 2}\n",
            "{'Models': 'ExtraTrees+LogisticRegression', 'ROC-AUC': np.float64(0.7782197684595633), 'Num_Models': 2}\n",
            "{'Models': 'CatBoost+LightGBM+XGBoost', 'ROC-AUC': np.float64(0.7784852394008653), 'Num_Models': 3}\n",
            "{'Models': 'CatBoost+LightGBM+ExtraTrees', 'ROC-AUC': np.float64(0.7780538491212498), 'Num_Models': 3}\n",
            "{'Models': 'CatBoost+LightGBM+LogisticRegression', 'ROC-AUC': np.float64(0.7786055309211427), 'Num_Models': 3}\n",
            "{'Models': 'CatBoost+XGBoost+ExtraTrees', 'ROC-AUC': np.float64(0.7780579971047075), 'Num_Models': 3}\n",
            "{'Models': 'CatBoost+XGBoost+LogisticRegression', 'ROC-AUC': np.float64(0.7777925261634058), 'Num_Models': 3}\n",
            "{'Models': 'CatBoost+ExtraTrees+LogisticRegression', 'ROC-AUC': np.float64(0.777705418510791), 'Num_Models': 3}\n",
            "{'Models': 'LightGBM+XGBoost+ExtraTrees', 'ROC-AUC': np.float64(0.7790078853165535), 'Num_Models': 3}\n",
            "{'Models': 'LightGBM+XGBoost+LogisticRegression', 'ROC-AUC': np.float64(0.7780704410550812), 'Num_Models': 3}\n",
            "{'Models': 'LightGBM+ExtraTrees+LogisticRegression', 'ROC-AUC': np.float64(0.7761208888298953), 'Num_Models': 3}\n",
            "{'Models': 'XGBoost+ExtraTrees+LogisticRegression', 'ROC-AUC': np.float64(0.778074589038539), 'Num_Models': 3}\n",
            "{'Models': 'CatBoost+LightGBM+XGBoost+ExtraTrees', 'ROC-AUC': np.float64(0.7785018313346966), 'Num_Models': 4}\n",
            "{'Models': 'CatBoost+LightGBM+XGBoost+LogisticRegression', 'ROC-AUC': np.float64(0.7781865845919006), 'Num_Models': 4}\n",
            "{'Models': 'CatBoost+LightGBM+ExtraTrees+LogisticRegression', 'ROC-AUC': np.float64(0.7783649478805879), 'Num_Models': 4}\n",
            "{'Models': 'CatBoost+XGBoost+ExtraTrees+LogisticRegression', 'ROC-AUC': np.float64(0.7785764950369378), 'Num_Models': 4}\n",
            "{'Models': 'LightGBM+XGBoost+ExtraTrees+LogisticRegression', 'ROC-AUC': np.float64(0.7785557551196486), 'Num_Models': 4}\n",
            "{'Models': 'CatBoost+LightGBM+XGBoost+ExtraTrees+LogisticRegression', 'ROC-AUC': np.float64(0.7787216744579624), 'Num_Models': 5}\n",
            "\n",
            "🔹 Лучшие комбинации для Mortgage:\n",
            "+----+------------------------------------------------+-----------+--------------+\n",
            "|    | Models                                         |   ROC-AUC |   Num_Models |\n",
            "+====+================================================+===========+==============+\n",
            "|  5 | LightGBM+ExtraTrees                            |  0.943498 |            2 |\n",
            "+----+------------------------------------------------+-----------+--------------+\n",
            "| 18 | LightGBM+ExtraTrees+LogisticRegression         |  0.943326 |            3 |\n",
            "+----+------------------------------------------------+-----------+--------------+\n",
            "|  6 | LightGBM+LogisticRegression                    |  0.943182 |            2 |\n",
            "+----+------------------------------------------------+-----------+--------------+\n",
            "|  4 | LightGBM+XGBoost                               |  0.942524 |            2 |\n",
            "+----+------------------------------------------------+-----------+--------------+\n",
            "| 12 | CatBoost+LightGBM+LogisticRegression           |  0.942479 |            3 |\n",
            "+----+------------------------------------------------+-----------+--------------+\n",
            "| 17 | LightGBM+XGBoost+LogisticRegression            |  0.942379 |            3 |\n",
            "+----+------------------------------------------------+-----------+--------------+\n",
            "| 23 | CatBoost+XGBoost+ExtraTrees+LogisticRegression |  0.942361 |            4 |\n",
            "+----+------------------------------------------------+-----------+--------------+\n",
            "| 24 | LightGBM+XGBoost+ExtraTrees+LogisticRegression |  0.942334 |            4 |\n",
            "+----+------------------------------------------------+-----------+--------------+\n",
            "|  0 | CatBoost+LightGBM                              |  0.942181 |            2 |\n",
            "+----+------------------------------------------------+-----------+--------------+\n",
            "| 13 | CatBoost+XGBoost+ExtraTrees                    |  0.9421   |            3 |\n",
            "+----+------------------------------------------------+-----------+--------------+\n",
            "\n",
            "🔹 Лучшие комбинации для Pension:\n",
            "+----+---------------------------------------------------------+-----------+--------------+\n",
            "|    | Models                                                  |   ROC-AUC |   Num_Models |\n",
            "+====+=========================================================+===========+==============+\n",
            "| 16 | LightGBM+XGBoost+ExtraTrees                             |  0.779008 |            3 |\n",
            "+----+---------------------------------------------------------+-----------+--------------+\n",
            "| 25 | CatBoost+LightGBM+XGBoost+ExtraTrees+LogisticRegression |  0.778722 |            5 |\n",
            "+----+---------------------------------------------------------+-----------+--------------+\n",
            "|  2 | CatBoost+ExtraTrees                                     |  0.778659 |            2 |\n",
            "+----+---------------------------------------------------------+-----------+--------------+\n",
            "| 12 | CatBoost+LightGBM+LogisticRegression                    |  0.778606 |            3 |\n",
            "+----+---------------------------------------------------------+-----------+--------------+\n",
            "| 23 | CatBoost+XGBoost+ExtraTrees+LogisticRegression          |  0.778576 |            4 |\n",
            "+----+---------------------------------------------------------+-----------+--------------+\n",
            "| 24 | LightGBM+XGBoost+ExtraTrees+LogisticRegression          |  0.778556 |            4 |\n",
            "+----+---------------------------------------------------------+-----------+--------------+\n",
            "| 20 | CatBoost+LightGBM+XGBoost+ExtraTrees                    |  0.778502 |            4 |\n",
            "+----+---------------------------------------------------------+-----------+--------------+\n",
            "| 10 | CatBoost+LightGBM+XGBoost                               |  0.778485 |            3 |\n",
            "+----+---------------------------------------------------------+-----------+--------------+\n",
            "|  7 | XGBoost+ExtraTrees                                      |  0.778431 |            2 |\n",
            "+----+---------------------------------------------------------+-----------+--------------+\n",
            "| 22 | CatBoost+LightGBM+ExtraTrees+LogisticRegression         |  0.778365 |            4 |\n",
            "+----+---------------------------------------------------------+-----------+--------------+\n"
          ]
        }
      ]
    },
    {
      "cell_type": "code",
      "source": [
        "print(\"Savings\")\n",
        "target_name = \"Savings\"\n",
        "combs(min_comb_size, max_comb_size, all_models_s,X_train_s, y_train_s, X_test_s, y_test_s)\n",
        "\n",
        "for target_name, df in results.items():\n",
        "    print(f\"\\n🔹 Лучшие комбинации для {target_name}:\")\n",
        "    print(df.head(10).to_markdown(tablefmt=\"grid\"))"
      ],
      "metadata": {
        "colab": {
          "base_uri": "https://localhost:8080/"
        },
        "id": "Kz8eq3UUO192",
        "outputId": "2dc0c7c6-3d24-444e-d3bb-cf18c00adba6"
      },
      "execution_count": 24,
      "outputs": [
        {
          "output_type": "stream",
          "name": "stdout",
          "text": [
            "Savings\n",
            "{'Models': 'CatBoost+LightGBM', 'ROC-AUC': np.float64(0.6859416687090788), 'Num_Models': 2}\n",
            "{'Models': 'CatBoost+XGBoost', 'ROC-AUC': np.float64(0.6917775988235706), 'Num_Models': 2}\n",
            "{'Models': 'CatBoost+ExtraTrees', 'ROC-AUC': np.float64(0.6891404362592346), 'Num_Models': 2}\n",
            "{'Models': 'CatBoost+LogisticRegression', 'ROC-AUC': np.float64(0.6924652498161828), 'Num_Models': 2}\n",
            "{'Models': 'LightGBM+XGBoost', 'ROC-AUC': np.float64(0.6922551731381954), 'Num_Models': 2}\n",
            "{'Models': 'LightGBM+ExtraTrees', 'ROC-AUC': np.float64(0.689744056580652), 'Num_Models': 2}\n",
            "{'Models': 'LightGBM+LogisticRegression', 'ROC-AUC': np.float64(0.6955757851615839), 'Num_Models': 2}\n",
            "{'Models': 'XGBoost+ExtraTrees', 'ROC-AUC': np.float64(0.6930646686040405), 'Num_Models': 2}\n",
            "{'Models': 'XGBoost+LogisticRegression', 'ROC-AUC': np.float64(0.6961275865690978), 'Num_Models': 2}\n",
            "{'Models': 'ExtraTrees+LogisticRegression', 'ROC-AUC': np.float64(0.6951808410069676), 'Num_Models': 2}\n",
            "{'Models': 'CatBoost+LightGBM+XGBoost', 'ROC-AUC': np.float64(0.6906095724939604), 'Num_Models': 3}\n",
            "{'Models': 'CatBoost+LightGBM+ExtraTrees', 'ROC-AUC': np.float64(0.6888435278876789), 'Num_Models': 3}\n",
            "{'Models': 'CatBoost+LightGBM+LogisticRegression', 'ROC-AUC': np.float64(0.6924036273239732), 'Num_Models': 3}\n",
            "{'Models': 'CatBoost+XGBoost+ExtraTrees', 'ROC-AUC': np.float64(0.6926515178039985), 'Num_Models': 3}\n",
            "{'Models': 'CatBoost+XGBoost+LogisticRegression', 'ROC-AUC': np.float64(0.6961443927033366), 'Num_Models': 3}\n",
            "{'Models': 'CatBoost+ExtraTrees+LogisticRegression', 'ROC-AUC': np.float64(0.6929918420223381), 'Num_Models': 3}\n",
            "{'Models': 'LightGBM+XGBoost+ExtraTrees', 'ROC-AUC': np.float64(0.6910633381184131), 'Num_Models': 3}\n",
            "{'Models': 'LightGBM+XGBoost+LogisticRegression', 'ROC-AUC': np.float64(0.6953727110395295), 'Num_Models': 3}\n",
            "{'Models': 'LightGBM+ExtraTrees+LogisticRegression', 'ROC-AUC': np.float64(0.6943013199817933), 'Num_Models': 3}\n",
            "{'Models': 'XGBoost+ExtraTrees+LogisticRegression', 'ROC-AUC': np.float64(0.695780259794825), 'Num_Models': 3}\n",
            "{'Models': 'CatBoost+LightGBM+XGBoost+ExtraTrees', 'ROC-AUC': np.float64(0.6913518434228494), 'Num_Models': 4}\n",
            "{'Models': 'CatBoost+LightGBM+XGBoost+LogisticRegression', 'ROC-AUC': np.float64(0.6950029760862715), 'Num_Models': 4}\n",
            "{'Models': 'CatBoost+LightGBM+ExtraTrees+LogisticRegression', 'ROC-AUC': np.float64(0.6921893491124259), 'Num_Models': 4}\n",
            "{'Models': 'CatBoost+XGBoost+ExtraTrees+LogisticRegression', 'ROC-AUC': np.float64(0.696156997304016), 'Num_Models': 4}\n",
            "{'Models': 'LightGBM+XGBoost+ExtraTrees+LogisticRegression', 'ROC-AUC': np.float64(0.6951318231154371), 'Num_Models': 4}\n",
            "{'Models': 'CatBoost+LightGBM+XGBoost+ExtraTrees+LogisticRegression', 'ROC-AUC': np.float64(0.6951864430517138), 'Num_Models': 5}\n",
            "\n",
            "🔹 Лучшие комбинации для Mortgage:\n",
            "+----+------------------------------------------------+-----------+--------------+\n",
            "|    | Models                                         |   ROC-AUC |   Num_Models |\n",
            "+====+================================================+===========+==============+\n",
            "|  5 | LightGBM+ExtraTrees                            |  0.943498 |            2 |\n",
            "+----+------------------------------------------------+-----------+--------------+\n",
            "| 18 | LightGBM+ExtraTrees+LogisticRegression         |  0.943326 |            3 |\n",
            "+----+------------------------------------------------+-----------+--------------+\n",
            "|  6 | LightGBM+LogisticRegression                    |  0.943182 |            2 |\n",
            "+----+------------------------------------------------+-----------+--------------+\n",
            "|  4 | LightGBM+XGBoost                               |  0.942524 |            2 |\n",
            "+----+------------------------------------------------+-----------+--------------+\n",
            "| 12 | CatBoost+LightGBM+LogisticRegression           |  0.942479 |            3 |\n",
            "+----+------------------------------------------------+-----------+--------------+\n",
            "| 17 | LightGBM+XGBoost+LogisticRegression            |  0.942379 |            3 |\n",
            "+----+------------------------------------------------+-----------+--------------+\n",
            "| 23 | CatBoost+XGBoost+ExtraTrees+LogisticRegression |  0.942361 |            4 |\n",
            "+----+------------------------------------------------+-----------+--------------+\n",
            "| 24 | LightGBM+XGBoost+ExtraTrees+LogisticRegression |  0.942334 |            4 |\n",
            "+----+------------------------------------------------+-----------+--------------+\n",
            "|  0 | CatBoost+LightGBM                              |  0.942181 |            2 |\n",
            "+----+------------------------------------------------+-----------+--------------+\n",
            "| 13 | CatBoost+XGBoost+ExtraTrees                    |  0.9421   |            3 |\n",
            "+----+------------------------------------------------+-----------+--------------+\n",
            "\n",
            "🔹 Лучшие комбинации для Pension:\n",
            "+----+---------------------------------------------------------+-----------+--------------+\n",
            "|    | Models                                                  |   ROC-AUC |   Num_Models |\n",
            "+====+=========================================================+===========+==============+\n",
            "| 16 | LightGBM+XGBoost+ExtraTrees                             |  0.779008 |            3 |\n",
            "+----+---------------------------------------------------------+-----------+--------------+\n",
            "| 25 | CatBoost+LightGBM+XGBoost+ExtraTrees+LogisticRegression |  0.778722 |            5 |\n",
            "+----+---------------------------------------------------------+-----------+--------------+\n",
            "|  2 | CatBoost+ExtraTrees                                     |  0.778659 |            2 |\n",
            "+----+---------------------------------------------------------+-----------+--------------+\n",
            "| 12 | CatBoost+LightGBM+LogisticRegression                    |  0.778606 |            3 |\n",
            "+----+---------------------------------------------------------+-----------+--------------+\n",
            "| 23 | CatBoost+XGBoost+ExtraTrees+LogisticRegression          |  0.778576 |            4 |\n",
            "+----+---------------------------------------------------------+-----------+--------------+\n",
            "| 24 | LightGBM+XGBoost+ExtraTrees+LogisticRegression          |  0.778556 |            4 |\n",
            "+----+---------------------------------------------------------+-----------+--------------+\n",
            "| 20 | CatBoost+LightGBM+XGBoost+ExtraTrees                    |  0.778502 |            4 |\n",
            "+----+---------------------------------------------------------+-----------+--------------+\n",
            "| 10 | CatBoost+LightGBM+XGBoost                               |  0.778485 |            3 |\n",
            "+----+---------------------------------------------------------+-----------+--------------+\n",
            "|  7 | XGBoost+ExtraTrees                                      |  0.778431 |            2 |\n",
            "+----+---------------------------------------------------------+-----------+--------------+\n",
            "| 22 | CatBoost+LightGBM+ExtraTrees+LogisticRegression         |  0.778365 |            4 |\n",
            "+----+---------------------------------------------------------+-----------+--------------+\n",
            "\n",
            "🔹 Лучшие комбинации для Savings:\n",
            "+----+---------------------------------------------------------+-----------+--------------+\n",
            "|    | Models                                                  |   ROC-AUC |   Num_Models |\n",
            "+====+=========================================================+===========+==============+\n",
            "| 23 | CatBoost+XGBoost+ExtraTrees+LogisticRegression          |  0.696157 |            4 |\n",
            "+----+---------------------------------------------------------+-----------+--------------+\n",
            "| 14 | CatBoost+XGBoost+LogisticRegression                     |  0.696144 |            3 |\n",
            "+----+---------------------------------------------------------+-----------+--------------+\n",
            "|  8 | XGBoost+LogisticRegression                              |  0.696128 |            2 |\n",
            "+----+---------------------------------------------------------+-----------+--------------+\n",
            "| 19 | XGBoost+ExtraTrees+LogisticRegression                   |  0.69578  |            3 |\n",
            "+----+---------------------------------------------------------+-----------+--------------+\n",
            "|  6 | LightGBM+LogisticRegression                             |  0.695576 |            2 |\n",
            "+----+---------------------------------------------------------+-----------+--------------+\n",
            "| 17 | LightGBM+XGBoost+LogisticRegression                     |  0.695373 |            3 |\n",
            "+----+---------------------------------------------------------+-----------+--------------+\n",
            "| 25 | CatBoost+LightGBM+XGBoost+ExtraTrees+LogisticRegression |  0.695186 |            5 |\n",
            "+----+---------------------------------------------------------+-----------+--------------+\n",
            "|  9 | ExtraTrees+LogisticRegression                           |  0.695181 |            2 |\n",
            "+----+---------------------------------------------------------+-----------+--------------+\n",
            "| 24 | LightGBM+XGBoost+ExtraTrees+LogisticRegression          |  0.695132 |            4 |\n",
            "+----+---------------------------------------------------------+-----------+--------------+\n",
            "| 21 | CatBoost+LightGBM+XGBoost+LogisticRegression            |  0.695003 |            4 |\n",
            "+----+---------------------------------------------------------+-----------+--------------+\n"
          ]
        }
      ]
    },
    {
      "cell_type": "code",
      "source": [
        "# Базовые модели\n",
        "base_models_1 = {\n",
        "    \"CatBoost\": CatBoostClassifier(verbose=0, random_state=42),\n",
        "    \"LightGBM\": LGBMClassifier(verbose=-1,random_state=42),\n",
        "}\n",
        "\n",
        "# Мета-модель\n",
        "meta_model = LogisticRegression()\n",
        "\n",
        "results = {}\n",
        "for target_name, (X_train, X_test, y_train, y_test) in targets.items():\n",
        "    acc, auc = evaluate_stacking(X_train, X_test, y_train, y_test, models, meta_model)\n",
        "    results[target_name] = {\"Accuracy\": acc, \"ROC-AUC\": auc}\n",
        "\n",
        "# Вывод результатов\n",
        "for target, metrics in results.items():\n",
        "    print(f\"{target}: Accuracy = {metrics['Accuracy']:.4f}, ROC-AUC = {metrics['ROC-AUC']:.4f}\")"
      ],
      "metadata": {
        "colab": {
          "base_uri": "https://localhost:8080/"
        },
        "id": "HNnd8FLfp7e2",
        "outputId": "9e5adb20-9864-4bfe-bf89-04ae401a09fa"
      },
      "execution_count": 9,
      "outputs": [
        {
          "output_type": "stream",
          "name": "stdout",
          "text": [
            "Mortgage: Accuracy = 0.7598, ROC-AUC = 0.9395\n",
            "Pension: Accuracy = 0.5540, ROC-AUC = 0.7569\n",
            "Savings: Accuracy = 0.5521, ROC-AUC = 0.6725\n"
          ]
        }
      ]
    },
    {
      "cell_type": "code",
      "source": [
        "# Базовые модели\n",
        "base_models_1 = {\n",
        "    \"CatBoost\": CatBoostClassifier(verbose=0, random_state=42),\n",
        "    \"LightGBM\": LGBMClassifier(verbose=-1,random_state=42),\n",
        "    \"ExtraTrees\": ExtraTreesClassifier(n_estimators=100, random_state=42),\n",
        "}\n",
        "\n",
        "# Мета-модель\n",
        "meta_model = LogisticRegression()\n",
        "\n",
        "results = {}\n",
        "for target_name, (X_train, X_test, y_train, y_test) in targets.items():\n",
        "    acc, auc = evaluate_stacking(X_train, X_test, y_train, y_test, base_models_1, meta_model)\n",
        "    results[target_name] = {\"Accuracy\": acc, \"ROC-AUC\": auc}\n",
        "\n",
        "# Вывод результатов\n",
        "for target, metrics in results.items():\n",
        "    print(f\"{target}: Accuracy = {metrics['Accuracy']:.4f}, ROC-AUC = {metrics['ROC-AUC']:.4f}\")"
      ],
      "metadata": {
        "colab": {
          "base_uri": "https://localhost:8080/"
        },
        "id": "BE178g9xqovC",
        "outputId": "c6493520-9fce-46a7-bd19-0d975980bf12"
      },
      "execution_count": 12,
      "outputs": [
        {
          "output_type": "stream",
          "name": "stdout",
          "text": [
            "Mortgage: Accuracy = 0.7553, ROC-AUC = 0.9405\n",
            "Pension: Accuracy = 0.5479, ROC-AUC = 0.7594\n",
            "Savings: Accuracy = 0.5562, ROC-AUC = 0.6727\n"
          ]
        }
      ]
    },
    {
      "cell_type": "code",
      "source": [
        "def optimize(meta_model, X_train, y_train, X_valid, y_valid, n_trials=10):\n",
        "    def objective(trial):\n",
        "        # LightGBM параметры\n",
        "        params_lgbm = {\n",
        "            'objective': 'binary',\n",
        "            'metric': 'auc',\n",
        "            'boosting_type': 'gbdt',\n",
        "            'n_estimators': trial.suggest_int('lgbm_n_estimators', 50, 1400),\n",
        "            'learning_rate': trial.suggest_float('lgbm_learning_rate', 0.01, 0.3, log=True),\n",
        "            'num_leaves': trial.suggest_int('lgbm_num_leaves', 20, 300),\n",
        "            'max_depth': trial.suggest_int('lgbm_max_depth', 3, 12),\n",
        "            'min_child_samples': trial.suggest_int('lgbm_min_child_samples', 5, 100),\n",
        "            'subsample': trial.suggest_float('lgbm_subsample', 0.5, 1.0),\n",
        "            'colsample_bytree': trial.suggest_float('lgbm_colsample_bytree', 0.5, 1.0),\n",
        "            'reg_alpha': trial.suggest_float('lgbm_reg_alpha', 0.0, 10.0),\n",
        "            'reg_lambda': trial.suggest_float('lgbm_reg_lambda', 0.0, 10.0),\n",
        "            'random_state': 42,\n",
        "            'n_jobs': -1,\n",
        "            'verbosity': -1,\n",
        "        }\n",
        "\n",
        "        # CatBoost параметры\n",
        "        params_catboost = {\n",
        "            'iterations': trial.suggest_int(\"cat_iterations\", 200, 1400),\n",
        "            'learning_rate': trial.suggest_float('cat_learning_rate', 0.01, 0.3, log=True),\n",
        "            'l2_leaf_reg': trial.suggest_float('cat_l2_leaf_reg', 1e-3, 10.0, log=True),\n",
        "            'random_strength': trial.suggest_float('cat_random_strength', 1e-3, 10.0, log=True),\n",
        "            'bagging_temperature': trial.suggest_float('cat_bagging_temperature', 0.0, 1.0),\n",
        "            'border_count': trial.suggest_int('cat_border_count', 32, 255),\n",
        "            \"colsample_bylevel\": trial.suggest_float(\"cat_colsample_bylevel\", 0.2, 0.7),\n",
        "            \"max_depth\": trial.suggest_int(\"cat_depth\", 1, 8),\n",
        "            \"boosting_type\": trial.suggest_categorical(\"cat_boosting_type\", [\"Ordered\", \"Plain\"]),\n",
        "            'verbose': False,\n",
        "            'random_state': 42,\n",
        "        }\n",
        "\n",
        "        # XGBoost параметры\n",
        "        params_xg = {\n",
        "            'n_estimators': trial.suggest_int('xgb_n_estimators', 50, 1500),\n",
        "            'max_depth': trial.suggest_int('xgb_max_depth', 3, 15),\n",
        "            'learning_rate': trial.suggest_float('xgb_learning_rate', 0.01, 0.3),\n",
        "            'subsample': trial.suggest_float('xgb_subsample', 0.5, 1.0),\n",
        "            'colsample_bytree': trial.suggest_float('xgb_colsample_bytree', 0.5, 1.0),\n",
        "            'min_child_weight': trial.suggest_int('xgb_min_child_weight', 1, 10),\n",
        "            'gamma': trial.suggest_float('xgb_gamma', 0, 5),\n",
        "            'reg_alpha': trial.suggest_float('xgb_reg_alpha', 0, 10),\n",
        "            'reg_lambda': trial.suggest_float('xgb_reg_lambda', 0, 10),\n",
        "            'scale_pos_weight': trial.suggest_float('xgb_scale_pos_weight', 1, 10),\n",
        "            'tree_method': 'hist',\n",
        "            'random_state': 42,\n",
        "        }\n",
        "\n",
        "        models = {\n",
        "            \"CatBoost\": CatBoostClassifier(**params_catboost),\n",
        "            \"LightGBM\": LGBMClassifier(**params_lgbm),\n",
        "            \"XGBoost\": XGBClassifier(**params_xg)\n",
        "        }\n",
        "\n",
        "        stacking_model = StackingClassifier(\n",
        "            estimators=list(models.items()),\n",
        "            final_estimator=meta_model,\n",
        "            cv=5,\n",
        "            stack_method=\"predict_proba\"\n",
        "        )\n",
        "\n",
        "        stacking_model.fit(X_train, y_train)\n",
        "        y_pred_proba = stacking_model.predict_proba(X_valid)[:, 1]\n",
        "        return roc_auc_score(y_valid, y_pred_proba)\n",
        "\n",
        "    study = optuna.create_study(direction='maximize')\n",
        "    study.optimize(objective, n_trials=n_trials)\n",
        "\n",
        "    # Группируем параметры по моделям\n",
        "    best_params = {\n",
        "        'LightGBM': {k.replace('lgbm_', ''): v for k, v in study.best_params.items() if k.startswith('lgbm_')},\n",
        "        'CatBoost': {k.replace('cat_', ''): v for k, v in study.best_params.items() if k.startswith('cat_')},\n",
        "        'XGBoost': {k.replace('xgb_', ''): v for k, v in study.best_params.items() if k.startswith('xgb_')}\n",
        "    }\n",
        "\n",
        "    return best_params"
      ],
      "metadata": {
        "id": "RjgDV28StsZU"
      },
      "execution_count": 26,
      "outputs": []
    },
    {
      "cell_type": "code",
      "source": [
        "X_train_m, X_valid_m, y_train_m, y_valid_m = train_test_split(X_train_m, y_train_m, test_size = 0.15, stratify=y_train_m)\n",
        "X_train_p, X_valid_p, y_train_p, y_valid_p = train_test_split(X_train_p, y_train_p, test_size = 0.15, stratify=y_train_p)\n",
        "X_train_s, X_valid_s, y_train_s, y_valid_s = train_test_split(X_train_s, y_train_s, test_size = 0.15, stratify=y_train_s)"
      ],
      "metadata": {
        "id": "43vtHRtN0vEA"
      },
      "execution_count": 24,
      "outputs": []
    },
    {
      "cell_type": "markdown",
      "source": [
        "Pension"
      ],
      "metadata": {
        "id": "rjtUYp5o07kF"
      }
    },
    {
      "cell_type": "code",
      "source": [
        "meta_model = LogisticRegression()\n",
        "best_stacking = optimize(meta_model, X_train_p, y_train_p, X_valid_p, y_valid_p)\n",
        "best_stacking"
      ],
      "metadata": {
        "colab": {
          "base_uri": "https://localhost:8080/"
        },
        "id": "ZVniB-NT0GfP",
        "outputId": "ebe89389-abb3-43c3-a407-cf3cd687e0ef"
      },
      "execution_count": 27,
      "outputs": [
        {
          "output_type": "stream",
          "name": "stderr",
          "text": [
            "[I 2025-05-02 11:55:06,866] A new study created in memory with name: no-name-7be5c71d-8cc7-48bb-a4a2-3417d8d371bf\n",
            "[I 2025-05-02 11:55:18,204] Trial 0 finished with value: 0.7576946219697868 and parameters: {'lgbm_n_estimators': 1162, 'lgbm_learning_rate': 0.09321379091914742, 'lgbm_num_leaves': 32, 'lgbm_max_depth': 6, 'lgbm_min_child_samples': 46, 'lgbm_subsample': 0.8250467001169176, 'lgbm_colsample_bytree': 0.5770543438286264, 'lgbm_reg_alpha': 3.2537975553189016, 'lgbm_reg_lambda': 6.071629707453933, 'cat_iterations': 362, 'cat_learning_rate': 0.2938470962712474, 'cat_l2_leaf_reg': 0.0019474337570670882, 'cat_random_strength': 4.30158799289341, 'cat_bagging_temperature': 0.18525968786043778, 'cat_border_count': 124, 'cat_colsample_bylevel': 0.4161400414294646, 'cat_depth': 3, 'cat_boosting_type': 'Plain', 'xgb_n_estimators': 472, 'xgb_max_depth': 10, 'xgb_learning_rate': 0.29309710680731865, 'xgb_subsample': 0.779642379588581, 'xgb_colsample_bytree': 0.8089896646818704, 'xgb_min_child_weight': 10, 'xgb_gamma': 4.3969849764934, 'xgb_reg_alpha': 9.893081648506753, 'xgb_reg_lambda': 8.60671871084438, 'xgb_scale_pos_weight': 1.583866182096052}. Best is trial 0 with value: 0.7576946219697868.\n",
            "[I 2025-05-02 11:55:33,083] Trial 1 finished with value: 0.7537698177541551 and parameters: {'lgbm_n_estimators': 817, 'lgbm_learning_rate': 0.078293564488941, 'lgbm_num_leaves': 47, 'lgbm_max_depth': 4, 'lgbm_min_child_samples': 65, 'lgbm_subsample': 0.5931786070986822, 'lgbm_colsample_bytree': 0.932778115784551, 'lgbm_reg_alpha': 9.923889320642829, 'lgbm_reg_lambda': 8.318578278603411, 'cat_iterations': 934, 'cat_learning_rate': 0.2998760924818281, 'cat_l2_leaf_reg': 0.0054806240422606844, 'cat_random_strength': 0.408989843309042, 'cat_bagging_temperature': 0.6880633849202143, 'cat_border_count': 84, 'cat_colsample_bylevel': 0.6320949144514327, 'cat_depth': 5, 'cat_boosting_type': 'Plain', 'xgb_n_estimators': 182, 'xgb_max_depth': 11, 'xgb_learning_rate': 0.21640694361724935, 'xgb_subsample': 0.8150293561176088, 'xgb_colsample_bytree': 0.8270616229597912, 'xgb_min_child_weight': 1, 'xgb_gamma': 3.601901920527242, 'xgb_reg_alpha': 7.235939839635403, 'xgb_reg_lambda': 4.479312980397897, 'xgb_scale_pos_weight': 9.374677309317443}. Best is trial 0 with value: 0.7576946219697868.\n",
            "[I 2025-05-02 11:56:45,666] Trial 2 finished with value: 0.75199203187251 and parameters: {'lgbm_n_estimators': 558, 'lgbm_learning_rate': 0.060255462081292385, 'lgbm_num_leaves': 216, 'lgbm_max_depth': 9, 'lgbm_min_child_samples': 23, 'lgbm_subsample': 0.9859170776781925, 'lgbm_colsample_bytree': 0.6908107096407765, 'lgbm_reg_alpha': 3.3729621252975264, 'lgbm_reg_lambda': 7.301174816625636, 'cat_iterations': 1183, 'cat_learning_rate': 0.09656707728700802, 'cat_l2_leaf_reg': 0.0055144098224100884, 'cat_random_strength': 0.017824751844227927, 'cat_bagging_temperature': 0.5820551959504912, 'cat_border_count': 66, 'cat_colsample_bylevel': 0.5690277066099226, 'cat_depth': 6, 'cat_boosting_type': 'Ordered', 'xgb_n_estimators': 967, 'xgb_max_depth': 14, 'xgb_learning_rate': 0.23016931778377545, 'xgb_subsample': 0.6489910054876946, 'xgb_colsample_bytree': 0.6561649262055427, 'xgb_min_child_weight': 2, 'xgb_gamma': 4.338587233429129, 'xgb_reg_alpha': 9.944122711462262, 'xgb_reg_lambda': 6.805493592756827, 'xgb_scale_pos_weight': 3.796033525182888}. Best is trial 0 with value: 0.7576946219697868.\n",
            "[I 2025-05-02 11:58:03,962] Trial 3 finished with value: 0.7620342428911356 and parameters: {'lgbm_n_estimators': 1296, 'lgbm_learning_rate': 0.04319837725449642, 'lgbm_num_leaves': 39, 'lgbm_max_depth': 3, 'lgbm_min_child_samples': 67, 'lgbm_subsample': 0.8730498956876069, 'lgbm_colsample_bytree': 0.7626074410659165, 'lgbm_reg_alpha': 7.980290491436025, 'lgbm_reg_lambda': 2.463821499173208, 'cat_iterations': 1147, 'cat_learning_rate': 0.061122125116367235, 'cat_l2_leaf_reg': 0.0024097843044114378, 'cat_random_strength': 0.007568909245176004, 'cat_bagging_temperature': 0.6577039469224645, 'cat_border_count': 233, 'cat_colsample_bylevel': 0.4872587829334633, 'cat_depth': 6, 'cat_boosting_type': 'Ordered', 'xgb_n_estimators': 854, 'xgb_max_depth': 8, 'xgb_learning_rate': 0.2356928416385785, 'xgb_subsample': 0.6728840728750967, 'xgb_colsample_bytree': 0.7542727076520067, 'xgb_min_child_weight': 10, 'xgb_gamma': 0.2156438571350766, 'xgb_reg_alpha': 3.056312656481536, 'xgb_reg_lambda': 4.798472201652376, 'xgb_scale_pos_weight': 8.497685576273852}. Best is trial 3 with value: 0.7620342428911356.\n",
            "[I 2025-05-02 11:58:24,773] Trial 4 finished with value: 0.7420045219579349 and parameters: {'lgbm_n_estimators': 1345, 'lgbm_learning_rate': 0.02640182241251926, 'lgbm_num_leaves': 287, 'lgbm_max_depth': 9, 'lgbm_min_child_samples': 31, 'lgbm_subsample': 0.6935503214331775, 'lgbm_colsample_bytree': 0.6596103328300683, 'lgbm_reg_alpha': 0.6445786048394619, 'lgbm_reg_lambda': 9.885761367380622, 'cat_iterations': 251, 'cat_learning_rate': 0.1267089676850557, 'cat_l2_leaf_reg': 0.2244775374137362, 'cat_random_strength': 0.09596707215188188, 'cat_bagging_temperature': 0.9218238477614855, 'cat_border_count': 97, 'cat_colsample_bylevel': 0.5111634581019792, 'cat_depth': 4, 'cat_boosting_type': 'Plain', 'xgb_n_estimators': 1165, 'xgb_max_depth': 15, 'xgb_learning_rate': 0.2646752162650338, 'xgb_subsample': 0.9617733757953786, 'xgb_colsample_bytree': 0.8842382314367113, 'xgb_min_child_weight': 10, 'xgb_gamma': 0.972792955368908, 'xgb_reg_alpha': 1.8282309251245643, 'xgb_reg_lambda': 1.264558410948221, 'xgb_scale_pos_weight': 9.272955638262916}. Best is trial 3 with value: 0.7620342428911356.\n",
            "[I 2025-05-02 11:58:55,632] Trial 5 finished with value: 0.7499316236199368 and parameters: {'lgbm_n_estimators': 799, 'lgbm_learning_rate': 0.27006258008268375, 'lgbm_num_leaves': 120, 'lgbm_max_depth': 9, 'lgbm_min_child_samples': 82, 'lgbm_subsample': 0.9143244291645488, 'lgbm_colsample_bytree': 0.7645345812984137, 'lgbm_reg_alpha': 5.006533452452118, 'lgbm_reg_lambda': 7.024951872087881, 'cat_iterations': 532, 'cat_learning_rate': 0.010209711402010779, 'cat_l2_leaf_reg': 0.042351460083303365, 'cat_random_strength': 0.00686006478006049, 'cat_bagging_temperature': 0.8886467075269193, 'cat_border_count': 139, 'cat_colsample_bylevel': 0.2055911372727422, 'cat_depth': 3, 'cat_boosting_type': 'Ordered', 'xgb_n_estimators': 1295, 'xgb_max_depth': 7, 'xgb_learning_rate': 0.06124602893155389, 'xgb_subsample': 0.6633153500266853, 'xgb_colsample_bytree': 0.9806254453971588, 'xgb_min_child_weight': 5, 'xgb_gamma': 1.3538789030171654, 'xgb_reg_alpha': 8.715312485519908, 'xgb_reg_lambda': 7.9928496050505515, 'xgb_scale_pos_weight': 6.055581826436862}. Best is trial 3 with value: 0.7620342428911356.\n",
            "[I 2025-05-02 11:59:33,064] Trial 6 finished with value: 0.7455783274225752 and parameters: {'lgbm_n_estimators': 1306, 'lgbm_learning_rate': 0.09624927445757057, 'lgbm_num_leaves': 120, 'lgbm_max_depth': 9, 'lgbm_min_child_samples': 76, 'lgbm_subsample': 0.6259877155879687, 'lgbm_colsample_bytree': 0.9037517403144618, 'lgbm_reg_alpha': 6.2957104145950105, 'lgbm_reg_lambda': 6.4979881786466, 'cat_iterations': 650, 'cat_learning_rate': 0.16312187725024646, 'cat_l2_leaf_reg': 0.006022613759639709, 'cat_random_strength': 0.018963851965976435, 'cat_bagging_temperature': 0.6823248008989748, 'cat_border_count': 186, 'cat_colsample_bylevel': 0.32964953867763935, 'cat_depth': 5, 'cat_boosting_type': 'Ordered', 'xgb_n_estimators': 1249, 'xgb_max_depth': 14, 'xgb_learning_rate': 0.06164136859568919, 'xgb_subsample': 0.7447951904931414, 'xgb_colsample_bytree': 0.5200658545889734, 'xgb_min_child_weight': 7, 'xgb_gamma': 2.3919156278303815, 'xgb_reg_alpha': 3.5729516000653962, 'xgb_reg_lambda': 2.5638230741746835, 'xgb_scale_pos_weight': 3.983870586866691}. Best is trial 3 with value: 0.7620342428911356.\n",
            "[I 2025-05-02 11:59:39,577] Trial 7 finished with value: 0.756928806513078 and parameters: {'lgbm_n_estimators': 74, 'lgbm_learning_rate': 0.1669868336422371, 'lgbm_num_leaves': 229, 'lgbm_max_depth': 4, 'lgbm_min_child_samples': 92, 'lgbm_subsample': 0.9878414518343757, 'lgbm_colsample_bytree': 0.9356812956766233, 'lgbm_reg_alpha': 7.131572815284387, 'lgbm_reg_lambda': 0.07912344678326244, 'cat_iterations': 223, 'cat_learning_rate': 0.048895409739733865, 'cat_l2_leaf_reg': 0.0016960097824737818, 'cat_random_strength': 0.01439185728351176, 'cat_bagging_temperature': 0.33109848377627593, 'cat_border_count': 166, 'cat_colsample_bylevel': 0.5735848845007823, 'cat_depth': 5, 'cat_boosting_type': 'Plain', 'xgb_n_estimators': 1032, 'xgb_max_depth': 5, 'xgb_learning_rate': 0.057807035752135236, 'xgb_subsample': 0.9123491319915938, 'xgb_colsample_bytree': 0.5891946185922788, 'xgb_min_child_weight': 9, 'xgb_gamma': 4.815860061138297, 'xgb_reg_alpha': 9.639149178611348, 'xgb_reg_lambda': 0.18391416125388638, 'xgb_scale_pos_weight': 2.043496305707121}. Best is trial 3 with value: 0.7620342428911356.\n",
            "[I 2025-05-02 11:59:53,863] Trial 8 finished with value: 0.7550552936993444 and parameters: {'lgbm_n_estimators': 249, 'lgbm_learning_rate': 0.017068631734891152, 'lgbm_num_leaves': 67, 'lgbm_max_depth': 12, 'lgbm_min_child_samples': 24, 'lgbm_subsample': 0.5416921394619452, 'lgbm_colsample_bytree': 0.7293613490351742, 'lgbm_reg_alpha': 1.5161517002132807, 'lgbm_reg_lambda': 4.132663180045155, 'cat_iterations': 707, 'cat_learning_rate': 0.013444246476578636, 'cat_l2_leaf_reg': 0.17478315748294962, 'cat_random_strength': 0.0013367387930125103, 'cat_bagging_temperature': 0.29031436394140453, 'cat_border_count': 143, 'cat_colsample_bylevel': 0.638232525686702, 'cat_depth': 2, 'cat_boosting_type': 'Plain', 'xgb_n_estimators': 1216, 'xgb_max_depth': 14, 'xgb_learning_rate': 0.2346530839436126, 'xgb_subsample': 0.8072390160923992, 'xgb_colsample_bytree': 0.9427898024829378, 'xgb_min_child_weight': 8, 'xgb_gamma': 0.4570424691930497, 'xgb_reg_alpha': 7.4825224874451575, 'xgb_reg_lambda': 6.143466175191525, 'xgb_scale_pos_weight': 2.145491874603266}. Best is trial 3 with value: 0.7620342428911356.\n",
            "[I 2025-05-02 12:00:17,056] Trial 9 finished with value: 0.7447714861378285 and parameters: {'lgbm_n_estimators': 567, 'lgbm_learning_rate': 0.024009016260796538, 'lgbm_num_leaves': 280, 'lgbm_max_depth': 11, 'lgbm_min_child_samples': 70, 'lgbm_subsample': 0.5992597421357251, 'lgbm_colsample_bytree': 0.6986564268350326, 'lgbm_reg_alpha': 3.5282120188018284, 'lgbm_reg_lambda': 8.195894989318722, 'cat_iterations': 1109, 'cat_learning_rate': 0.06841181761445582, 'cat_l2_leaf_reg': 1.1205674288555023, 'cat_random_strength': 0.3708481873943661, 'cat_bagging_temperature': 0.7351314346054585, 'cat_border_count': 183, 'cat_colsample_bylevel': 0.4220998177761732, 'cat_depth': 4, 'cat_boosting_type': 'Plain', 'xgb_n_estimators': 1390, 'xgb_max_depth': 10, 'xgb_learning_rate': 0.13323981433945356, 'xgb_subsample': 0.7252606557206223, 'xgb_colsample_bytree': 0.9654458650273274, 'xgb_min_child_weight': 1, 'xgb_gamma': 1.8250326696193186, 'xgb_reg_alpha': 0.020961136467462227, 'xgb_reg_lambda': 8.246060790906112, 'xgb_scale_pos_weight': 5.725757871451933}. Best is trial 3 with value: 0.7620342428911356.\n"
          ]
        },
        {
          "output_type": "execute_result",
          "data": {
            "text/plain": [
              "{'LightGBM': {'n_estimators': 1296,\n",
              "  'learning_rate': 0.04319837725449642,\n",
              "  'num_leaves': 39,\n",
              "  'max_depth': 3,\n",
              "  'min_child_samples': 67,\n",
              "  'subsample': 0.8730498956876069,\n",
              "  'colsample_bytree': 0.7626074410659165,\n",
              "  'reg_alpha': 7.980290491436025,\n",
              "  'reg_lambda': 2.463821499173208},\n",
              " 'CatBoost': {'iterations': 1147,\n",
              "  'learning_rate': 0.061122125116367235,\n",
              "  'l2_leaf_reg': 0.0024097843044114378,\n",
              "  'random_strength': 0.007568909245176004,\n",
              "  'bagging_temperature': 0.6577039469224645,\n",
              "  'border_count': 233,\n",
              "  'colsample_bylevel': 0.4872587829334633,\n",
              "  'depth': 6,\n",
              "  'boosting_type': 'Ordered'},\n",
              " 'XGBoost': {'n_estimators': 854,\n",
              "  'max_depth': 8,\n",
              "  'learning_rate': 0.2356928416385785,\n",
              "  'subsample': 0.6728840728750967,\n",
              "  'colsample_bytree': 0.7542727076520067,\n",
              "  'min_child_weight': 10,\n",
              "  'gamma': 0.2156438571350766,\n",
              "  'reg_alpha': 3.056312656481536,\n",
              "  'reg_lambda': 4.798472201652376,\n",
              "  'scale_pos_weight': 8.497685576273852}}"
            ]
          },
          "metadata": {},
          "execution_count": 27
        }
      ]
    },
    {
      "cell_type": "code",
      "source": [
        "meta_model = LogisticRegression()\n",
        "best_stacking_m = optimize(meta_model, X_train_m, y_train_m, X_valid_m, y_valid_m, n_trials=20)\n",
        "best_stacking_m"
      ],
      "metadata": {
        "colab": {
          "base_uri": "https://localhost:8080/"
        },
        "id": "oM7KyqTz6klq",
        "outputId": "5f6fa40b-d44f-411b-e2c9-5d61d33e53e3"
      },
      "execution_count": 35,
      "outputs": [
        {
          "output_type": "stream",
          "name": "stderr",
          "text": [
            "[I 2025-05-02 12:14:22,049] A new study created in memory with name: no-name-4eb5b2a4-35ad-48fc-b0df-bc52c5462ed1\n",
            "[I 2025-05-02 12:15:52,787] Trial 0 finished with value: 0.9394333230674469 and parameters: {'lgbm_n_estimators': 1182, 'lgbm_learning_rate': 0.01009249405004522, 'lgbm_num_leaves': 163, 'lgbm_max_depth': 3, 'lgbm_min_child_samples': 26, 'lgbm_subsample': 0.8550560960526209, 'lgbm_colsample_bytree': 0.6904067389115587, 'lgbm_reg_alpha': 3.726407758746589, 'lgbm_reg_lambda': 2.688843350907064, 'cat_iterations': 1180, 'cat_learning_rate': 0.21806610364234755, 'cat_l2_leaf_reg': 0.049756191045619506, 'cat_random_strength': 0.058119390982250274, 'cat_bagging_temperature': 0.2562049032052469, 'cat_border_count': 146, 'cat_colsample_bylevel': 0.5494319141638592, 'cat_depth': 7, 'cat_boosting_type': 'Ordered', 'xgb_n_estimators': 297, 'xgb_max_depth': 8, 'xgb_learning_rate': 0.09876590791894875, 'xgb_subsample': 0.7113620282505199, 'xgb_colsample_bytree': 0.6835592572800222, 'xgb_min_child_weight': 7, 'xgb_gamma': 2.145213910331578, 'xgb_reg_alpha': 1.3227675385313908, 'xgb_reg_lambda': 8.999159572116998, 'xgb_scale_pos_weight': 7.485543894441564}. Best is trial 0 with value: 0.9394333230674469.\n",
            "[I 2025-05-02 12:16:31,021] Trial 1 finished with value: 0.9394333230674469 and parameters: {'lgbm_n_estimators': 1045, 'lgbm_learning_rate': 0.033780452164539246, 'lgbm_num_leaves': 130, 'lgbm_max_depth': 8, 'lgbm_min_child_samples': 75, 'lgbm_subsample': 0.5491853358476284, 'lgbm_colsample_bytree': 0.8075634196501731, 'lgbm_reg_alpha': 7.397038270668125, 'lgbm_reg_lambda': 1.246361467389292, 'cat_iterations': 850, 'cat_learning_rate': 0.2129924689680073, 'cat_l2_leaf_reg': 0.029502124635548164, 'cat_random_strength': 0.006267406839575726, 'cat_bagging_temperature': 0.8480246606949479, 'cat_border_count': 243, 'cat_colsample_bylevel': 0.588045119311216, 'cat_depth': 2, 'cat_boosting_type': 'Ordered', 'xgb_n_estimators': 338, 'xgb_max_depth': 15, 'xgb_learning_rate': 0.07991362174338393, 'xgb_subsample': 0.9358834654209496, 'xgb_colsample_bytree': 0.8334072158385534, 'xgb_min_child_weight': 10, 'xgb_gamma': 1.1221656176989503, 'xgb_reg_alpha': 0.2513361661679814, 'xgb_reg_lambda': 0.12893283733272587, 'xgb_scale_pos_weight': 5.407757902162515}. Best is trial 0 with value: 0.9394333230674469.\n",
            "[I 2025-05-02 12:17:14,120] Trial 2 finished with value: 0.9424822913458578 and parameters: {'lgbm_n_estimators': 913, 'lgbm_learning_rate': 0.06504397786233806, 'lgbm_num_leaves': 73, 'lgbm_max_depth': 7, 'lgbm_min_child_samples': 61, 'lgbm_subsample': 0.9481729372935134, 'lgbm_colsample_bytree': 0.5875628859063371, 'lgbm_reg_alpha': 9.494950640131158, 'lgbm_reg_lambda': 7.857356997294632, 'cat_iterations': 921, 'cat_learning_rate': 0.0384143592036891, 'cat_l2_leaf_reg': 0.06951942268240453, 'cat_random_strength': 0.0013818135611871874, 'cat_bagging_temperature': 0.41921375464967203, 'cat_border_count': 70, 'cat_colsample_bylevel': 0.45505499084871814, 'cat_depth': 2, 'cat_boosting_type': 'Ordered', 'xgb_n_estimators': 1320, 'xgb_max_depth': 9, 'xgb_learning_rate': 0.0528937045351248, 'xgb_subsample': 0.6161614740071096, 'xgb_colsample_bytree': 0.8651816088788058, 'xgb_min_child_weight': 4, 'xgb_gamma': 3.087512156517001, 'xgb_reg_alpha': 1.9779821653861662, 'xgb_reg_lambda': 0.4354421766818761, 'xgb_scale_pos_weight': 7.501755186713645}. Best is trial 2 with value: 0.9424822913458578.\n",
            "[I 2025-05-02 12:17:27,979] Trial 3 finished with value: 0.9393286110255621 and parameters: {'lgbm_n_estimators': 825, 'lgbm_learning_rate': 0.046147971027046555, 'lgbm_num_leaves': 122, 'lgbm_max_depth': 6, 'lgbm_min_child_samples': 73, 'lgbm_subsample': 0.8877376103157557, 'lgbm_colsample_bytree': 0.7090022669780889, 'lgbm_reg_alpha': 7.764647625597405, 'lgbm_reg_lambda': 3.1305218490372977, 'cat_iterations': 231, 'cat_learning_rate': 0.11528495443854753, 'cat_l2_leaf_reg': 0.025541832695227043, 'cat_random_strength': 0.005738541186335517, 'cat_bagging_temperature': 0.6319337082244766, 'cat_border_count': 33, 'cat_colsample_bylevel': 0.5468379458689887, 'cat_depth': 3, 'cat_boosting_type': 'Ordered', 'xgb_n_estimators': 605, 'xgb_max_depth': 15, 'xgb_learning_rate': 0.059261928668960365, 'xgb_subsample': 0.8515726643488479, 'xgb_colsample_bytree': 0.7886658143549927, 'xgb_min_child_weight': 8, 'xgb_gamma': 3.0747004966522913, 'xgb_reg_alpha': 0.39648880351078386, 'xgb_reg_lambda': 2.940866011081993, 'xgb_scale_pos_weight': 4.200448389238867}. Best is trial 2 with value: 0.9424822913458578.\n",
            "[I 2025-05-02 12:17:58,392] Trial 4 finished with value: 0.9412565445026178 and parameters: {'lgbm_n_estimators': 236, 'lgbm_learning_rate': 0.013137143768944372, 'lgbm_num_leaves': 272, 'lgbm_max_depth': 8, 'lgbm_min_child_samples': 49, 'lgbm_subsample': 0.5350645522987019, 'lgbm_colsample_bytree': 0.8885899839336138, 'lgbm_reg_alpha': 6.753505117752048, 'lgbm_reg_lambda': 3.0189077466198055, 'cat_iterations': 638, 'cat_learning_rate': 0.04480652302265313, 'cat_l2_leaf_reg': 0.2568057700759579, 'cat_random_strength': 0.0035139322409111855, 'cat_bagging_temperature': 0.6814619472756205, 'cat_border_count': 140, 'cat_colsample_bylevel': 0.6657073616300679, 'cat_depth': 2, 'cat_boosting_type': 'Ordered', 'xgb_n_estimators': 596, 'xgb_max_depth': 10, 'xgb_learning_rate': 0.08958888585804363, 'xgb_subsample': 0.8272387019847711, 'xgb_colsample_bytree': 0.8937189339572145, 'xgb_min_child_weight': 4, 'xgb_gamma': 1.9123674152398769, 'xgb_reg_alpha': 5.422754864024397, 'xgb_reg_lambda': 2.2964391301896248, 'xgb_scale_pos_weight': 8.065814668797174}. Best is trial 2 with value: 0.9424822913458578.\n",
            "[I 2025-05-02 12:18:35,890] Trial 5 finished with value: 0.9405913150600553 and parameters: {'lgbm_n_estimators': 1289, 'lgbm_learning_rate': 0.017267800731058144, 'lgbm_num_leaves': 270, 'lgbm_max_depth': 7, 'lgbm_min_child_samples': 82, 'lgbm_subsample': 0.5626008697422412, 'lgbm_colsample_bytree': 0.6835454193325365, 'lgbm_reg_alpha': 4.65791230102487, 'lgbm_reg_lambda': 4.790966203719183, 'cat_iterations': 710, 'cat_learning_rate': 0.025840282123186196, 'cat_l2_leaf_reg': 0.4595504616482229, 'cat_random_strength': 0.2953365464941527, 'cat_bagging_temperature': 0.04975240328464525, 'cat_border_count': 117, 'cat_colsample_bylevel': 0.3732424391400052, 'cat_depth': 2, 'cat_boosting_type': 'Ordered', 'xgb_n_estimators': 824, 'xgb_max_depth': 10, 'xgb_learning_rate': 0.12343463478527188, 'xgb_subsample': 0.745422467661276, 'xgb_colsample_bytree': 0.6571326001743049, 'xgb_min_child_weight': 4, 'xgb_gamma': 4.628171867085714, 'xgb_reg_alpha': 2.1297587931026216, 'xgb_reg_lambda': 6.55830594938914, 'xgb_scale_pos_weight': 5.8789974235484905}. Best is trial 2 with value: 0.9424822913458578.\n",
            "[I 2025-05-02 12:18:53,106] Trial 6 finished with value: 0.9397289805974747 and parameters: {'lgbm_n_estimators': 1299, 'lgbm_learning_rate': 0.13253660060177455, 'lgbm_num_leaves': 67, 'lgbm_max_depth': 11, 'lgbm_min_child_samples': 90, 'lgbm_subsample': 0.6894162425142148, 'lgbm_colsample_bytree': 0.9624983455268353, 'lgbm_reg_alpha': 6.497279987735468, 'lgbm_reg_lambda': 9.581901498821296, 'cat_iterations': 1356, 'cat_learning_rate': 0.09731214242955381, 'cat_l2_leaf_reg': 0.10171948927445418, 'cat_random_strength': 0.04179519849001446, 'cat_bagging_temperature': 0.39907931349097714, 'cat_border_count': 165, 'cat_colsample_bylevel': 0.29042069501342455, 'cat_depth': 2, 'cat_boosting_type': 'Plain', 'xgb_n_estimators': 893, 'xgb_max_depth': 9, 'xgb_learning_rate': 0.28385899882109794, 'xgb_subsample': 0.5157544021517275, 'xgb_colsample_bytree': 0.6354723168555912, 'xgb_min_child_weight': 7, 'xgb_gamma': 3.144279763356054, 'xgb_reg_alpha': 5.95042141873551, 'xgb_reg_lambda': 5.592583469010119, 'xgb_scale_pos_weight': 9.24030361651243}. Best is trial 2 with value: 0.9424822913458578.\n",
            "[I 2025-05-02 12:19:53,276] Trial 7 finished with value: 0.9397536187249769 and parameters: {'lgbm_n_estimators': 1176, 'lgbm_learning_rate': 0.06305759677552368, 'lgbm_num_leaves': 99, 'lgbm_max_depth': 5, 'lgbm_min_child_samples': 17, 'lgbm_subsample': 0.8966645605767726, 'lgbm_colsample_bytree': 0.535034666426475, 'lgbm_reg_alpha': 9.60437187256527, 'lgbm_reg_lambda': 1.0118076562331868, 'cat_iterations': 1134, 'cat_learning_rate': 0.1040128451456141, 'cat_l2_leaf_reg': 0.0035514548157877827, 'cat_random_strength': 0.006816579216599688, 'cat_bagging_temperature': 0.08736894428048159, 'cat_border_count': 160, 'cat_colsample_bylevel': 0.46449142906372487, 'cat_depth': 5, 'cat_boosting_type': 'Ordered', 'xgb_n_estimators': 624, 'xgb_max_depth': 10, 'xgb_learning_rate': 0.12706073059118056, 'xgb_subsample': 0.5665551970727092, 'xgb_colsample_bytree': 0.6966280801128889, 'xgb_min_child_weight': 8, 'xgb_gamma': 1.6931861982229535, 'xgb_reg_alpha': 9.530062995023016, 'xgb_reg_lambda': 9.112264662307666, 'xgb_scale_pos_weight': 4.215769163849274}. Best is trial 2 with value: 0.9424822913458578.\n",
            "[I 2025-05-02 12:20:04,621] Trial 8 finished with value: 0.9404866030181704 and parameters: {'lgbm_n_estimators': 1343, 'lgbm_learning_rate': 0.06609972414996793, 'lgbm_num_leaves': 175, 'lgbm_max_depth': 9, 'lgbm_min_child_samples': 31, 'lgbm_subsample': 0.6919084567187287, 'lgbm_colsample_bytree': 0.5571302166783445, 'lgbm_reg_alpha': 8.783858167831886, 'lgbm_reg_lambda': 5.838942899479429, 'cat_iterations': 363, 'cat_learning_rate': 0.2145006202400913, 'cat_l2_leaf_reg': 0.012180768841035002, 'cat_random_strength': 0.07629368138973702, 'cat_bagging_temperature': 0.983440233284083, 'cat_border_count': 38, 'cat_colsample_bylevel': 0.38988494200845547, 'cat_depth': 7, 'cat_boosting_type': 'Plain', 'xgb_n_estimators': 1158, 'xgb_max_depth': 10, 'xgb_learning_rate': 0.2565862328690304, 'xgb_subsample': 0.5589111134821778, 'xgb_colsample_bytree': 0.5937577574621558, 'xgb_min_child_weight': 9, 'xgb_gamma': 4.563283045569112, 'xgb_reg_alpha': 2.514383280387883, 'xgb_reg_lambda': 2.6350902220620465, 'xgb_scale_pos_weight': 3.196226028197185}. Best is trial 2 with value: 0.9424822913458578.\n",
            "[I 2025-05-02 12:20:14,440] Trial 9 finished with value: 0.9413242993532491 and parameters: {'lgbm_n_estimators': 168, 'lgbm_learning_rate': 0.014861762216961604, 'lgbm_num_leaves': 26, 'lgbm_max_depth': 7, 'lgbm_min_child_samples': 55, 'lgbm_subsample': 0.9968258467337352, 'lgbm_colsample_bytree': 0.5987983026100518, 'lgbm_reg_alpha': 8.139240764968285, 'lgbm_reg_lambda': 2.065233125453857, 'cat_iterations': 571, 'cat_learning_rate': 0.04886772517852424, 'cat_l2_leaf_reg': 0.11060040501532205, 'cat_random_strength': 0.0034014663977082276, 'cat_bagging_temperature': 0.3125314394068487, 'cat_border_count': 137, 'cat_colsample_bylevel': 0.2593839638398259, 'cat_depth': 2, 'cat_boosting_type': 'Plain', 'xgb_n_estimators': 1242, 'xgb_max_depth': 10, 'xgb_learning_rate': 0.1645378905220559, 'xgb_subsample': 0.8429911646963364, 'xgb_colsample_bytree': 0.7822120581322813, 'xgb_min_child_weight': 3, 'xgb_gamma': 2.126452003717363, 'xgb_reg_alpha': 6.70311666229344, 'xgb_reg_lambda': 4.425920638173225, 'xgb_scale_pos_weight': 8.555439294628389}. Best is trial 2 with value: 0.9424822913458578.\n",
            "[I 2025-05-02 12:20:37,027] Trial 10 finished with value: 0.9400061595318756 and parameters: {'lgbm_n_estimators': 578, 'lgbm_learning_rate': 0.17438169897056635, 'lgbm_num_leaves': 201, 'lgbm_max_depth': 12, 'lgbm_min_child_samples': 52, 'lgbm_subsample': 0.984567778725255, 'lgbm_colsample_bytree': 0.6207063589100259, 'lgbm_reg_alpha': 0.8502920610276243, 'lgbm_reg_lambda': 8.975359375774092, 'cat_iterations': 926, 'cat_learning_rate': 0.010295924919572113, 'cat_l2_leaf_reg': 2.7334643386061166, 'cat_random_strength': 3.9437491546995265, 'cat_bagging_temperature': 0.526326997620624, 'cat_border_count': 82, 'cat_colsample_bylevel': 0.4506301024618725, 'cat_depth': 5, 'cat_boosting_type': 'Plain', 'xgb_n_estimators': 1445, 'xgb_max_depth': 3, 'xgb_learning_rate': 0.014254511830814276, 'xgb_subsample': 0.647206600900097, 'xgb_colsample_bytree': 0.9746356118964169, 'xgb_min_child_weight': 1, 'xgb_gamma': 0.17966324572237546, 'xgb_reg_alpha': 3.640599896212426, 'xgb_reg_lambda': 0.14944660397034348, 'xgb_scale_pos_weight': 1.065780307172835}. Best is trial 2 with value: 0.9424822913458578.\n",
            "[I 2025-05-02 12:20:45,299] Trial 11 finished with value: 0.942537727132738 and parameters: {'lgbm_n_estimators': 64, 'lgbm_learning_rate': 0.025614328763480097, 'lgbm_num_leaves': 24, 'lgbm_max_depth': 5, 'lgbm_min_child_samples': 63, 'lgbm_subsample': 0.9950317449971098, 'lgbm_colsample_bytree': 0.5240943434801618, 'lgbm_reg_alpha': 9.311041322011077, 'lgbm_reg_lambda': 7.451864793343657, 'cat_iterations': 523, 'cat_learning_rate': 0.028720001263819364, 'cat_l2_leaf_reg': 0.9540469644063011, 'cat_random_strength': 0.0010745744717630063, 'cat_bagging_temperature': 0.3253719825405426, 'cat_border_count': 207, 'cat_colsample_bylevel': 0.21792118588158604, 'cat_depth': 4, 'cat_boosting_type': 'Plain', 'xgb_n_estimators': 1448, 'xgb_max_depth': 6, 'xgb_learning_rate': 0.1955495147680429, 'xgb_subsample': 0.9632214870733696, 'xgb_colsample_bytree': 0.513351716968891, 'xgb_min_child_weight': 2, 'xgb_gamma': 3.473414224878816, 'xgb_reg_alpha': 7.725826976498152, 'xgb_reg_lambda': 4.250983001181872, 'xgb_scale_pos_weight': 9.957964683015014}. Best is trial 11 with value: 0.942537727132738.\n",
            "[I 2025-05-02 12:20:55,413] Trial 12 finished with value: 0.9416877117339083 and parameters: {'lgbm_n_estimators': 519, 'lgbm_learning_rate': 0.026528284472335645, 'lgbm_num_leaves': 22, 'lgbm_max_depth': 4, 'lgbm_min_child_samples': 64, 'lgbm_subsample': 0.8155741153429782, 'lgbm_colsample_bytree': 0.5006992047155814, 'lgbm_reg_alpha': 9.98901698563225, 'lgbm_reg_lambda': 7.481249769549974, 'cat_iterations': 447, 'cat_learning_rate': 0.02129113553485071, 'cat_l2_leaf_reg': 7.994304407050532, 'cat_random_strength': 0.0010741065633313712, 'cat_bagging_temperature': 0.21212021599452047, 'cat_border_count': 218, 'cat_colsample_bylevel': 0.2116071960506812, 'cat_depth': 4, 'cat_boosting_type': 'Plain', 'xgb_n_estimators': 1499, 'xgb_max_depth': 6, 'xgb_learning_rate': 0.2016970651299329, 'xgb_subsample': 0.9858771558858597, 'xgb_colsample_bytree': 0.5154175684575365, 'xgb_min_child_weight': 1, 'xgb_gamma': 3.7735671625111147, 'xgb_reg_alpha': 8.213862250767354, 'xgb_reg_lambda': 7.199700342213651, 'xgb_scale_pos_weight': 9.974572317378778}. Best is trial 11 with value: 0.942537727132738.\n",
            "[I 2025-05-02 12:21:10,988] Trial 13 finished with value: 0.9403695719125347 and parameters: {'lgbm_n_estimators': 875, 'lgbm_learning_rate': 0.10221692208270065, 'lgbm_num_leaves': 73, 'lgbm_max_depth': 5, 'lgbm_min_child_samples': 98, 'lgbm_subsample': 0.9360025010307602, 'lgbm_colsample_bytree': 0.619700781293178, 'lgbm_reg_alpha': 3.185031177395243, 'lgbm_reg_lambda': 7.433093017493642, 'cat_iterations': 961, 'cat_learning_rate': 0.02258517938390757, 'cat_l2_leaf_reg': 0.9712357822720623, 'cat_random_strength': 0.0010302769507442731, 'cat_bagging_temperature': 0.4170397573480486, 'cat_border_count': 195, 'cat_colsample_bylevel': 0.3274367210623189, 'cat_depth': 4, 'cat_boosting_type': 'Plain', 'xgb_n_estimators': 1150, 'xgb_max_depth': 6, 'xgb_learning_rate': 0.19686931622843348, 'xgb_subsample': 0.6610439754341633, 'xgb_colsample_bytree': 0.5047274580636194, 'xgb_min_child_weight': 3, 'xgb_gamma': 3.725704170106838, 'xgb_reg_alpha': 4.33387713375847, 'xgb_reg_lambda': 4.121640456850795, 'xgb_scale_pos_weight': 6.944869556986597}. Best is trial 11 with value: 0.942537727132738.\n",
            "[I 2025-05-02 12:21:35,002] Trial 14 finished with value: 0.9407083461656914 and parameters: {'lgbm_n_estimators': 388, 'lgbm_learning_rate': 0.025280962047278085, 'lgbm_num_leaves': 52, 'lgbm_max_depth': 9, 'lgbm_min_child_samples': 40, 'lgbm_subsample': 0.789161567030307, 'lgbm_colsample_bytree': 0.8076622634922219, 'lgbm_reg_alpha': 5.6658114342784565, 'lgbm_reg_lambda': 7.501424096370812, 'cat_iterations': 478, 'cat_learning_rate': 0.032691827571388075, 'cat_l2_leaf_reg': 1.280354991343262, 'cat_random_strength': 0.651476843504916, 'cat_bagging_temperature': 0.5555438822664445, 'cat_border_count': 84, 'cat_colsample_bylevel': 0.4895217257339878, 'cat_depth': 1, 'cat_boosting_type': 'Ordered', 'xgb_n_estimators': 1311, 'xgb_max_depth': 13, 'xgb_learning_rate': 0.22455579615324972, 'xgb_subsample': 0.6356391504427271, 'xgb_colsample_bytree': 0.8965914377596348, 'xgb_min_child_weight': 5, 'xgb_gamma': 3.075197537658303, 'xgb_reg_alpha': 7.2864658824675805, 'xgb_reg_lambda': 1.4956687137008355, 'xgb_scale_pos_weight': 6.675142499993962}. Best is trial 11 with value: 0.942537727132738.\n",
            "[I 2025-05-02 12:21:51,657] Trial 15 finished with value: 0.9420203264551893 and parameters: {'lgbm_n_estimators': 77, 'lgbm_learning_rate': 0.08824387179692049, 'lgbm_num_leaves': 94, 'lgbm_max_depth': 3, 'lgbm_min_child_samples': 66, 'lgbm_subsample': 0.9464880909871617, 'lgbm_colsample_bytree': 0.5716823621618224, 'lgbm_reg_alpha': 9.366164406962119, 'lgbm_reg_lambda': 5.783577977685427, 'cat_iterations': 802, 'cat_learning_rate': 0.013423621219209855, 'cat_l2_leaf_reg': 0.001764420508111021, 'cat_random_strength': 0.02266345179448721, 'cat_bagging_temperature': 0.17326017832292095, 'cat_border_count': 191, 'cat_colsample_bylevel': 0.38422042079736807, 'cat_depth': 6, 'cat_boosting_type': 'Plain', 'xgb_n_estimators': 997, 'xgb_max_depth': 6, 'xgb_learning_rate': 0.022792117501872988, 'xgb_subsample': 0.9304230151165181, 'xgb_colsample_bytree': 0.9882218300186386, 'xgb_min_child_weight': 2, 'xgb_gamma': 3.7514674805144193, 'xgb_reg_alpha': 9.895314656493907, 'xgb_reg_lambda': 1.5466023158482352, 'xgb_scale_pos_weight': 9.957654446628698}. Best is trial 11 with value: 0.942537727132738.\n",
            "[I 2025-05-02 12:22:42,624] Trial 16 finished with value: 0.9388666461348938 and parameters: {'lgbm_n_estimators': 692, 'lgbm_learning_rate': 0.29362232611196726, 'lgbm_num_leaves': 223, 'lgbm_max_depth': 6, 'lgbm_min_child_samples': 5, 'lgbm_subsample': 0.7257723009077368, 'lgbm_colsample_bytree': 0.657136034124741, 'lgbm_reg_alpha': 0.41270194598745213, 'lgbm_reg_lambda': 8.442791843418739, 'cat_iterations': 1016, 'cat_learning_rate': 0.06984970354955332, 'cat_l2_leaf_reg': 0.27328057319004306, 'cat_random_strength': 0.019135825062132933, 'cat_bagging_temperature': 0.37005055275337095, 'cat_border_count': 77, 'cat_colsample_bylevel': 0.6912597132044812, 'cat_depth': 3, 'cat_boosting_type': 'Ordered', 'xgb_n_estimators': 1346, 'xgb_max_depth': 3, 'xgb_learning_rate': 0.15822736380618468, 'xgb_subsample': 0.7968019717757666, 'xgb_colsample_bytree': 0.869510389971846, 'xgb_min_child_weight': 5, 'xgb_gamma': 2.727506220692412, 'xgb_reg_alpha': 8.296477757700218, 'xgb_reg_lambda': 7.360722817840737, 'xgb_scale_pos_weight': 8.690310696203412}. Best is trial 11 with value: 0.942537727132738.\n",
            "[I 2025-05-02 12:22:59,979] Trial 17 finished with value: 0.9400492762550046 and parameters: {'lgbm_n_estimators': 1003, 'lgbm_learning_rate': 0.04084500198700902, 'lgbm_num_leaves': 45, 'lgbm_max_depth': 10, 'lgbm_min_child_samples': 63, 'lgbm_subsample': 0.6279683174115651, 'lgbm_colsample_bytree': 0.5047011347876009, 'lgbm_reg_alpha': 8.52012211134867, 'lgbm_reg_lambda': 4.545377813289068, 'cat_iterations': 709, 'cat_learning_rate': 0.015239191025533937, 'cat_l2_leaf_reg': 7.880106052846844, 'cat_random_strength': 0.0016323680649445085, 'cat_bagging_temperature': 0.7383340989847196, 'cat_border_count': 248, 'cat_colsample_bylevel': 0.32519633726584424, 'cat_depth': 8, 'cat_boosting_type': 'Plain', 'xgb_n_estimators': 58, 'xgb_max_depth': 7, 'xgb_learning_rate': 0.05013477681600433, 'xgb_subsample': 0.7021021763457735, 'xgb_colsample_bytree': 0.5669519260306397, 'xgb_min_child_weight': 3, 'xgb_gamma': 4.110479473933079, 'xgb_reg_alpha': 3.475272352276681, 'xgb_reg_lambda': 5.456943359469119, 'xgb_scale_pos_weight': 7.748596744887463}. Best is trial 11 with value: 0.942537727132738.\n",
            "[I 2025-05-02 12:23:17,796] Trial 18 finished with value: 0.9412442254388667 and parameters: {'lgbm_n_estimators': 338, 'lgbm_learning_rate': 0.02335818341163616, 'lgbm_num_leaves': 120, 'lgbm_max_depth': 5, 'lgbm_min_child_samples': 41, 'lgbm_subsample': 0.9358391812624682, 'lgbm_colsample_bytree': 0.7646140410994213, 'lgbm_reg_alpha': 1.7713742570873512, 'lgbm_reg_lambda': 6.506816845630633, 'cat_iterations': 304, 'cat_learning_rate': 0.035404516630496666, 'cat_l2_leaf_reg': 0.008600604454349408, 'cat_random_strength': 4.11925998298567, 'cat_bagging_temperature': 0.44802213280059977, 'cat_border_count': 109, 'cat_colsample_bylevel': 0.20212636285153615, 'cat_depth': 1, 'cat_boosting_type': 'Ordered', 'xgb_n_estimators': 1017, 'xgb_max_depth': 13, 'xgb_learning_rate': 0.2361252468058352, 'xgb_subsample': 0.5953799075521662, 'xgb_colsample_bytree': 0.738415765973114, 'xgb_min_child_weight': 2, 'xgb_gamma': 1.1977651462277858, 'xgb_reg_alpha': 4.691016916261161, 'xgb_reg_lambda': 3.6358256915847713, 'xgb_scale_pos_weight': 5.985237539622322}. Best is trial 11 with value: 0.942537727132738.\n",
            "[I 2025-05-02 12:23:27,629] Trial 19 finished with value: 0.9399199260856174 and parameters: {'lgbm_n_estimators': 693, 'lgbm_learning_rate': 0.057159625327345816, 'lgbm_num_leaves': 79, 'lgbm_max_depth': 6, 'lgbm_min_child_samples': 81, 'lgbm_subsample': 0.8413018380110739, 'lgbm_colsample_bytree': 0.7476720854246639, 'lgbm_reg_alpha': 5.90606081655142, 'lgbm_reg_lambda': 9.951566919105593, 'cat_iterations': 554, 'cat_learning_rate': 0.06661938159342211, 'cat_l2_leaf_reg': 2.2956351298114828, 'cat_random_strength': 0.28944078984414057, 'cat_bagging_temperature': 0.30156803340237204, 'cat_border_count': 195, 'cat_colsample_bylevel': 0.6011831717534217, 'cat_depth': 3, 'cat_boosting_type': 'Plain', 'xgb_n_estimators': 1044, 'xgb_max_depth': 4, 'xgb_learning_rate': 0.1830179381007317, 'xgb_subsample': 0.8992009689203776, 'xgb_colsample_bytree': 0.9256278103825266, 'xgb_min_child_weight': 6, 'xgb_gamma': 4.906285328464135, 'xgb_reg_alpha': 8.218051224790466, 'xgb_reg_lambda': 1.2470119487106932, 'xgb_scale_pos_weight': 9.209405115201012}. Best is trial 11 with value: 0.942537727132738.\n"
          ]
        },
        {
          "output_type": "execute_result",
          "data": {
            "text/plain": [
              "{'LightGBM': {'n_estimators': 64,\n",
              "  'learning_rate': 0.025614328763480097,\n",
              "  'num_leaves': 24,\n",
              "  'max_depth': 5,\n",
              "  'min_child_samples': 63,\n",
              "  'subsample': 0.9950317449971098,\n",
              "  'colsample_bytree': 0.5240943434801618,\n",
              "  'reg_alpha': 9.311041322011077,\n",
              "  'reg_lambda': 7.451864793343657},\n",
              " 'CatBoost': {'iterations': 523,\n",
              "  'learning_rate': 0.028720001263819364,\n",
              "  'l2_leaf_reg': 0.9540469644063011,\n",
              "  'random_strength': 0.0010745744717630063,\n",
              "  'bagging_temperature': 0.3253719825405426,\n",
              "  'border_count': 207,\n",
              "  'colsample_bylevel': 0.21792118588158604,\n",
              "  'depth': 4,\n",
              "  'boosting_type': 'Plain'},\n",
              " 'XGBoost': {'n_estimators': 1448,\n",
              "  'max_depth': 6,\n",
              "  'learning_rate': 0.1955495147680429,\n",
              "  'subsample': 0.9632214870733696,\n",
              "  'colsample_bytree': 0.513351716968891,\n",
              "  'min_child_weight': 2,\n",
              "  'gamma': 3.473414224878816,\n",
              "  'reg_alpha': 7.725826976498152,\n",
              "  'reg_lambda': 4.250983001181872,\n",
              "  'scale_pos_weight': 9.957964683015014}}"
            ]
          },
          "metadata": {},
          "execution_count": 35
        }
      ]
    },
    {
      "cell_type": "code",
      "source": [
        "meta_model = LogisticRegression()\n",
        "best_stacking_s = optimize(meta_model, X_train_s, y_train_s, X_valid_s, y_valid_s, n_trials=25)\n",
        "best_stacking_s"
      ],
      "metadata": {
        "colab": {
          "base_uri": "https://localhost:8080/"
        },
        "id": "ASyioQ2LBHCx",
        "outputId": "c2f19fcc-6667-4743-ccec-2bf94091a037"
      },
      "execution_count": 40,
      "outputs": [
        {
          "output_type": "stream",
          "name": "stderr",
          "text": [
            "[I 2025-05-02 12:43:13,245] A new study created in memory with name: no-name-69584c6a-a450-42b7-8c41-28ea75a41ff3\n",
            "[I 2025-05-02 12:43:41,668] Trial 0 finished with value: 0.6565874549502866 and parameters: {'lgbm_n_estimators': 661, 'lgbm_learning_rate': 0.1271903105477975, 'lgbm_num_leaves': 86, 'lgbm_max_depth': 9, 'lgbm_min_child_samples': 97, 'lgbm_subsample': 0.5298626395180501, 'lgbm_colsample_bytree': 0.8448196373236678, 'lgbm_reg_alpha': 7.716474144783056, 'lgbm_reg_lambda': 2.743853990130558, 'cat_iterations': 236, 'cat_learning_rate': 0.04692300096872996, 'cat_l2_leaf_reg': 0.18489073795440075, 'cat_random_strength': 3.1567721311652766, 'cat_bagging_temperature': 0.6732344760994166, 'cat_border_count': 170, 'cat_colsample_bylevel': 0.6041508481920668, 'cat_depth': 8, 'cat_boosting_type': 'Ordered', 'xgb_n_estimators': 581, 'xgb_max_depth': 6, 'xgb_learning_rate': 0.2041135455167327, 'xgb_subsample': 0.7501834135017863, 'xgb_colsample_bytree': 0.5615040588329131, 'xgb_min_child_weight': 8, 'xgb_gamma': 1.8754913022595736, 'xgb_reg_alpha': 5.072631704014514, 'xgb_reg_lambda': 3.4313851332886234, 'xgb_scale_pos_weight': 7.267864233948613}. Best is trial 0 with value: 0.6565874549502866.\n",
            "[I 2025-05-02 12:44:03,134] Trial 1 finished with value: 0.658941072634514 and parameters: {'lgbm_n_estimators': 985, 'lgbm_learning_rate': 0.03941444769735415, 'lgbm_num_leaves': 92, 'lgbm_max_depth': 11, 'lgbm_min_child_samples': 71, 'lgbm_subsample': 0.6302687532798936, 'lgbm_colsample_bytree': 0.8520640999852331, 'lgbm_reg_alpha': 0.42909466596029455, 'lgbm_reg_lambda': 8.784950453562201, 'cat_iterations': 731, 'cat_learning_rate': 0.06229741670114697, 'cat_l2_leaf_reg': 3.4605415187689226, 'cat_random_strength': 0.012318230929650053, 'cat_bagging_temperature': 0.6049559191705686, 'cat_border_count': 143, 'cat_colsample_bylevel': 0.473615696958241, 'cat_depth': 5, 'cat_boosting_type': 'Plain', 'xgb_n_estimators': 885, 'xgb_max_depth': 8, 'xgb_learning_rate': 0.05779326028081788, 'xgb_subsample': 0.9539349994072589, 'xgb_colsample_bytree': 0.5238318948803586, 'xgb_min_child_weight': 6, 'xgb_gamma': 1.747605048331925, 'xgb_reg_alpha': 5.193429624455046, 'xgb_reg_lambda': 9.301613980761074, 'xgb_scale_pos_weight': 5.801051136667644}. Best is trial 1 with value: 0.658941072634514.\n",
            "[I 2025-05-02 12:44:17,977] Trial 2 finished with value: 0.6655104742673361 and parameters: {'lgbm_n_estimators': 1386, 'lgbm_learning_rate': 0.013119448079903371, 'lgbm_num_leaves': 269, 'lgbm_max_depth': 7, 'lgbm_min_child_samples': 97, 'lgbm_subsample': 0.7709965111719121, 'lgbm_colsample_bytree': 0.5924160311286304, 'lgbm_reg_alpha': 3.9957837626798365, 'lgbm_reg_lambda': 4.094831499485785, 'cat_iterations': 327, 'cat_learning_rate': 0.133523396442296, 'cat_l2_leaf_reg': 0.70605091871362, 'cat_random_strength': 0.7094051028758726, 'cat_bagging_temperature': 0.7432574424400671, 'cat_border_count': 193, 'cat_colsample_bylevel': 0.2791788138327974, 'cat_depth': 2, 'cat_boosting_type': 'Plain', 'xgb_n_estimators': 799, 'xgb_max_depth': 4, 'xgb_learning_rate': 0.010315289141935708, 'xgb_subsample': 0.5638078299381568, 'xgb_colsample_bytree': 0.6166021745718839, 'xgb_min_child_weight': 9, 'xgb_gamma': 3.1125641432749216, 'xgb_reg_alpha': 9.577397991639527, 'xgb_reg_lambda': 7.976413415083561, 'xgb_scale_pos_weight': 3.879206018353499}. Best is trial 2 with value: 0.6655104742673361.\n",
            "[I 2025-05-02 12:45:29,326] Trial 3 finished with value: 0.66570438026973 and parameters: {'lgbm_n_estimators': 1195, 'lgbm_learning_rate': 0.1126604224513737, 'lgbm_num_leaves': 42, 'lgbm_max_depth': 5, 'lgbm_min_child_samples': 90, 'lgbm_subsample': 0.6534055632690651, 'lgbm_colsample_bytree': 0.8628977975476642, 'lgbm_reg_alpha': 7.681276450543071, 'lgbm_reg_lambda': 9.613651072596932, 'cat_iterations': 1180, 'cat_learning_rate': 0.05924850577063547, 'cat_l2_leaf_reg': 0.027790378215855293, 'cat_random_strength': 5.07843356906368, 'cat_bagging_temperature': 0.2156490654091613, 'cat_border_count': 251, 'cat_colsample_bylevel': 0.3016389835612722, 'cat_depth': 6, 'cat_boosting_type': 'Ordered', 'xgb_n_estimators': 1089, 'xgb_max_depth': 14, 'xgb_learning_rate': 0.018966646128247895, 'xgb_subsample': 0.6951543850930717, 'xgb_colsample_bytree': 0.518733038603366, 'xgb_min_child_weight': 6, 'xgb_gamma': 4.883209760667862, 'xgb_reg_alpha': 9.11112883267843, 'xgb_reg_lambda': 2.674222094549179, 'xgb_scale_pos_weight': 6.132117426761671}. Best is trial 3 with value: 0.66570438026973.\n",
            "[I 2025-05-02 12:45:56,980] Trial 4 finished with value: 0.6559789912876026 and parameters: {'lgbm_n_estimators': 606, 'lgbm_learning_rate': 0.0735767548080543, 'lgbm_num_leaves': 185, 'lgbm_max_depth': 5, 'lgbm_min_child_samples': 77, 'lgbm_subsample': 0.9405983440032699, 'lgbm_colsample_bytree': 0.652046811869702, 'lgbm_reg_alpha': 5.8165166774871135, 'lgbm_reg_lambda': 1.1524958441203847, 'cat_iterations': 411, 'cat_learning_rate': 0.04693299950861871, 'cat_l2_leaf_reg': 0.036207083627843376, 'cat_random_strength': 0.02488942895909536, 'cat_bagging_temperature': 0.6915618376608882, 'cat_border_count': 77, 'cat_colsample_bylevel': 0.5307898905410056, 'cat_depth': 5, 'cat_boosting_type': 'Ordered', 'xgb_n_estimators': 1147, 'xgb_max_depth': 15, 'xgb_learning_rate': 0.13491588699319645, 'xgb_subsample': 0.5740215643518962, 'xgb_colsample_bytree': 0.5146694454791482, 'xgb_min_child_weight': 10, 'xgb_gamma': 1.8794864371017743, 'xgb_reg_alpha': 3.056160730156053, 'xgb_reg_lambda': 8.289551242261263, 'xgb_scale_pos_weight': 8.416065489278296}. Best is trial 3 with value: 0.66570438026973.\n",
            "[I 2025-05-02 12:46:19,516] Trial 5 finished with value: 0.6626453459216218 and parameters: {'lgbm_n_estimators': 1220, 'lgbm_learning_rate': 0.016562714247952203, 'lgbm_num_leaves': 253, 'lgbm_max_depth': 11, 'lgbm_min_child_samples': 46, 'lgbm_subsample': 0.9796071467595713, 'lgbm_colsample_bytree': 0.8845065739483791, 'lgbm_reg_alpha': 9.804568129767386, 'lgbm_reg_lambda': 6.741060341020204, 'cat_iterations': 1049, 'cat_learning_rate': 0.05357880480484884, 'cat_l2_leaf_reg': 1.5124340539527001, 'cat_random_strength': 0.0020080610360643032, 'cat_bagging_temperature': 0.5926691535353261, 'cat_border_count': 100, 'cat_colsample_bylevel': 0.2717838532445505, 'cat_depth': 5, 'cat_boosting_type': 'Plain', 'xgb_n_estimators': 930, 'xgb_max_depth': 6, 'xgb_learning_rate': 0.014794041355499717, 'xgb_subsample': 0.5131819709705456, 'xgb_colsample_bytree': 0.7246288873417668, 'xgb_min_child_weight': 10, 'xgb_gamma': 4.606065713308668, 'xgb_reg_alpha': 1.417689692328754, 'xgb_reg_lambda': 6.370944310551055, 'xgb_scale_pos_weight': 1.6259919399540017}. Best is trial 3 with value: 0.66570438026973.\n",
            "[I 2025-05-02 12:47:15,465] Trial 6 finished with value: 0.6505797120830186 and parameters: {'lgbm_n_estimators': 167, 'lgbm_learning_rate': 0.10262269737462205, 'lgbm_num_leaves': 106, 'lgbm_max_depth': 7, 'lgbm_min_child_samples': 22, 'lgbm_subsample': 0.5519408160286967, 'lgbm_colsample_bytree': 0.8850835417852347, 'lgbm_reg_alpha': 2.849022480678106, 'lgbm_reg_lambda': 6.3777955561546555, 'cat_iterations': 946, 'cat_learning_rate': 0.020856974751476996, 'cat_l2_leaf_reg': 1.8759276333048935, 'cat_random_strength': 0.028638417072260825, 'cat_bagging_temperature': 0.2660373726366504, 'cat_border_count': 86, 'cat_colsample_bylevel': 0.42322211953181055, 'cat_depth': 6, 'cat_boosting_type': 'Ordered', 'xgb_n_estimators': 711, 'xgb_max_depth': 7, 'xgb_learning_rate': 0.10014142673245642, 'xgb_subsample': 0.675075805384046, 'xgb_colsample_bytree': 0.7213171152566155, 'xgb_min_child_weight': 7, 'xgb_gamma': 2.0146231412625166, 'xgb_reg_alpha': 3.915180031679304, 'xgb_reg_lambda': 6.762040319009755, 'xgb_scale_pos_weight': 4.336938242032087}. Best is trial 3 with value: 0.66570438026973.\n",
            "[I 2025-05-02 12:47:26,749] Trial 7 finished with value: 0.6613448384228087 and parameters: {'lgbm_n_estimators': 419, 'lgbm_learning_rate': 0.17608374512751143, 'lgbm_num_leaves': 222, 'lgbm_max_depth': 9, 'lgbm_min_child_samples': 10, 'lgbm_subsample': 0.8866067773866642, 'lgbm_colsample_bytree': 0.8562127088467917, 'lgbm_reg_alpha': 7.773640394875977, 'lgbm_reg_lambda': 2.0312039590702757, 'cat_iterations': 482, 'cat_learning_rate': 0.03641238429707523, 'cat_l2_leaf_reg': 0.0035908645681740946, 'cat_random_strength': 0.4655230684449552, 'cat_bagging_temperature': 0.7762729651305214, 'cat_border_count': 125, 'cat_colsample_bylevel': 0.42872690768568733, 'cat_depth': 5, 'cat_boosting_type': 'Plain', 'xgb_n_estimators': 1359, 'xgb_max_depth': 6, 'xgb_learning_rate': 0.1745135330411615, 'xgb_subsample': 0.7717377111442263, 'xgb_colsample_bytree': 0.6372769448720446, 'xgb_min_child_weight': 6, 'xgb_gamma': 4.245116086608953, 'xgb_reg_alpha': 9.90580694245827, 'xgb_reg_lambda': 7.152722081076405, 'xgb_scale_pos_weight': 7.358719916407008}. Best is trial 3 with value: 0.66570438026973.\n",
            "[I 2025-05-02 12:47:52,632] Trial 8 finished with value: 0.654441116096204 and parameters: {'lgbm_n_estimators': 619, 'lgbm_learning_rate': 0.13541317069879244, 'lgbm_num_leaves': 85, 'lgbm_max_depth': 10, 'lgbm_min_child_samples': 79, 'lgbm_subsample': 0.5734267239673458, 'lgbm_colsample_bytree': 0.8653106420588019, 'lgbm_reg_alpha': 5.431243735805481, 'lgbm_reg_lambda': 5.769582884187836, 'cat_iterations': 568, 'cat_learning_rate': 0.1816445774221618, 'cat_l2_leaf_reg': 6.2515514631716975, 'cat_random_strength': 0.006828976102374707, 'cat_bagging_temperature': 0.05481710889189051, 'cat_border_count': 126, 'cat_colsample_bylevel': 0.5783500857381147, 'cat_depth': 2, 'cat_boosting_type': 'Ordered', 'xgb_n_estimators': 695, 'xgb_max_depth': 5, 'xgb_learning_rate': 0.17334063542055567, 'xgb_subsample': 0.7505860424965893, 'xgb_colsample_bytree': 0.8852979259916096, 'xgb_min_child_weight': 1, 'xgb_gamma': 3.00079510360391, 'xgb_reg_alpha': 6.709026690349106, 'xgb_reg_lambda': 2.6893902839296957, 'xgb_scale_pos_weight': 2.555252091412725}. Best is trial 3 with value: 0.66570438026973.\n",
            "[I 2025-05-02 12:48:18,519] Trial 9 finished with value: 0.66456768991087 and parameters: {'lgbm_n_estimators': 1262, 'lgbm_learning_rate': 0.020091370144338167, 'lgbm_num_leaves': 294, 'lgbm_max_depth': 11, 'lgbm_min_child_samples': 5, 'lgbm_subsample': 0.8656116157227862, 'lgbm_colsample_bytree': 0.621577320107433, 'lgbm_reg_alpha': 6.942844533233192, 'lgbm_reg_lambda': 6.37557180502302, 'cat_iterations': 1022, 'cat_learning_rate': 0.04542765548403833, 'cat_l2_leaf_reg': 0.006551194638011271, 'cat_random_strength': 0.2137561181982175, 'cat_bagging_temperature': 0.17102357512300537, 'cat_border_count': 81, 'cat_colsample_bylevel': 0.25449188214640917, 'cat_depth': 7, 'cat_boosting_type': 'Plain', 'xgb_n_estimators': 1261, 'xgb_max_depth': 10, 'xgb_learning_rate': 0.25713729771517163, 'xgb_subsample': 0.8295280920955477, 'xgb_colsample_bytree': 0.5340343627536819, 'xgb_min_child_weight': 7, 'xgb_gamma': 4.13486294682068, 'xgb_reg_alpha': 3.831471949941163, 'xgb_reg_lambda': 3.2701639894922305, 'xgb_scale_pos_weight': 1.6255379264814585}. Best is trial 3 with value: 0.66570438026973.\n",
            "[I 2025-05-02 12:49:21,171] Trial 10 finished with value: 0.6667274015927038 and parameters: {'lgbm_n_estimators': 979, 'lgbm_learning_rate': 0.2748363153702954, 'lgbm_num_leaves': 31, 'lgbm_max_depth': 3, 'lgbm_min_child_samples': 49, 'lgbm_subsample': 0.6907193700860291, 'lgbm_colsample_bytree': 0.9742485826735787, 'lgbm_reg_alpha': 8.485775899222032, 'lgbm_reg_lambda': 9.99936295904144, 'cat_iterations': 1396, 'cat_learning_rate': 0.010119075305096106, 'cat_l2_leaf_reg': 0.033984749546875914, 'cat_random_strength': 8.49032128248566, 'cat_bagging_temperature': 0.3690765642146241, 'cat_border_count': 255, 'cat_colsample_bylevel': 0.35617954457458956, 'cat_depth': 3, 'cat_boosting_type': 'Ordered', 'xgb_n_estimators': 129, 'xgb_max_depth': 15, 'xgb_learning_rate': 0.2901897115187933, 'xgb_subsample': 0.8969934084079583, 'xgb_colsample_bytree': 0.9841835076610722, 'xgb_min_child_weight': 3, 'xgb_gamma': 0.3250976616963177, 'xgb_reg_alpha': 7.7871111555938075, 'xgb_reg_lambda': 0.7917478182682212, 'xgb_scale_pos_weight': 9.545298717728606}. Best is trial 10 with value: 0.6667274015927038.\n",
            "[I 2025-05-02 12:50:21,280] Trial 11 finished with value: 0.6671586752876829 and parameters: {'lgbm_n_estimators': 969, 'lgbm_learning_rate': 0.2890329666625905, 'lgbm_num_leaves': 21, 'lgbm_max_depth': 3, 'lgbm_min_child_samples': 48, 'lgbm_subsample': 0.7047701079649143, 'lgbm_colsample_bytree': 0.9987948227596928, 'lgbm_reg_alpha': 9.818308034830768, 'lgbm_reg_lambda': 9.890294136416392, 'cat_iterations': 1374, 'cat_learning_rate': 0.010174810560566357, 'cat_l2_leaf_reg': 0.02300270885603966, 'cat_random_strength': 7.001090900394594, 'cat_bagging_temperature': 0.36660159693016214, 'cat_border_count': 254, 'cat_colsample_bylevel': 0.3560853809997703, 'cat_depth': 3, 'cat_boosting_type': 'Ordered', 'xgb_n_estimators': 51, 'xgb_max_depth': 15, 'xgb_learning_rate': 0.27331599582489, 'xgb_subsample': 0.9171205963987855, 'xgb_colsample_bytree': 0.976262749490824, 'xgb_min_child_weight': 2, 'xgb_gamma': 0.048428817916331635, 'xgb_reg_alpha': 7.7883003114075215, 'xgb_reg_lambda': 0.41138430772527634, 'xgb_scale_pos_weight': 8.678757191596516}. Best is trial 11 with value: 0.6671586752876829.\n",
            "[I 2025-05-02 12:51:22,316] Trial 12 finished with value: 0.6654335805077664 and parameters: {'lgbm_n_estimators': 945, 'lgbm_learning_rate': 0.2984401803677683, 'lgbm_num_leaves': 25, 'lgbm_max_depth': 3, 'lgbm_min_child_samples': 47, 'lgbm_subsample': 0.7325097195905348, 'lgbm_colsample_bytree': 0.9866040605371783, 'lgbm_reg_alpha': 9.953696502251029, 'lgbm_reg_lambda': 8.289994194034023, 'cat_iterations': 1396, 'cat_learning_rate': 0.010792277620685645, 'cat_l2_leaf_reg': 0.0010761497825307986, 'cat_random_strength': 9.263016036164858, 'cat_bagging_temperature': 0.40820507742560463, 'cat_border_count': 249, 'cat_colsample_bylevel': 0.363788710851815, 'cat_depth': 3, 'cat_boosting_type': 'Ordered', 'xgb_n_estimators': 115, 'xgb_max_depth': 12, 'xgb_learning_rate': 0.29306807148478037, 'xgb_subsample': 0.9794044550136571, 'xgb_colsample_bytree': 0.9965686342495108, 'xgb_min_child_weight': 3, 'xgb_gamma': 0.10797252923056497, 'xgb_reg_alpha': 7.850372003710729, 'xgb_reg_lambda': 0.031031315102249546, 'xgb_scale_pos_weight': 9.98793345120875}. Best is trial 11 with value: 0.6671586752876829.\n",
            "[I 2025-05-02 12:52:22,345] Trial 13 finished with value: 0.6629295185113367 and parameters: {'lgbm_n_estimators': 938, 'lgbm_learning_rate': 0.245192041397207, 'lgbm_num_leaves': 148, 'lgbm_max_depth': 3, 'lgbm_min_child_samples': 33, 'lgbm_subsample': 0.7274431174547429, 'lgbm_colsample_bytree': 0.9907443717259172, 'lgbm_reg_alpha': 8.966387185091955, 'lgbm_reg_lambda': 7.995220597298817, 'cat_iterations': 1390, 'cat_learning_rate': 0.011111346755399583, 'cat_l2_leaf_reg': 0.12208527755817898, 'cat_random_strength': 1.3681812207784274, 'cat_bagging_temperature': 0.4649321635839372, 'cat_border_count': 34, 'cat_colsample_bylevel': 0.3613806673218507, 'cat_depth': 3, 'cat_boosting_type': 'Ordered', 'xgb_n_estimators': 152, 'xgb_max_depth': 13, 'xgb_learning_rate': 0.2450759685046197, 'xgb_subsample': 0.8863123882701691, 'xgb_colsample_bytree': 0.9719934141726068, 'xgb_min_child_weight': 3, 'xgb_gamma': 0.029446066333034048, 'xgb_reg_alpha': 6.906667512980581, 'xgb_reg_lambda': 0.13123027238614282, 'xgb_scale_pos_weight': 9.787964532787779}. Best is trial 11 with value: 0.6671586752876829.\n",
            "[I 2025-05-02 12:53:12,048] Trial 14 finished with value: 0.6697764063199984 and parameters: {'lgbm_n_estimators': 845, 'lgbm_learning_rate': 0.042781832433077156, 'lgbm_num_leaves': 48, 'lgbm_max_depth': 5, 'lgbm_min_child_samples': 60, 'lgbm_subsample': 0.6658421011811986, 'lgbm_colsample_bytree': 0.5130290970683117, 'lgbm_reg_alpha': 8.951707210202587, 'lgbm_reg_lambda': 9.875266977206207, 'cat_iterations': 1260, 'cat_learning_rate': 0.020411337208918304, 'cat_l2_leaf_reg': 0.021762802105005013, 'cat_random_strength': 2.0975686852807, 'cat_bagging_temperature': 0.9850550348051448, 'cat_border_count': 216, 'cat_colsample_bylevel': 0.20571558050338948, 'cat_depth': 1, 'cat_boosting_type': 'Ordered', 'xgb_n_estimators': 358, 'xgb_max_depth': 11, 'xgb_learning_rate': 0.29687636155745245, 'xgb_subsample': 0.8981915992108611, 'xgb_colsample_bytree': 0.8771240372252564, 'xgb_min_child_weight': 3, 'xgb_gamma': 0.8582226805500227, 'xgb_reg_alpha': 8.067465375812553, 'xgb_reg_lambda': 1.4921677635596764, 'xgb_scale_pos_weight': 8.60198348556002}. Best is trial 14 with value: 0.6697764063199984.\n",
            "[I 2025-05-02 12:54:00,530] Trial 15 finished with value: 0.669823211217128 and parameters: {'lgbm_n_estimators': 816, 'lgbm_learning_rate': 0.038129615253741915, 'lgbm_num_leaves': 58, 'lgbm_max_depth': 5, 'lgbm_min_child_samples': 63, 'lgbm_subsample': 0.8057674470278883, 'lgbm_colsample_bytree': 0.5269481732103775, 'lgbm_reg_alpha': 6.11068318638041, 'lgbm_reg_lambda': 4.37822212840892, 'cat_iterations': 1204, 'cat_learning_rate': 0.021016766295681576, 'cat_l2_leaf_reg': 0.01004032401876977, 'cat_random_strength': 1.7796087915003747, 'cat_bagging_temperature': 0.9442986819421347, 'cat_border_count': 213, 'cat_colsample_bylevel': 0.6759319375345025, 'cat_depth': 1, 'cat_boosting_type': 'Ordered', 'xgb_n_estimators': 388, 'xgb_max_depth': 11, 'xgb_learning_rate': 0.2351202252261537, 'xgb_subsample': 0.890141287497435, 'xgb_colsample_bytree': 0.8738925538868809, 'xgb_min_child_weight': 1, 'xgb_gamma': 0.9801706735699409, 'xgb_reg_alpha': 6.429060127573136, 'xgb_reg_lambda': 1.5294826626763713, 'xgb_scale_pos_weight': 8.27114964136142}. Best is trial 15 with value: 0.669823211217128.\n",
            "[I 2025-05-02 12:54:47,892] Trial 16 finished with value: 0.6672556282888799 and parameters: {'lgbm_n_estimators': 422, 'lgbm_learning_rate': 0.03512487564545418, 'lgbm_num_leaves': 133, 'lgbm_max_depth': 5, 'lgbm_min_child_samples': 63, 'lgbm_subsample': 0.8097009587243453, 'lgbm_colsample_bytree': 0.5141033196428519, 'lgbm_reg_alpha': 3.7838907198864935, 'lgbm_reg_lambda': 4.371837803452702, 'cat_iterations': 1188, 'cat_learning_rate': 0.02072896029171667, 'cat_l2_leaf_reg': 0.0056073793222866115, 'cat_random_strength': 0.10266698898502116, 'cat_bagging_temperature': 0.9665875616571021, 'cat_border_count': 209, 'cat_colsample_bylevel': 0.20272903541556878, 'cat_depth': 1, 'cat_boosting_type': 'Ordered', 'xgb_n_estimators': 426, 'xgb_max_depth': 10, 'xgb_learning_rate': 0.2227662598942283, 'xgb_subsample': 0.8366885003746334, 'xgb_colsample_bytree': 0.8524287567637205, 'xgb_min_child_weight': 4, 'xgb_gamma': 0.9070143801917709, 'xgb_reg_alpha': 5.966198196294112, 'xgb_reg_lambda': 4.802995933040159, 'xgb_scale_pos_weight': 7.252377111516024}. Best is trial 15 with value: 0.669823211217128.\n",
            "[I 2025-05-02 12:55:38,969] Trial 17 finished with value: 0.6659183455137506 and parameters: {'lgbm_n_estimators': 800, 'lgbm_learning_rate': 0.03234636231050652, 'lgbm_num_leaves': 62, 'lgbm_max_depth': 6, 'lgbm_min_child_samples': 63, 'lgbm_subsample': 0.8141174509319093, 'lgbm_colsample_bytree': 0.5091014542897884, 'lgbm_reg_alpha': 6.464003317073913, 'lgbm_reg_lambda': 3.1243744503753392, 'cat_iterations': 1218, 'cat_learning_rate': 0.023118066143892196, 'cat_l2_leaf_reg': 0.0012755402525725984, 'cat_random_strength': 1.3749107197942805, 'cat_bagging_temperature': 0.9556002851513086, 'cat_border_count': 216, 'cat_colsample_bylevel': 0.6902368442133132, 'cat_depth': 1, 'cat_boosting_type': 'Ordered', 'xgb_n_estimators': 371, 'xgb_max_depth': 11, 'xgb_learning_rate': 0.23793291054879268, 'xgb_subsample': 0.8313157950024731, 'xgb_colsample_bytree': 0.8305035903474182, 'xgb_min_child_weight': 1, 'xgb_gamma': 1.0912591513905716, 'xgb_reg_alpha': 0.9738809625852181, 'xgb_reg_lambda': 1.82184689703652, 'xgb_scale_pos_weight': 8.522058384663461}. Best is trial 15 with value: 0.669823211217128.\n",
            "[I 2025-05-02 12:56:15,168] Trial 18 finished with value: 0.6654302373008285 and parameters: {'lgbm_n_estimators': 770, 'lgbm_learning_rate': 0.06174064283703395, 'lgbm_num_leaves': 173, 'lgbm_max_depth': 6, 'lgbm_min_child_samples': 34, 'lgbm_subsample': 0.6137459468099862, 'lgbm_colsample_bytree': 0.7007163699479942, 'lgbm_reg_alpha': 1.0839511832215298, 'lgbm_reg_lambda': 0.05592714680632849, 'cat_iterations': 808, 'cat_learning_rate': 0.09077838301707224, 'cat_l2_leaf_reg': 0.2524378705198066, 'cat_random_strength': 1.855705114278216, 'cat_bagging_temperature': 0.8407056830909606, 'cat_border_count': 183, 'cat_colsample_bylevel': 0.6930429572491571, 'cat_depth': 1, 'cat_boosting_type': 'Ordered', 'xgb_n_estimators': 334, 'xgb_max_depth': 9, 'xgb_learning_rate': 0.20291636791522055, 'xgb_subsample': 0.9878437490039251, 'xgb_colsample_bytree': 0.7895125123330613, 'xgb_min_child_weight': 4, 'xgb_gamma': 1.0556736991845816, 'xgb_reg_alpha': 8.389600823697904, 'xgb_reg_lambda': 4.777902242489814, 'xgb_scale_pos_weight': 6.617344107726016}. Best is trial 15 with value: 0.669823211217128.\n",
            "[I 2025-05-02 12:56:51,185] Trial 19 finished with value: 0.6663529624156677 and parameters: {'lgbm_n_estimators': 420, 'lgbm_learning_rate': 0.024452606455452816, 'lgbm_num_leaves': 60, 'lgbm_max_depth': 4, 'lgbm_min_child_samples': 36, 'lgbm_subsample': 0.7848119573996409, 'lgbm_colsample_bytree': 0.5594164880352678, 'lgbm_reg_alpha': 4.5408036034666885, 'lgbm_reg_lambda': 5.11015594092345, 'cat_iterations': 778, 'cat_learning_rate': 0.027209630198715917, 'cat_l2_leaf_reg': 0.009788972455901953, 'cat_random_strength': 0.4398170075823744, 'cat_bagging_temperature': 0.8707784979141799, 'cat_border_count': 223, 'cat_colsample_bylevel': 0.6330276830607259, 'cat_depth': 2, 'cat_boosting_type': 'Ordered', 'xgb_n_estimators': 540, 'xgb_max_depth': 12, 'xgb_learning_rate': 0.13148324654983454, 'xgb_subsample': 0.8677215511683652, 'xgb_colsample_bytree': 0.9229947298609715, 'xgb_min_child_weight': 2, 'xgb_gamma': 0.7534223994618527, 'xgb_reg_alpha': 6.669387258210142, 'xgb_reg_lambda': 1.5241887879895293, 'xgb_scale_pos_weight': 4.973355676858738}. Best is trial 15 with value: 0.669823211217128.\n",
            "[I 2025-05-02 12:57:56,831] Trial 20 finished with value: 0.6550963846560175 and parameters: {'lgbm_n_estimators': 1097, 'lgbm_learning_rate': 0.048904548720465665, 'lgbm_num_leaves': 123, 'lgbm_max_depth': 8, 'lgbm_min_child_samples': 62, 'lgbm_subsample': 0.8577467232386967, 'lgbm_colsample_bytree': 0.743558335209233, 'lgbm_reg_alpha': 2.5323808938225563, 'lgbm_reg_lambda': 7.523237744266582, 'cat_iterations': 1254, 'cat_learning_rate': 0.01579379961529104, 'cat_l2_leaf_reg': 0.06306311042921216, 'cat_random_strength': 0.10189785590661765, 'cat_bagging_temperature': 0.8717598984300381, 'cat_border_count': 164, 'cat_colsample_bylevel': 0.4990992236630964, 'cat_depth': 4, 'cat_boosting_type': 'Ordered', 'xgb_n_estimators': 283, 'xgb_max_depth': 9, 'xgb_learning_rate': 0.26557761704212884, 'xgb_subsample': 0.9356574645552698, 'xgb_colsample_bytree': 0.7750489754096236, 'xgb_min_child_weight': 4, 'xgb_gamma': 2.610715218380955, 'xgb_reg_alpha': 6.033776944443936, 'xgb_reg_lambda': 3.94822191326584, 'xgb_scale_pos_weight': 7.967246844240119}. Best is trial 15 with value: 0.669823211217128.\n",
            "[I 2025-05-02 12:58:40,698] Trial 21 finished with value: 0.6689071725161644 and parameters: {'lgbm_n_estimators': 481, 'lgbm_learning_rate': 0.029343734883555923, 'lgbm_num_leaves': 144, 'lgbm_max_depth': 5, 'lgbm_min_child_samples': 63, 'lgbm_subsample': 0.8194991964670206, 'lgbm_colsample_bytree': 0.5004734730325491, 'lgbm_reg_alpha': 3.278377915577396, 'lgbm_reg_lambda': 3.956576627477487, 'cat_iterations': 1063, 'cat_learning_rate': 0.016896767921901725, 'cat_l2_leaf_reg': 0.004156395853747278, 'cat_random_strength': 0.129506800193221, 'cat_bagging_temperature': 0.9892096571984994, 'cat_border_count': 215, 'cat_colsample_bylevel': 0.21001099964991954, 'cat_depth': 1, 'cat_boosting_type': 'Ordered', 'xgb_n_estimators': 487, 'xgb_max_depth': 11, 'xgb_learning_rate': 0.2105382871635387, 'xgb_subsample': 0.8262254475285264, 'xgb_colsample_bytree': 0.8694908299071816, 'xgb_min_child_weight': 4, 'xgb_gamma': 1.1905956861732772, 'xgb_reg_alpha': 6.003414940635506, 'xgb_reg_lambda': 5.4999583160691765, 'xgb_scale_pos_weight': 7.659803617155312}. Best is trial 15 with value: 0.669823211217128.\n",
            "[I 2025-05-02 12:59:22,698] Trial 22 finished with value: 0.6689305749647291 and parameters: {'lgbm_n_estimators': 130, 'lgbm_learning_rate': 0.026328291783740007, 'lgbm_num_leaves': 205, 'lgbm_max_depth': 6, 'lgbm_min_child_samples': 71, 'lgbm_subsample': 0.9117123641285279, 'lgbm_colsample_bytree': 0.5568129919265501, 'lgbm_reg_alpha': 2.260463202481482, 'lgbm_reg_lambda': 3.7019992973536135, 'cat_iterations': 1091, 'cat_learning_rate': 0.015505145795759281, 'cat_l2_leaf_reg': 0.0030111049104294793, 'cat_random_strength': 0.33143425546339095, 'cat_bagging_temperature': 0.995896273629498, 'cat_border_count': 227, 'cat_colsample_bylevel': 0.20797320153226553, 'cat_depth': 1, 'cat_boosting_type': 'Ordered', 'xgb_n_estimators': 431, 'xgb_max_depth': 11, 'xgb_learning_rate': 0.21616895286633991, 'xgb_subsample': 0.792518452729876, 'xgb_colsample_bytree': 0.9234198726713673, 'xgb_min_child_weight': 2, 'xgb_gamma': 1.3914641129711387, 'xgb_reg_alpha': 8.701654462039489, 'xgb_reg_lambda': 1.7659708459316765, 'xgb_scale_pos_weight': 8.953577809801141}. Best is trial 15 with value: 0.669823211217128.\n",
            "[I 2025-05-02 13:00:00,206] Trial 23 finished with value: 0.6676601563283564 and parameters: {'lgbm_n_estimators': 51, 'lgbm_learning_rate': 0.01084807045711234, 'lgbm_num_leaves': 204, 'lgbm_max_depth': 6, 'lgbm_min_child_samples': 82, 'lgbm_subsample': 0.9099609304347578, 'lgbm_colsample_bytree': 0.5633035993366067, 'lgbm_reg_alpha': 1.8368819327266908, 'lgbm_reg_lambda': 3.272889982814979, 'cat_iterations': 938, 'cat_learning_rate': 0.03147254206045727, 'cat_l2_leaf_reg': 0.012768138788435218, 'cat_random_strength': 0.8014604521034933, 'cat_bagging_temperature': 0.8882547844413857, 'cat_border_count': 230, 'cat_colsample_bylevel': 0.22884996149909057, 'cat_depth': 2, 'cat_boosting_type': 'Ordered', 'xgb_n_estimators': 263, 'xgb_max_depth': 13, 'xgb_learning_rate': 0.18025994480873145, 'xgb_subsample': 0.7902319319273216, 'xgb_colsample_bytree': 0.9173058401332163, 'xgb_min_child_weight': 2, 'xgb_gamma': 1.397626280569636, 'xgb_reg_alpha': 8.711634854492374, 'xgb_reg_lambda': 1.6335396802546087, 'xgb_scale_pos_weight': 9.047293573775816}. Best is trial 15 with value: 0.669823211217128.\n",
            "[I 2025-05-02 13:00:46,267] Trial 24 finished with value: 0.6702879169814853 and parameters: {'lgbm_n_estimators': 263, 'lgbm_learning_rate': 0.04585667123878882, 'lgbm_num_leaves': 226, 'lgbm_max_depth': 4, 'lgbm_min_child_samples': 71, 'lgbm_subsample': 0.9952982670508074, 'lgbm_colsample_bytree': 0.5529531598888722, 'lgbm_reg_alpha': 4.686052128017627, 'lgbm_reg_lambda': 4.862253965409624, 'cat_iterations': 1112, 'cat_learning_rate': 0.014537587328026721, 'cat_l2_leaf_reg': 0.0025009091354511537, 'cat_random_strength': 0.29436664136961005, 'cat_bagging_temperature': 0.792252005481927, 'cat_border_count': 197, 'cat_colsample_bylevel': 0.3173367475980136, 'cat_depth': 1, 'cat_boosting_type': 'Ordered', 'xgb_n_estimators': 630, 'xgb_max_depth': 11, 'xgb_learning_rate': 0.2345706113867803, 'xgb_subsample': 0.8747081814864642, 'xgb_colsample_bytree': 0.9285570360405078, 'xgb_min_child_weight': 1, 'xgb_gamma': 0.5790079352269712, 'xgb_reg_alpha': 7.323443986702505, 'xgb_reg_lambda': 1.1666683179668764, 'xgb_scale_pos_weight': 9.012438795315182}. Best is trial 24 with value: 0.6702879169814853.\n"
          ]
        },
        {
          "output_type": "execute_result",
          "data": {
            "text/plain": [
              "{'LightGBM': {'n_estimators': 263,\n",
              "  'learning_rate': 0.04585667123878882,\n",
              "  'num_leaves': 226,\n",
              "  'max_depth': 4,\n",
              "  'min_child_samples': 71,\n",
              "  'subsample': 0.9952982670508074,\n",
              "  'colsample_bytree': 0.5529531598888722,\n",
              "  'reg_alpha': 4.686052128017627,\n",
              "  'reg_lambda': 4.862253965409624},\n",
              " 'CatBoost': {'iterations': 1112,\n",
              "  'learning_rate': 0.014537587328026721,\n",
              "  'l2_leaf_reg': 0.0025009091354511537,\n",
              "  'random_strength': 0.29436664136961005,\n",
              "  'bagging_temperature': 0.792252005481927,\n",
              "  'border_count': 197,\n",
              "  'colsample_bylevel': 0.3173367475980136,\n",
              "  'depth': 1,\n",
              "  'boosting_type': 'Ordered'},\n",
              " 'XGBoost': {'n_estimators': 630,\n",
              "  'max_depth': 11,\n",
              "  'learning_rate': 0.2345706113867803,\n",
              "  'subsample': 0.8747081814864642,\n",
              "  'colsample_bytree': 0.9285570360405078,\n",
              "  'min_child_weight': 1,\n",
              "  'gamma': 0.5790079352269712,\n",
              "  'reg_alpha': 7.323443986702505,\n",
              "  'reg_lambda': 1.1666683179668764,\n",
              "  'scale_pos_weight': 9.012438795315182}}"
            ]
          },
          "metadata": {},
          "execution_count": 40
        }
      ]
    },
    {
      "cell_type": "code",
      "source": [
        "models_s = {\n",
        "            \"CatBoost\": CatBoostClassifier(**best_stacking_s['CatBoost'],verbose=False),\n",
        "            \"LightGBM\": LGBMClassifier(**best_stacking_s['LightGBM']),\n",
        "            \"XGBoost\": XGBClassifier(**best_stacking_s['XGBoost'])\n",
        "        }\n",
        "stacking_model_s = StackingClassifier(\n",
        "            estimators=list(models_s.items()),\n",
        "            final_estimator=meta_model,\n",
        "            cv=5,\n",
        "            stack_method=\"predict_proba\"\n",
        "        )\n",
        "\n",
        "stacking_model_s.fit(X_train_s, y_train_s)\n",
        "y_pred_proba = stacking_model_s.predict_proba(X_test_s)[:, 1]\n",
        "roc_auc_score(y_test_s, y_pred_proba)"
      ],
      "metadata": {
        "id": "ftQVYHxzBMcx"
      },
      "execution_count": null,
      "outputs": []
    },
    {
      "cell_type": "code",
      "source": [
        "models_m = {\n",
        "            \"CatBoost\": CatBoostClassifier(**best_stacking_m['CatBoost'],verbose=False),\n",
        "            \"LightGBM\": LGBMClassifier(**best_stacking_m['LightGBM']),\n",
        "            \"XGBoost\": XGBClassifier(**best_stacking_m['XGBoost'])\n",
        "        }\n",
        "stacking_model_m = StackingClassifier(\n",
        "            estimators=list(models_m.items()),\n",
        "            final_estimator=meta_model,\n",
        "            cv=5,\n",
        "            stack_method=\"predict_proba\"\n",
        "        )\n",
        "\n",
        "stacking_model_m.fit(X_train_m, y_train_m)\n",
        "y_pred_proba = stacking_model_m.predict_proba(X_test_m)[:, 1]\n",
        "roc_auc_score(y_test_m, y_pred_proba)"
      ],
      "metadata": {
        "colab": {
          "base_uri": "https://localhost:8080/"
        },
        "id": "imOrSS8S61Ug",
        "outputId": "9b1a094c-2a1d-44b7-b376-f2063ae47f53"
      },
      "execution_count": 38,
      "outputs": [
        {
          "output_type": "execute_result",
          "data": {
            "text/plain": [
              "np.float64(0.9418562706850995)"
            ]
          },
          "metadata": {},
          "execution_count": 38
        }
      ]
    },
    {
      "cell_type": "code",
      "source": [
        "models = {\n",
        "            \"CatBoost\": CatBoostClassifier(**best_stacking['CatBoost'],verbose=False),\n",
        "            \"LightGBM\": LGBMClassifier(**best_stacking['LightGBM']),\n",
        "            \"XGBoost\": XGBClassifier(**best_stacking['XGBoost'],verbose=False)\n",
        "        }\n",
        "\n",
        "stacking_model = StackingClassifier(\n",
        "            estimators=list(models.items()),\n",
        "            final_estimator=meta_model,\n",
        "            cv=5,\n",
        "            stack_method=\"predict_proba\"\n",
        "        )\n",
        "\n",
        "stacking_model.fit(X_train_p, y_train_p)\n",
        "y_pred_proba = stacking_model.predict_proba(X_test_p)[:, 1]\n",
        "roc_auc_score(y_test_p, y_pred_proba)"
      ],
      "metadata": {
        "colab": {
          "base_uri": "https://localhost:8080/"
        },
        "id": "YEuyG10w4NCk",
        "outputId": "e1152b3a-9795-48f8-a623-5db141313235"
      },
      "execution_count": 32,
      "outputs": [
        {
          "output_type": "stream",
          "name": "stderr",
          "text": [
            "/usr/local/lib/python3.11/dist-packages/xgboost/core.py:158: UserWarning: [12:11:01] WARNING: /workspace/src/learner.cc:740: \n",
            "Parameters: { \"verbose\" } are not used.\n",
            "\n",
            "  warnings.warn(smsg, UserWarning)\n",
            "/usr/local/lib/python3.11/dist-packages/xgboost/core.py:158: UserWarning: [12:12:01] WARNING: /workspace/src/learner.cc:740: \n",
            "Parameters: { \"verbose\" } are not used.\n",
            "\n",
            "  warnings.warn(smsg, UserWarning)\n",
            "/usr/local/lib/python3.11/dist-packages/xgboost/core.py:158: UserWarning: [12:12:02] WARNING: /workspace/src/learner.cc:740: \n",
            "Parameters: { \"verbose\" } are not used.\n",
            "\n",
            "  warnings.warn(smsg, UserWarning)\n",
            "/usr/local/lib/python3.11/dist-packages/xgboost/core.py:158: UserWarning: [12:12:05] WARNING: /workspace/src/learner.cc:740: \n",
            "Parameters: { \"verbose\" } are not used.\n",
            "\n",
            "  warnings.warn(smsg, UserWarning)\n",
            "/usr/local/lib/python3.11/dist-packages/xgboost/core.py:158: UserWarning: [12:12:06] WARNING: /workspace/src/learner.cc:740: \n",
            "Parameters: { \"verbose\" } are not used.\n",
            "\n",
            "  warnings.warn(smsg, UserWarning)\n",
            "/usr/local/lib/python3.11/dist-packages/xgboost/core.py:158: UserWarning: [12:12:07] WARNING: /workspace/src/learner.cc:740: \n",
            "Parameters: { \"verbose\" } are not used.\n",
            "\n",
            "  warnings.warn(smsg, UserWarning)\n"
          ]
        },
        {
          "output_type": "execute_result",
          "data": {
            "text/plain": [
              "np.float64(0.7749055296767478)"
            ]
          },
          "metadata": {},
          "execution_count": 32
        }
      ]
    },
    {
      "cell_type": "code",
      "source": [
        "import ast\n",
        "def optimizer_mlp(X_train, y_train, X_valid, y_valid, n_trials=10):\n",
        "  def objective(trial):\n",
        "    hidden_layers_str = trial.suggest_categorical(\n",
        "        'hidden_layer_sizes',\n",
        "        ['(50,)', '(100,)', '(50, 50)', '(100, 50)']\n",
        "    )\n",
        "    hidden_layers = ast.literal_eval(hidden_layers_str)  # безопасное преобразование строки в кортеж\n",
        "\n",
        "    params = {\n",
        "        'hidden_layer_sizes': hidden_layers,\n",
        "        'activation': trial.suggest_categorical('activation', ['relu', 'tanh', 'logistic']),\n",
        "        'solver': trial.suggest_categorical('solver', ['adam', 'sgd']),\n",
        "        'alpha': trial.suggest_float('alpha', 1e-4, 1e-1, log=True),\n",
        "        'learning_rate': trial.suggest_categorical('learning_rate', ['constant', 'adaptive']),\n",
        "        'max_iter': trial.suggest_int('max_iter', 200, 500),\n",
        "        'batch_size': trial.suggest_categorical('batch_size', [32, 64, 128]),\n",
        "        'early_stopping': trial.suggest_categorical('early_stopping', [True, False]),\n",
        "        'random_state': 42\n",
        "    }\n",
        "\n",
        "    model = MLPClassifier(**params)\n",
        "    model.fit(X_train, y_train)\n",
        "\n",
        "    y_pred_proba = model.predict_proba(X_valid)[:, 1]\n",
        "    y_pred = model.predict(X_valid)\n",
        "    return roc_auc_score(y_valid, y_pred_proba)\n",
        "\n",
        "\n",
        "  study = optuna.create_study(direction='maximize')\n",
        "  study.optimize(objective, timeout=3*60)\n",
        "  return study.best_params"
      ],
      "metadata": {
        "id": "mH9czdJsq7Tm"
      },
      "execution_count": 10,
      "outputs": []
    },
    {
      "cell_type": "code",
      "source": [
        "X_train_m, X_valid_m, y_train_m, y_valid_m = train_test_split(X_train_m, y_train_m, test_size = 0.15, stratify=y_train_m)\n",
        "X_train_p, X_valid_p, y_train_p, y_valid_p = train_test_split(X_train_p, y_train_p, test_size = 0.15, stratify=y_train_p)\n",
        "X_train_s, X_valid_s, y_train_s, y_valid_s = train_test_split(X_train_s, y_train_s, test_size = 0.15, stratify=y_train_s)"
      ],
      "metadata": {
        "id": "CphiUrsorzc2"
      },
      "execution_count": 9,
      "outputs": []
    },
    {
      "cell_type": "code",
      "source": [
        "from sklearn.neural_network import MLPClassifier\n",
        "best_m_mlp = optimizer_mlp(X_train_m, y_train_m, X_valid_m, y_valid_m, n_trials = 30)\n",
        "best_m_mlp"
      ],
      "metadata": {
        "colab": {
          "base_uri": "https://localhost:8080/"
        },
        "id": "iCXn3NMrrZ9F",
        "outputId": "ee6a140c-0507-4e32-88d7-a23715de7066"
      },
      "execution_count": 12,
      "outputs": [
        {
          "output_type": "stream",
          "name": "stderr",
          "text": [
            "[I 2025-05-02 15:54:58,908] A new study created in memory with name: no-name-c4908bbd-ab83-4af7-84c6-08bb8f7df6c4\n",
            "[I 2025-05-02 15:54:59,612] Trial 0 finished with value: 0.5 and parameters: {'hidden_layer_sizes': '(50,)', 'activation': 'relu', 'solver': 'sgd', 'alpha': 0.00014960217767804432, 'learning_rate': 'constant', 'max_iter': 435, 'batch_size': 128, 'early_stopping': False}. Best is trial 0 with value: 0.5.\n",
            "[I 2025-05-02 15:55:10,178] Trial 1 finished with value: 0.49775378450578806 and parameters: {'hidden_layer_sizes': '(100, 50)', 'activation': 'logistic', 'solver': 'sgd', 'alpha': 0.0018687376320091125, 'learning_rate': 'adaptive', 'max_iter': 292, 'batch_size': 128, 'early_stopping': True}. Best is trial 0 with value: 0.5.\n",
            "[I 2025-05-02 15:55:12,619] Trial 2 finished with value: 0.4959928762243989 and parameters: {'hidden_layer_sizes': '(100,)', 'activation': 'tanh', 'solver': 'sgd', 'alpha': 0.0004116579633335589, 'learning_rate': 'constant', 'max_iter': 485, 'batch_size': 32, 'early_stopping': False}. Best is trial 0 with value: 0.5.\n",
            "[I 2025-05-02 15:55:13,939] Trial 3 finished with value: 0.5 and parameters: {'hidden_layer_sizes': '(50,)', 'activation': 'tanh', 'solver': 'sgd', 'alpha': 0.004806338226176903, 'learning_rate': 'constant', 'max_iter': 334, 'batch_size': 32, 'early_stopping': True}. Best is trial 0 with value: 0.5.\n",
            "[I 2025-05-02 15:55:14,934] Trial 4 finished with value: 0.4982190560997329 and parameters: {'hidden_layer_sizes': '(50, 50)', 'activation': 'logistic', 'solver': 'adam', 'alpha': 0.00012435909877926807, 'learning_rate': 'constant', 'max_iter': 335, 'batch_size': 128, 'early_stopping': True}. Best is trial 0 with value: 0.5.\n",
            "[I 2025-05-02 15:55:15,931] Trial 5 finished with value: 0.8171438112199466 and parameters: {'hidden_layer_sizes': '(100,)', 'activation': 'relu', 'solver': 'adam', 'alpha': 0.016740909888815953, 'learning_rate': 'adaptive', 'max_iter': 263, 'batch_size': 128, 'early_stopping': False}. Best is trial 5 with value: 0.8171438112199466.\n",
            "[I 2025-05-02 15:55:17,559] Trial 6 finished with value: 0.9403940338379341 and parameters: {'hidden_layer_sizes': '(50,)', 'activation': 'relu', 'solver': 'adam', 'alpha': 0.0010591034247276004, 'learning_rate': 'constant', 'max_iter': 253, 'batch_size': 64, 'early_stopping': False}. Best is trial 6 with value: 0.9403940338379341.\n",
            "[I 2025-05-02 15:55:28,017] Trial 7 finished with value: 0.4997551202137133 and parameters: {'hidden_layer_sizes': '(100, 50)', 'activation': 'tanh', 'solver': 'adam', 'alpha': 0.0033159091303578904, 'learning_rate': 'constant', 'max_iter': 482, 'batch_size': 32, 'early_stopping': False}. Best is trial 6 with value: 0.9403940338379341.\n",
            "[I 2025-05-02 15:55:30,124] Trial 8 finished with value: 0.4744323241317899 and parameters: {'hidden_layer_sizes': '(100, 50)', 'activation': 'logistic', 'solver': 'sgd', 'alpha': 0.0013087652805191575, 'learning_rate': 'constant', 'max_iter': 203, 'batch_size': 32, 'early_stopping': True}. Best is trial 6 with value: 0.9403940338379341.\n",
            "[I 2025-05-02 15:55:40,795] Trial 9 finished with value: 0.5 and parameters: {'hidden_layer_sizes': '(100, 50)', 'activation': 'relu', 'solver': 'sgd', 'alpha': 0.03360932326880347, 'learning_rate': 'adaptive', 'max_iter': 276, 'batch_size': 32, 'early_stopping': True}. Best is trial 6 with value: 0.9403940338379341.\n",
            "[I 2025-05-02 15:55:42,845] Trial 10 finished with value: 0.9064559216384683 and parameters: {'hidden_layer_sizes': '(50,)', 'activation': 'relu', 'solver': 'adam', 'alpha': 0.0005655536651686642, 'learning_rate': 'adaptive', 'max_iter': 224, 'batch_size': 64, 'early_stopping': False}. Best is trial 6 with value: 0.9403940338379341.\n",
            "[I 2025-05-02 15:55:45,403] Trial 11 finished with value: 0.8653606411398043 and parameters: {'hidden_layer_sizes': '(50,)', 'activation': 'relu', 'solver': 'adam', 'alpha': 0.0006764963873791989, 'learning_rate': 'adaptive', 'max_iter': 205, 'batch_size': 64, 'early_stopping': False}. Best is trial 6 with value: 0.9403940338379341.\n",
            "[I 2025-05-02 15:55:48,617] Trial 12 finished with value: 0.7685307212822796 and parameters: {'hidden_layer_sizes': '(50,)', 'activation': 'relu', 'solver': 'adam', 'alpha': 0.0005334699374554137, 'learning_rate': 'adaptive', 'max_iter': 242, 'batch_size': 64, 'early_stopping': False}. Best is trial 6 with value: 0.9403940338379341.\n",
            "[I 2025-05-02 15:55:49,287] Trial 13 finished with value: 0.5450756901157614 and parameters: {'hidden_layer_sizes': '(50,)', 'activation': 'relu', 'solver': 'adam', 'alpha': 0.012882439938556192, 'learning_rate': 'adaptive', 'max_iter': 395, 'batch_size': 64, 'early_stopping': False}. Best is trial 6 with value: 0.9403940338379341.\n",
            "[I 2025-05-02 15:55:52,492] Trial 14 finished with value: 0.8003784505788067 and parameters: {'hidden_layer_sizes': '(50, 50)', 'activation': 'relu', 'solver': 'adam', 'alpha': 0.00029344918729734564, 'learning_rate': 'constant', 'max_iter': 236, 'batch_size': 64, 'early_stopping': False}. Best is trial 6 with value: 0.9403940338379341.\n",
            "[I 2025-05-02 15:55:55,147] Trial 15 finished with value: 0.9436242208370436 and parameters: {'hidden_layer_sizes': '(50,)', 'activation': 'relu', 'solver': 'adam', 'alpha': 0.0010268993228271025, 'learning_rate': 'adaptive', 'max_iter': 309, 'batch_size': 64, 'early_stopping': False}. Best is trial 15 with value: 0.9436242208370436.\n",
            "[I 2025-05-02 15:55:56,111] Trial 16 finished with value: 0.7477782724844169 and parameters: {'hidden_layer_sizes': '(50,)', 'activation': 'relu', 'solver': 'adam', 'alpha': 0.007288933574276374, 'learning_rate': 'constant', 'max_iter': 305, 'batch_size': 64, 'early_stopping': False}. Best is trial 15 with value: 0.9436242208370436.\n",
            "[I 2025-05-02 15:55:56,724] Trial 17 finished with value: 0.8383125556544969 and parameters: {'hidden_layer_sizes': '(50,)', 'activation': 'relu', 'solver': 'adam', 'alpha': 0.0008681678280177312, 'learning_rate': 'adaptive', 'max_iter': 372, 'batch_size': 64, 'early_stopping': False}. Best is trial 15 with value: 0.9436242208370436.\n",
            "[I 2025-05-02 15:55:59,145] Trial 18 finished with value: 0.51040071237756 and parameters: {'hidden_layer_sizes': '(100,)', 'activation': 'tanh', 'solver': 'adam', 'alpha': 0.001838067285156485, 'learning_rate': 'constant', 'max_iter': 313, 'batch_size': 64, 'early_stopping': False}. Best is trial 15 with value: 0.9436242208370436.\n",
            "[I 2025-05-02 15:56:04,824] Trial 19 finished with value: 0.5015627782724844 and parameters: {'hidden_layer_sizes': '(50, 50)', 'activation': 'logistic', 'solver': 'adam', 'alpha': 0.09580462007601086, 'learning_rate': 'adaptive', 'max_iter': 361, 'batch_size': 64, 'early_stopping': False}. Best is trial 15 with value: 0.9436242208370436.\n",
            "[I 2025-05-02 15:56:07,231] Trial 20 finished with value: 0.6212243989314336 and parameters: {'hidden_layer_sizes': '(50,)', 'activation': 'relu', 'solver': 'adam', 'alpha': 0.0002074834229587004, 'learning_rate': 'constant', 'max_iter': 267, 'batch_size': 64, 'early_stopping': False}. Best is trial 15 with value: 0.9436242208370436.\n",
            "[I 2025-05-02 15:56:07,869] Trial 21 finished with value: 0.7542920747996438 and parameters: {'hidden_layer_sizes': '(50,)', 'activation': 'relu', 'solver': 'adam', 'alpha': 0.001113709500358032, 'learning_rate': 'adaptive', 'max_iter': 239, 'batch_size': 64, 'early_stopping': False}. Best is trial 15 with value: 0.9436242208370436.\n",
            "[I 2025-05-02 15:56:08,474] Trial 22 finished with value: 0.7608904719501336 and parameters: {'hidden_layer_sizes': '(50,)', 'activation': 'relu', 'solver': 'adam', 'alpha': 0.0004362583463582305, 'learning_rate': 'adaptive', 'max_iter': 225, 'batch_size': 64, 'early_stopping': False}. Best is trial 15 with value: 0.9436242208370436.\n",
            "[I 2025-05-02 15:56:09,055] Trial 23 finished with value: 0.6005565449688335 and parameters: {'hidden_layer_sizes': '(50,)', 'activation': 'relu', 'solver': 'adam', 'alpha': 0.0022898992503057624, 'learning_rate': 'adaptive', 'max_iter': 284, 'batch_size': 64, 'early_stopping': False}. Best is trial 15 with value: 0.9436242208370436.\n",
            "[I 2025-05-02 15:56:09,668] Trial 24 finished with value: 0.6386598397150489 and parameters: {'hidden_layer_sizes': '(50,)', 'activation': 'relu', 'solver': 'adam', 'alpha': 0.0009000633335778001, 'learning_rate': 'adaptive', 'max_iter': 261, 'batch_size': 64, 'early_stopping': False}. Best is trial 15 with value: 0.9436242208370436.\n",
            "[I 2025-05-02 15:56:14,293] Trial 25 finished with value: 0.8374844167408726 and parameters: {'hidden_layer_sizes': '(50,)', 'activation': 'relu', 'solver': 'adam', 'alpha': 0.00028938490799742693, 'learning_rate': 'adaptive', 'max_iter': 319, 'batch_size': 64, 'early_stopping': False}. Best is trial 15 with value: 0.9436242208370436.\n",
            "[I 2025-05-02 15:56:15,560] Trial 26 finished with value: 0.827119323241318 and parameters: {'hidden_layer_sizes': '(50,)', 'activation': 'relu', 'solver': 'adam', 'alpha': 0.002892384969970955, 'learning_rate': 'adaptive', 'max_iter': 217, 'batch_size': 64, 'early_stopping': True}. Best is trial 15 with value: 0.9436242208370436.\n",
            "[I 2025-05-02 15:56:18,738] Trial 27 finished with value: 0.9053161175422973 and parameters: {'hidden_layer_sizes': '(50, 50)', 'activation': 'relu', 'solver': 'adam', 'alpha': 0.0062023697293268065, 'learning_rate': 'adaptive', 'max_iter': 257, 'batch_size': 64, 'early_stopping': False}. Best is trial 15 with value: 0.9436242208370436.\n",
            "[I 2025-05-02 15:56:19,795] Trial 28 finished with value: 0.5165360641139805 and parameters: {'hidden_layer_sizes': '(100,)', 'activation': 'logistic', 'solver': 'adam', 'alpha': 0.0013386651711461066, 'learning_rate': 'constant', 'max_iter': 289, 'batch_size': 128, 'early_stopping': False}. Best is trial 15 with value: 0.9436242208370436.\n",
            "[I 2025-05-02 15:56:20,748] Trial 29 finished with value: 0.4991095280498664 and parameters: {'hidden_layer_sizes': '(50,)', 'activation': 'tanh', 'solver': 'sgd', 'alpha': 0.00018849615115772858, 'learning_rate': 'constant', 'max_iter': 424, 'batch_size': 64, 'early_stopping': False}. Best is trial 15 with value: 0.9436242208370436.\n",
            "[I 2025-05-02 15:56:21,223] Trial 30 finished with value: 0.65306767586821 and parameters: {'hidden_layer_sizes': '(50,)', 'activation': 'relu', 'solver': 'adam', 'alpha': 0.0006623116531843169, 'learning_rate': 'adaptive', 'max_iter': 250, 'batch_size': 128, 'early_stopping': False}. Best is trial 15 with value: 0.9436242208370436.\n",
            "[I 2025-05-02 15:56:22,490] Trial 31 finished with value: 0.5380543187889582 and parameters: {'hidden_layer_sizes': '(50, 50)', 'activation': 'relu', 'solver': 'adam', 'alpha': 0.005146329114554907, 'learning_rate': 'adaptive', 'max_iter': 225, 'batch_size': 64, 'early_stopping': False}. Best is trial 15 with value: 0.9436242208370436.\n",
            "[I 2025-05-02 15:56:29,271] Trial 32 finished with value: 0.9141406945681211 and parameters: {'hidden_layer_sizes': '(50, 50)', 'activation': 'relu', 'solver': 'adam', 'alpha': 0.00932880247376588, 'learning_rate': 'adaptive', 'max_iter': 300, 'batch_size': 64, 'early_stopping': False}. Best is trial 15 with value: 0.9436242208370436.\n",
            "[I 2025-05-02 15:56:32,157] Trial 33 finished with value: 0.6159750667853963 and parameters: {'hidden_layer_sizes': '(50, 50)', 'activation': 'relu', 'solver': 'adam', 'alpha': 0.03166867922811034, 'learning_rate': 'adaptive', 'max_iter': 296, 'batch_size': 64, 'early_stopping': False}. Best is trial 15 with value: 0.9436242208370436.\n",
            "[I 2025-05-02 15:56:40,055] Trial 34 finished with value: 0.4995547640249332 and parameters: {'hidden_layer_sizes': '(50, 50)', 'activation': 'relu', 'solver': 'sgd', 'alpha': 0.01394761264482925, 'learning_rate': 'adaptive', 'max_iter': 336, 'batch_size': 64, 'early_stopping': True}. Best is trial 15 with value: 0.9436242208370436.\n",
            "[I 2025-05-02 15:56:44,878] Trial 35 finished with value: 0.5030253784505788 and parameters: {'hidden_layer_sizes': '(100, 50)', 'activation': 'logistic', 'solver': 'adam', 'alpha': 0.0040283984738446335, 'learning_rate': 'adaptive', 'max_iter': 318, 'batch_size': 32, 'early_stopping': False}. Best is trial 15 with value: 0.9436242208370436.\n",
            "[I 2025-05-02 15:56:46,130] Trial 36 finished with value: 0.4968833481745325 and parameters: {'hidden_layer_sizes': '(100,)', 'activation': 'tanh', 'solver': 'sgd', 'alpha': 0.0019267559121325917, 'learning_rate': 'constant', 'max_iter': 281, 'batch_size': 128, 'early_stopping': False}. Best is trial 15 with value: 0.9436242208370436.\n",
            "[I 2025-05-02 15:56:47,234] Trial 37 finished with value: 0.5034906500445235 and parameters: {'hidden_layer_sizes': '(50, 50)', 'activation': 'relu', 'solver': 'adam', 'alpha': 0.008368575323821558, 'learning_rate': 'adaptive', 'max_iter': 350, 'batch_size': 64, 'early_stopping': True}. Best is trial 15 with value: 0.9436242208370436.\n",
            "[I 2025-05-02 15:56:49,593] Trial 38 finished with value: 0.856313446126447 and parameters: {'hidden_layer_sizes': '(50,)', 'activation': 'relu', 'solver': 'adam', 'alpha': 0.00010433993539813318, 'learning_rate': 'constant', 'max_iter': 384, 'batch_size': 32, 'early_stopping': False}. Best is trial 15 with value: 0.9436242208370436.\n",
            "[I 2025-05-02 15:57:02,075] Trial 39 finished with value: 0.506233303650935 and parameters: {'hidden_layer_sizes': '(100, 50)', 'activation': 'tanh', 'solver': 'sgd', 'alpha': 0.000325774967255977, 'learning_rate': 'adaptive', 'max_iter': 300, 'batch_size': 128, 'early_stopping': True}. Best is trial 15 with value: 0.9436242208370436.\n",
            "[I 2025-05-02 15:57:03,986] Trial 40 finished with value: 0.48503339269813 and parameters: {'hidden_layer_sizes': '(50, 50)', 'activation': 'logistic', 'solver': 'adam', 'alpha': 0.0014877397398295126, 'learning_rate': 'constant', 'max_iter': 334, 'batch_size': 64, 'early_stopping': False}. Best is trial 15 with value: 0.9436242208370436.\n",
            "[I 2025-05-02 15:57:06,607] Trial 41 finished with value: 0.6006812110418521 and parameters: {'hidden_layer_sizes': '(50, 50)', 'activation': 'relu', 'solver': 'adam', 'alpha': 0.009216988629626345, 'learning_rate': 'adaptive', 'max_iter': 255, 'batch_size': 64, 'early_stopping': False}. Best is trial 15 with value: 0.9436242208370436.\n",
            "[I 2025-05-02 15:57:09,720] Trial 42 finished with value: 0.8235886019590384 and parameters: {'hidden_layer_sizes': '(50, 50)', 'activation': 'relu', 'solver': 'adam', 'alpha': 0.02175463164065449, 'learning_rate': 'adaptive', 'max_iter': 274, 'batch_size': 64, 'early_stopping': False}. Best is trial 15 with value: 0.9436242208370436.\n",
            "[I 2025-05-02 15:57:12,410] Trial 43 finished with value: 0.573886910062333 and parameters: {'hidden_layer_sizes': '(50, 50)', 'activation': 'relu', 'solver': 'adam', 'alpha': 0.005558888651357183, 'learning_rate': 'adaptive', 'max_iter': 216, 'batch_size': 64, 'early_stopping': False}. Best is trial 15 with value: 0.9436242208370436.\n",
            "[I 2025-05-02 15:57:19,532] Trial 44 finished with value: 0.7771015138023153 and parameters: {'hidden_layer_sizes': '(50, 50)', 'activation': 'relu', 'solver': 'adam', 'alpha': 0.0028594883570985754, 'learning_rate': 'adaptive', 'max_iter': 500, 'batch_size': 64, 'early_stopping': False}. Best is trial 15 with value: 0.9436242208370436.\n",
            "[I 2025-05-02 15:57:22,924] Trial 45 finished with value: 0.876246660730187 and parameters: {'hidden_layer_sizes': '(50,)', 'activation': 'relu', 'solver': 'adam', 'alpha': 0.0006400990830171608, 'learning_rate': 'adaptive', 'max_iter': 250, 'batch_size': 32, 'early_stopping': False}. Best is trial 15 with value: 0.9436242208370436.\n",
            "[I 2025-05-02 15:57:25,268] Trial 46 finished with value: 0.9097684772929653 and parameters: {'hidden_layer_sizes': '(100,)', 'activation': 'relu', 'solver': 'adam', 'alpha': 0.006641017780908412, 'learning_rate': 'adaptive', 'max_iter': 270, 'batch_size': 64, 'early_stopping': False}. Best is trial 15 with value: 0.9436242208370436.\n",
            "[I 2025-05-02 15:57:25,839] Trial 47 finished with value: 0.5 and parameters: {'hidden_layer_sizes': '(100,)', 'activation': 'relu', 'solver': 'sgd', 'alpha': 0.003973825212673881, 'learning_rate': 'constant', 'max_iter': 272, 'batch_size': 64, 'early_stopping': False}. Best is trial 15 with value: 0.9436242208370436.\n",
            "[I 2025-05-02 15:57:27,244] Trial 48 finished with value: 0.8359839715048977 and parameters: {'hidden_layer_sizes': '(100,)', 'activation': 'relu', 'solver': 'adam', 'alpha': 0.0009351249479250857, 'learning_rate': 'adaptive', 'max_iter': 233, 'batch_size': 64, 'early_stopping': True}. Best is trial 15 with value: 0.9436242208370436.\n",
            "[I 2025-05-02 15:57:28,668] Trial 49 finished with value: 0.7120569902048086 and parameters: {'hidden_layer_sizes': '(100,)', 'activation': 'relu', 'solver': 'adam', 'alpha': 0.0004015499879458945, 'learning_rate': 'adaptive', 'max_iter': 205, 'batch_size': 64, 'early_stopping': False}. Best is trial 15 with value: 0.9436242208370436.\n",
            "[I 2025-05-02 15:57:32,344] Trial 50 finished with value: 0.5026959038290294 and parameters: {'hidden_layer_sizes': '(100,)', 'activation': 'logistic', 'solver': 'adam', 'alpha': 0.010896342214849612, 'learning_rate': 'constant', 'max_iter': 315, 'batch_size': 32, 'early_stopping': False}. Best is trial 15 with value: 0.9436242208370436.\n",
            "[I 2025-05-02 15:57:37,546] Trial 51 finished with value: 0.587840605520926 and parameters: {'hidden_layer_sizes': '(100, 50)', 'activation': 'relu', 'solver': 'adam', 'alpha': 0.006319606003800656, 'learning_rate': 'adaptive', 'max_iter': 261, 'batch_size': 64, 'early_stopping': False}. Best is trial 15 with value: 0.9436242208370436.\n",
            "[I 2025-05-02 15:57:39,704] Trial 52 finished with value: 0.9399777382012466 and parameters: {'hidden_layer_sizes': '(50,)', 'activation': 'relu', 'solver': 'adam', 'alpha': 0.024942791413626157, 'learning_rate': 'adaptive', 'max_iter': 247, 'batch_size': 64, 'early_stopping': False}. Best is trial 15 with value: 0.9436242208370436.\n",
            "[I 2025-05-02 15:57:40,285] Trial 53 finished with value: 0.5765316117542298 and parameters: {'hidden_layer_sizes': '(50,)', 'activation': 'relu', 'solver': 'adam', 'alpha': 0.051997059561712966, 'learning_rate': 'adaptive', 'max_iter': 237, 'batch_size': 64, 'early_stopping': False}. Best is trial 15 with value: 0.9436242208370436.\n",
            "[I 2025-05-02 15:57:40,888] Trial 54 finished with value: 0.6431478183437221 and parameters: {'hidden_layer_sizes': '(50,)', 'activation': 'relu', 'solver': 'adam', 'alpha': 0.01984297832735904, 'learning_rate': 'adaptive', 'max_iter': 289, 'batch_size': 64, 'early_stopping': False}. Best is trial 15 with value: 0.9436242208370436.\n",
            "[I 2025-05-02 15:57:42,425] Trial 55 finished with value: 0.869073909171861 and parameters: {'hidden_layer_sizes': '(50,)', 'activation': 'relu', 'solver': 'adam', 'alpha': 0.03669001661855736, 'learning_rate': 'adaptive', 'max_iter': 245, 'batch_size': 64, 'early_stopping': False}. Best is trial 15 with value: 0.9436242208370436.\n",
            "[I 2025-05-02 15:57:43,473] Trial 56 finished with value: 0.4833837934105075 and parameters: {'hidden_layer_sizes': '(50,)', 'activation': 'tanh', 'solver': 'adam', 'alpha': 0.02380038318043896, 'learning_rate': 'adaptive', 'max_iter': 305, 'batch_size': 64, 'early_stopping': False}. Best is trial 15 with value: 0.9436242208370436.\n",
            "[I 2025-05-02 15:57:46,164] Trial 57 finished with value: 0.9411398040961709 and parameters: {'hidden_layer_sizes': '(50,)', 'activation': 'relu', 'solver': 'adam', 'alpha': 0.060678291845647915, 'learning_rate': 'adaptive', 'max_iter': 268, 'batch_size': 64, 'early_stopping': False}. Best is trial 15 with value: 0.9436242208370436.\n",
            "[I 2025-05-02 15:57:48,782] Trial 58 finished with value: 0.7267097061442565 and parameters: {'hidden_layer_sizes': '(50,)', 'activation': 'relu', 'solver': 'adam', 'alpha': 0.05646313693330931, 'learning_rate': 'adaptive', 'max_iter': 269, 'batch_size': 64, 'early_stopping': False}. Best is trial 15 with value: 0.9436242208370436.\n",
            "[I 2025-05-02 15:57:49,254] Trial 59 finished with value: 0.6224888691006234 and parameters: {'hidden_layer_sizes': '(50,)', 'activation': 'relu', 'solver': 'adam', 'alpha': 0.07329483664782614, 'learning_rate': 'constant', 'max_iter': 277, 'batch_size': 128, 'early_stopping': False}. Best is trial 15 with value: 0.9436242208370436.\n",
            "[I 2025-05-02 15:57:52,504] Trial 60 finished with value: 0.9190783615316117 and parameters: {'hidden_layer_sizes': '(100,)', 'activation': 'relu', 'solver': 'adam', 'alpha': 0.04442817984757285, 'learning_rate': 'adaptive', 'max_iter': 308, 'batch_size': 64, 'early_stopping': True}. Best is trial 15 with value: 0.9436242208370436.\n",
            "[I 2025-05-02 15:57:54,408] Trial 61 finished with value: 0.5409349955476402 and parameters: {'hidden_layer_sizes': '(100,)', 'activation': 'relu', 'solver': 'adam', 'alpha': 0.038929248294078414, 'learning_rate': 'adaptive', 'max_iter': 330, 'batch_size': 64, 'early_stopping': True}. Best is trial 15 with value: 0.9436242208370436.\n",
            "[I 2025-05-02 15:57:55,245] Trial 62 finished with value: 0.5056188780053428 and parameters: {'hidden_layer_sizes': '(100,)', 'activation': 'relu', 'solver': 'adam', 'alpha': 0.0915234022527094, 'learning_rate': 'adaptive', 'max_iter': 306, 'batch_size': 64, 'early_stopping': True}. Best is trial 15 with value: 0.9436242208370436.\n",
            "[I 2025-05-02 15:57:56,166] Trial 63 finished with value: 0.5061442564559216 and parameters: {'hidden_layer_sizes': '(100,)', 'activation': 'relu', 'solver': 'adam', 'alpha': 0.04894746739848628, 'learning_rate': 'adaptive', 'max_iter': 353, 'batch_size': 64, 'early_stopping': True}. Best is trial 15 with value: 0.9436242208370436.\n",
            "[I 2025-05-02 15:57:58,837] Trial 64 finished with value: 0.8892119323241318 and parameters: {'hidden_layer_sizes': '(100,)', 'activation': 'relu', 'solver': 'adam', 'alpha': 0.02784149368021521, 'learning_rate': 'adaptive', 'max_iter': 291, 'batch_size': 64, 'early_stopping': True}. Best is trial 15 with value: 0.9436242208370436.\n",
            "[I 2025-05-02 15:58:00,314] Trial 65 finished with value: 0.49590828138913623 and parameters: {'hidden_layer_sizes': '(50,)', 'activation': 'relu', 'solver': 'adam', 'alpha': 0.018018011293230354, 'learning_rate': 'adaptive', 'max_iter': 325, 'batch_size': 64, 'early_stopping': True}. Best is trial 15 with value: 0.9436242208370436.\n"
          ]
        },
        {
          "output_type": "execute_result",
          "data": {
            "text/plain": [
              "{'hidden_layer_sizes': '(50,)',\n",
              " 'activation': 'relu',\n",
              " 'solver': 'adam',\n",
              " 'alpha': 0.0010268993228271025,\n",
              " 'learning_rate': 'adaptive',\n",
              " 'max_iter': 309,\n",
              " 'batch_size': 64,\n",
              " 'early_stopping': False}"
            ]
          },
          "metadata": {},
          "execution_count": 12
        }
      ]
    },
    {
      "cell_type": "code",
      "source": [
        "#best_m_mlp['hidden_layer_sizes'] =  ast.literal_eval(best_m_mlp['hidden_layer_sizes'] )\n",
        "model = MLPClassifier(**best_m_mlp)\n",
        "model.fit(X_train_m, y_train_m)\n",
        "y_pred_proba = model.predict_proba(X_test_m)[:, 1]\n",
        "y_pred = model.predict(X_test_m)\n",
        "roc_auc_score(y_test_m, y_pred_proba)"
      ],
      "metadata": {
        "colab": {
          "base_uri": "https://localhost:8080/"
        },
        "id": "plitht3Pr4it",
        "outputId": "6d28c9e0-fc12-486c-f647-3d05e95de7da"
      },
      "execution_count": 21,
      "outputs": [
        {
          "output_type": "execute_result",
          "data": {
            "text/plain": [
              "np.float64(0.8669705741777816)"
            ]
          },
          "metadata": {},
          "execution_count": 21
        }
      ]
    },
    {
      "cell_type": "code",
      "source": [
        "best_p_mlp = optimizer_mlp(X_train_p, y_train_p, X_valid_p, y_valid_p, n_trials = 30)\n",
        "best_p_mlp"
      ],
      "metadata": {
        "colab": {
          "base_uri": "https://localhost:8080/"
        },
        "id": "QeK5uVL-rsCH",
        "outputId": "742349b4-e87f-4383-e2d5-0f8665a60260"
      },
      "execution_count": 14,
      "outputs": [
        {
          "output_type": "stream",
          "name": "stderr",
          "text": [
            "[I 2025-05-02 15:58:40,990] A new study created in memory with name: no-name-92bc9d05-d7f8-43c2-b2cd-f42bc1ce02fc\n",
            "[I 2025-05-02 15:58:41,900] Trial 0 finished with value: 0.5067813097671965 and parameters: {'hidden_layer_sizes': '(50,)', 'activation': 'logistic', 'solver': 'adam', 'alpha': 0.0001366839953164711, 'learning_rate': 'adaptive', 'max_iter': 264, 'batch_size': 64, 'early_stopping': False}. Best is trial 0 with value: 0.5067813097671965.\n",
            "[I 2025-05-02 15:58:44,253] Trial 1 finished with value: 0.5 and parameters: {'hidden_layer_sizes': '(50,)', 'activation': 'relu', 'solver': 'sgd', 'alpha': 0.051816140493377724, 'learning_rate': 'adaptive', 'max_iter': 427, 'batch_size': 64, 'early_stopping': False}. Best is trial 0 with value: 0.5067813097671965.\n",
            "[I 2025-05-02 15:59:03,804] Trial 2 finished with value: 0.47730000659500094 and parameters: {'hidden_layer_sizes': '(100, 50)', 'activation': 'tanh', 'solver': 'sgd', 'alpha': 0.0005093691065803074, 'learning_rate': 'adaptive', 'max_iter': 437, 'batch_size': 32, 'early_stopping': True}. Best is trial 0 with value: 0.5067813097671965.\n",
            "[I 2025-05-02 15:59:05,871] Trial 3 finished with value: 0.49609246191386935 and parameters: {'hidden_layer_sizes': '(100, 50)', 'activation': 'tanh', 'solver': 'adam', 'alpha': 0.00028152902525523126, 'learning_rate': 'constant', 'max_iter': 201, 'batch_size': 128, 'early_stopping': False}. Best is trial 0 with value: 0.5067813097671965.\n",
            "[I 2025-05-02 15:59:06,467] Trial 4 finished with value: 0.6392831233924685 and parameters: {'hidden_layer_sizes': '(50,)', 'activation': 'relu', 'solver': 'adam', 'alpha': 0.00042686925828737507, 'learning_rate': 'adaptive', 'max_iter': 387, 'batch_size': 128, 'early_stopping': False}. Best is trial 4 with value: 0.6392831233924685.\n",
            "[I 2025-05-02 15:59:22,821] Trial 5 finished with value: 0.5004863813229572 and parameters: {'hidden_layer_sizes': '(100, 50)', 'activation': 'tanh', 'solver': 'sgd', 'alpha': 0.002868621250170764, 'learning_rate': 'adaptive', 'max_iter': 373, 'batch_size': 32, 'early_stopping': False}. Best is trial 4 with value: 0.6392831233924685.\n",
            "[I 2025-05-02 15:59:23,527] Trial 6 finished with value: 0.49746092461913866 and parameters: {'hidden_layer_sizes': '(50,)', 'activation': 'tanh', 'solver': 'adam', 'alpha': 0.0014642250377169357, 'learning_rate': 'adaptive', 'max_iter': 354, 'batch_size': 128, 'early_stopping': False}. Best is trial 4 with value: 0.6392831233924685.\n",
            "[I 2025-05-02 15:59:25,622] Trial 7 finished with value: 0.49204478005671703 and parameters: {'hidden_layer_sizes': '(100, 50)', 'activation': 'tanh', 'solver': 'adam', 'alpha': 0.000532433861222632, 'learning_rate': 'adaptive', 'max_iter': 305, 'batch_size': 64, 'early_stopping': True}. Best is trial 4 with value: 0.6392831233924685.\n",
            "[I 2025-05-02 15:59:31,397] Trial 8 finished with value: 0.7292537756380663 and parameters: {'hidden_layer_sizes': '(100, 50)', 'activation': 'relu', 'solver': 'adam', 'alpha': 0.04101385548755995, 'learning_rate': 'adaptive', 'max_iter': 265, 'batch_size': 128, 'early_stopping': False}. Best is trial 8 with value: 0.7292537756380663.\n",
            "[I 2025-05-02 15:59:32,902] Trial 9 finished with value: 0.7526000791400118 and parameters: {'hidden_layer_sizes': '(100,)', 'activation': 'relu', 'solver': 'adam', 'alpha': 0.00019905753352517094, 'learning_rate': 'constant', 'max_iter': 427, 'batch_size': 32, 'early_stopping': False}. Best is trial 9 with value: 0.7526000791400118.\n",
            "[I 2025-05-02 15:59:34,330] Trial 10 finished with value: 0.5015020114753017 and parameters: {'hidden_layer_sizes': '(100,)', 'activation': 'logistic', 'solver': 'sgd', 'alpha': 0.01191397136463948, 'learning_rate': 'constant', 'max_iter': 500, 'batch_size': 32, 'early_stopping': True}. Best is trial 9 with value: 0.7526000791400118.\n",
            "[I 2025-05-02 15:59:37,968] Trial 11 finished with value: 0.6852700652905098 and parameters: {'hidden_layer_sizes': '(100,)', 'activation': 'relu', 'solver': 'adam', 'alpha': 0.01883994914500793, 'learning_rate': 'constant', 'max_iter': 272, 'batch_size': 32, 'early_stopping': False}. Best is trial 9 with value: 0.7526000791400118.\n",
            "[I 2025-05-02 15:59:38,630] Trial 12 finished with value: 0.4985985622897844 and parameters: {'hidden_layer_sizes': '(50, 50)', 'activation': 'relu', 'solver': 'adam', 'alpha': 0.0771888860433551, 'learning_rate': 'constant', 'max_iter': 200, 'batch_size': 128, 'early_stopping': False}. Best is trial 9 with value: 0.7526000791400118.\n",
            "[I 2025-05-02 15:59:40,771] Trial 13 finished with value: 0.6186044977906746 and parameters: {'hidden_layer_sizes': '(100,)', 'activation': 'relu', 'solver': 'adam', 'alpha': 0.01442763089713106, 'learning_rate': 'constant', 'max_iter': 491, 'batch_size': 128, 'early_stopping': False}. Best is trial 9 with value: 0.7526000791400118.\n",
            "[I 2025-05-02 15:59:43,858] Trial 14 finished with value: 0.5600342940051442 and parameters: {'hidden_layer_sizes': '(50, 50)', 'activation': 'relu', 'solver': 'adam', 'alpha': 0.004622847523932701, 'learning_rate': 'constant', 'max_iter': 314, 'batch_size': 32, 'early_stopping': True}. Best is trial 9 with value: 0.7526000791400118.\n",
            "[I 2025-05-02 15:59:45,233] Trial 15 finished with value: 0.7700603442590517 and parameters: {'hidden_layer_sizes': '(100,)', 'activation': 'relu', 'solver': 'adam', 'alpha': 0.00010080973435696283, 'learning_rate': 'constant', 'max_iter': 427, 'batch_size': 32, 'early_stopping': False}. Best is trial 15 with value: 0.7700603442590517.\n",
            "[I 2025-05-02 15:59:47,755] Trial 16 finished with value: 0.684204972630746 and parameters: {'hidden_layer_sizes': '(100,)', 'activation': 'relu', 'solver': 'adam', 'alpha': 0.00010002012093478593, 'learning_rate': 'constant', 'max_iter': 442, 'batch_size': 32, 'early_stopping': False}. Best is trial 15 with value: 0.7700603442590517.\n",
            "[I 2025-05-02 15:59:49,520] Trial 17 finished with value: 0.4749241574886237 and parameters: {'hidden_layer_sizes': '(100,)', 'activation': 'logistic', 'solver': 'adam', 'alpha': 0.00019763244375083287, 'learning_rate': 'constant', 'max_iter': 403, 'batch_size': 32, 'early_stopping': False}. Best is trial 15 with value: 0.7700603442590517.\n",
            "[I 2025-05-02 15:59:50,601] Trial 18 finished with value: 0.5 and parameters: {'hidden_layer_sizes': '(100,)', 'activation': 'relu', 'solver': 'sgd', 'alpha': 0.001055006041520089, 'learning_rate': 'constant', 'max_iter': 472, 'batch_size': 32, 'early_stopping': True}. Best is trial 15 with value: 0.7700603442590517.\n",
            "[I 2025-05-02 15:59:53,165] Trial 19 finished with value: 0.5643935896590384 and parameters: {'hidden_layer_sizes': '(100,)', 'activation': 'relu', 'solver': 'adam', 'alpha': 0.0009681267120092283, 'learning_rate': 'constant', 'max_iter': 463, 'batch_size': 32, 'early_stopping': False}. Best is trial 15 with value: 0.7700603442590517.\n",
            "[I 2025-05-02 15:59:55,980] Trial 20 finished with value: 0.46294928444239264 and parameters: {'hidden_layer_sizes': '(100,)', 'activation': 'logistic', 'solver': 'adam', 'alpha': 0.00023058335972037553, 'learning_rate': 'constant', 'max_iter': 408, 'batch_size': 32, 'early_stopping': False}. Best is trial 15 with value: 0.7700603442590517.\n",
            "[I 2025-05-02 15:59:59,927] Trial 21 finished with value: 0.665884059882609 and parameters: {'hidden_layer_sizes': '(100, 50)', 'activation': 'relu', 'solver': 'adam', 'alpha': 0.0061201942342112795, 'learning_rate': 'adaptive', 'max_iter': 323, 'batch_size': 128, 'early_stopping': False}. Best is trial 15 with value: 0.7700603442590517.\n",
            "[I 2025-05-02 16:00:01,464] Trial 22 finished with value: 0.715541119831168 and parameters: {'hidden_layer_sizes': '(50, 50)', 'activation': 'relu', 'solver': 'adam', 'alpha': 0.029699938111461297, 'learning_rate': 'constant', 'max_iter': 231, 'batch_size': 128, 'early_stopping': False}. Best is trial 15 with value: 0.7700603442590517.\n",
            "[I 2025-05-02 16:00:03,579] Trial 23 finished with value: 0.5567236035085406 and parameters: {'hidden_layer_sizes': '(100, 50)', 'activation': 'relu', 'solver': 'adam', 'alpha': 0.0023768625540892306, 'learning_rate': 'adaptive', 'max_iter': 351, 'batch_size': 64, 'early_stopping': False}. Best is trial 15 with value: 0.7700603442590517.\n",
            "[I 2025-05-02 16:00:07,062] Trial 24 finished with value: 0.7693315966497396 and parameters: {'hidden_layer_sizes': '(100,)', 'activation': 'relu', 'solver': 'adam', 'alpha': 0.00011736978912469794, 'learning_rate': 'constant', 'max_iter': 273, 'batch_size': 32, 'early_stopping': False}. Best is trial 15 with value: 0.7700603442590517.\n",
            "[I 2025-05-02 16:00:09,686] Trial 25 finished with value: 0.5502275275341291 and parameters: {'hidden_layer_sizes': '(100,)', 'activation': 'relu', 'solver': 'adam', 'alpha': 0.0001024105928464852, 'learning_rate': 'constant', 'max_iter': 384, 'batch_size': 32, 'early_stopping': False}. Best is trial 15 with value: 0.7700603442590517.\n",
            "[I 2025-05-02 16:00:11,572] Trial 26 finished with value: 0.5 and parameters: {'hidden_layer_sizes': '(100,)', 'activation': 'relu', 'solver': 'sgd', 'alpha': 0.00017752311413943216, 'learning_rate': 'constant', 'max_iter': 415, 'batch_size': 32, 'early_stopping': True}. Best is trial 15 with value: 0.7700603442590517.\n",
            "[I 2025-05-02 16:00:16,135] Trial 27 finished with value: 0.7766800765020115 and parameters: {'hidden_layer_sizes': '(100,)', 'activation': 'relu', 'solver': 'adam', 'alpha': 0.00032996172953667286, 'learning_rate': 'constant', 'max_iter': 459, 'batch_size': 32, 'early_stopping': False}. Best is trial 27 with value: 0.7766800765020115.\n",
            "[I 2025-05-02 16:00:17,954] Trial 28 finished with value: 0.4816411659961749 and parameters: {'hidden_layer_sizes': '(100,)', 'activation': 'logistic', 'solver': 'adam', 'alpha': 0.00041083197250319176, 'learning_rate': 'constant', 'max_iter': 458, 'batch_size': 32, 'early_stopping': False}. Best is trial 27 with value: 0.7766800765020115.\n",
            "[I 2025-05-02 16:00:19,509] Trial 29 finished with value: 0.696930027039504 and parameters: {'hidden_layer_sizes': '(100,)', 'activation': 'relu', 'solver': 'adam', 'alpha': 0.0001425635125086089, 'learning_rate': 'constant', 'max_iter': 279, 'batch_size': 64, 'early_stopping': False}. Best is trial 27 with value: 0.7766800765020115.\n",
            "[I 2025-05-02 16:00:22,300] Trial 30 finished with value: 0.49183538877530836 and parameters: {'hidden_layer_sizes': '(100,)', 'activation': 'logistic', 'solver': 'adam', 'alpha': 0.00034196467849000885, 'learning_rate': 'constant', 'max_iter': 232, 'batch_size': 32, 'early_stopping': False}. Best is trial 27 with value: 0.7766800765020115.\n",
            "[I 2025-05-02 16:00:24,132] Trial 31 finished with value: 0.7774863153729473 and parameters: {'hidden_layer_sizes': '(100,)', 'activation': 'relu', 'solver': 'adam', 'alpha': 0.00015474065316415945, 'learning_rate': 'constant', 'max_iter': 448, 'batch_size': 32, 'early_stopping': False}. Best is trial 31 with value: 0.7774863153729473.\n",
            "[I 2025-05-02 16:00:25,983] Trial 32 finished with value: 0.7761574226736134 and parameters: {'hidden_layer_sizes': '(100,)', 'activation': 'relu', 'solver': 'adam', 'alpha': 0.00011637389114284432, 'learning_rate': 'constant', 'max_iter': 480, 'batch_size': 32, 'early_stopping': False}. Best is trial 31 with value: 0.7774863153729473.\n",
            "[I 2025-05-02 16:00:27,265] Trial 33 finished with value: 0.777436852865528 and parameters: {'hidden_layer_sizes': '(50,)', 'activation': 'relu', 'solver': 'adam', 'alpha': 0.0008104641297317499, 'learning_rate': 'constant', 'max_iter': 478, 'batch_size': 32, 'early_stopping': False}. Best is trial 31 with value: 0.7774863153729473.\n",
            "[I 2025-05-02 16:00:28,059] Trial 34 finished with value: 0.5 and parameters: {'hidden_layer_sizes': '(50,)', 'activation': 'relu', 'solver': 'sgd', 'alpha': 0.0007499839503296619, 'learning_rate': 'constant', 'max_iter': 478, 'batch_size': 32, 'early_stopping': False}. Best is trial 31 with value: 0.7774863153729473.\n",
            "[I 2025-05-02 16:00:28,867] Trial 35 finished with value: 0.694793246718987 and parameters: {'hidden_layer_sizes': '(50,)', 'activation': 'relu', 'solver': 'adam', 'alpha': 0.0006286349190349154, 'learning_rate': 'constant', 'max_iter': 450, 'batch_size': 64, 'early_stopping': False}. Best is trial 31 with value: 0.7774863153729473.\n",
            "[I 2025-05-02 16:00:30,642] Trial 36 finished with value: 0.4900844160126624 and parameters: {'hidden_layer_sizes': '(50,)', 'activation': 'tanh', 'solver': 'adam', 'alpha': 0.00030107595641000646, 'learning_rate': 'constant', 'max_iter': 480, 'batch_size': 32, 'early_stopping': False}. Best is trial 31 with value: 0.7774863153729473.\n",
            "[I 2025-05-02 16:00:31,641] Trial 37 finished with value: 0.5 and parameters: {'hidden_layer_sizes': '(50,)', 'activation': 'relu', 'solver': 'sgd', 'alpha': 0.001337207775406617, 'learning_rate': 'constant', 'max_iter': 499, 'batch_size': 32, 'early_stopping': True}. Best is trial 31 with value: 0.7774863153729473.\n",
            "[I 2025-05-02 16:00:35,025] Trial 38 finished with value: 0.5051210182681528 and parameters: {'hidden_layer_sizes': '(50,)', 'activation': 'tanh', 'solver': 'adam', 'alpha': 0.0002794576599898169, 'learning_rate': 'constant', 'max_iter': 445, 'batch_size': 32, 'early_stopping': False}. Best is trial 31 with value: 0.7774863153729473.\n",
            "[I 2025-05-02 16:00:37,009] Trial 39 finished with value: 0.5952812767921914 and parameters: {'hidden_layer_sizes': '(50, 50)', 'activation': 'relu', 'solver': 'adam', 'alpha': 0.00044752806769206163, 'learning_rate': 'constant', 'max_iter': 464, 'batch_size': 64, 'early_stopping': False}. Best is trial 31 with value: 0.7774863153729473.\n",
            "[I 2025-05-02 16:00:39,088] Trial 40 finished with value: 0.5009908988986349 and parameters: {'hidden_layer_sizes': '(50,)', 'activation': 'tanh', 'solver': 'adam', 'alpha': 0.0021318255030247945, 'learning_rate': 'adaptive', 'max_iter': 487, 'batch_size': 32, 'early_stopping': False}. Best is trial 31 with value: 0.7774863153729473.\n",
            "[I 2025-05-02 16:00:40,956] Trial 41 finished with value: 0.5503891050583658 and parameters: {'hidden_layer_sizes': '(100,)', 'activation': 'relu', 'solver': 'adam', 'alpha': 0.00015085079350879367, 'learning_rate': 'constant', 'max_iter': 429, 'batch_size': 32, 'early_stopping': False}. Best is trial 31 with value: 0.7774863153729473.\n",
            "[I 2025-05-02 16:00:42,575] Trial 42 finished with value: 0.7185319527797929 and parameters: {'hidden_layer_sizes': '(100,)', 'activation': 'relu', 'solver': 'adam', 'alpha': 0.00024109686184074856, 'learning_rate': 'constant', 'max_iter': 435, 'batch_size': 32, 'early_stopping': False}. Best is trial 31 with value: 0.7774863153729473.\n",
            "[I 2025-05-02 16:00:44,050] Trial 43 finished with value: 0.7421387588208139 and parameters: {'hidden_layer_sizes': '(100,)', 'activation': 'relu', 'solver': 'adam', 'alpha': 0.0001463021406887936, 'learning_rate': 'constant', 'max_iter': 419, 'batch_size': 32, 'early_stopping': False}. Best is trial 31 with value: 0.7774863153729473.\n",
            "[I 2025-05-02 16:00:46,461] Trial 44 finished with value: 0.7524780716217108 and parameters: {'hidden_layer_sizes': '(100,)', 'activation': 'relu', 'solver': 'adam', 'alpha': 0.0003562572531925216, 'learning_rate': 'constant', 'max_iter': 454, 'batch_size': 32, 'early_stopping': False}. Best is trial 31 with value: 0.7774863153729473.\n",
            "[I 2025-05-02 16:00:48,672] Trial 45 finished with value: 0.7252027962804195 and parameters: {'hidden_layer_sizes': '(50,)', 'activation': 'relu', 'solver': 'adam', 'alpha': 0.0006432703156527835, 'learning_rate': 'constant', 'max_iter': 474, 'batch_size': 32, 'early_stopping': False}. Best is trial 31 with value: 0.7774863153729473.\n",
            "[I 2025-05-02 16:00:54,464] Trial 46 finished with value: 0.5 and parameters: {'hidden_layer_sizes': '(100,)', 'activation': 'relu', 'solver': 'sgd', 'alpha': 0.0001823000155632467, 'learning_rate': 'adaptive', 'max_iter': 388, 'batch_size': 32, 'early_stopping': True}. Best is trial 31 with value: 0.7774863153729473.\n",
            "[I 2025-05-02 16:00:58,396] Trial 47 finished with value: 0.6188188353228252 and parameters: {'hidden_layer_sizes': '(50, 50)', 'activation': 'relu', 'solver': 'adam', 'alpha': 0.00013056428516299362, 'learning_rate': 'constant', 'max_iter': 439, 'batch_size': 32, 'early_stopping': False}. Best is trial 31 with value: 0.7774863153729473.\n",
            "[I 2025-05-02 16:01:01,368] Trial 48 finished with value: 0.759058233858735 and parameters: {'hidden_layer_sizes': '(100,)', 'activation': 'relu', 'solver': 'adam', 'alpha': 0.00024017136014218006, 'learning_rate': 'constant', 'max_iter': 364, 'batch_size': 32, 'early_stopping': False}. Best is trial 31 with value: 0.7774863153729473.\n",
            "[I 2025-05-02 16:01:04,877] Trial 49 finished with value: 0.5171090813163621 and parameters: {'hidden_layer_sizes': '(100, 50)', 'activation': 'tanh', 'solver': 'adam', 'alpha': 0.0005024147990676259, 'learning_rate': 'constant', 'max_iter': 396, 'batch_size': 32, 'early_stopping': False}. Best is trial 31 with value: 0.7774863153729473.\n",
            "[I 2025-05-02 16:01:05,995] Trial 50 finished with value: 0.4963760469564071 and parameters: {'hidden_layer_sizes': '(100,)', 'activation': 'logistic', 'solver': 'adam', 'alpha': 0.0001020379554342171, 'learning_rate': 'constant', 'max_iter': 491, 'batch_size': 64, 'early_stopping': True}. Best is trial 31 with value: 0.7774863153729473.\n",
            "[I 2025-05-02 16:01:08,310] Trial 51 finished with value: 0.704758293213744 and parameters: {'hidden_layer_sizes': '(100,)', 'activation': 'relu', 'solver': 'adam', 'alpha': 0.00013357033670577972, 'learning_rate': 'constant', 'max_iter': 469, 'batch_size': 32, 'early_stopping': False}. Best is trial 31 with value: 0.7774863153729473.\n",
            "[I 2025-05-02 16:01:10,480] Trial 52 finished with value: 0.6226340433951064 and parameters: {'hidden_layer_sizes': '(100,)', 'activation': 'relu', 'solver': 'adam', 'alpha': 0.00018820945257211745, 'learning_rate': 'constant', 'max_iter': 334, 'batch_size': 32, 'early_stopping': False}. Best is trial 31 with value: 0.7774863153729473.\n",
            "[I 2025-05-02 16:01:12,902] Trial 53 finished with value: 0.5673646376046956 and parameters: {'hidden_layer_sizes': '(100,)', 'activation': 'relu', 'solver': 'adam', 'alpha': 0.0001238629958890905, 'learning_rate': 'constant', 'max_iter': 290, 'batch_size': 32, 'early_stopping': False}. Best is trial 31 with value: 0.7774863153729473.\n",
            "[I 2025-05-02 16:01:14,988] Trial 54 finished with value: 0.7206918156037724 and parameters: {'hidden_layer_sizes': '(100,)', 'activation': 'relu', 'solver': 'adam', 'alpha': 0.00028150244256808715, 'learning_rate': 'constant', 'max_iter': 221, 'batch_size': 128, 'early_stopping': False}. Best is trial 31 with value: 0.7774863153729473.\n",
            "[I 2025-05-02 16:01:17,212] Trial 55 finished with value: 0.745479126821869 and parameters: {'hidden_layer_sizes': '(100,)', 'activation': 'relu', 'solver': 'adam', 'alpha': 0.000178338862307232, 'learning_rate': 'constant', 'max_iter': 254, 'batch_size': 32, 'early_stopping': False}. Best is trial 31 with value: 0.7774863153729473.\n",
            "[I 2025-05-02 16:01:18,752] Trial 56 finished with value: 0.7747741212161182 and parameters: {'hidden_layer_sizes': '(100,)', 'activation': 'relu', 'solver': 'adam', 'alpha': 0.00010703060535421627, 'learning_rate': 'adaptive', 'max_iter': 453, 'batch_size': 32, 'early_stopping': False}. Best is trial 31 with value: 0.7774863153729473.\n",
            "[I 2025-05-02 16:01:23,040] Trial 57 finished with value: 0.5 and parameters: {'hidden_layer_sizes': '(50,)', 'activation': 'relu', 'solver': 'sgd', 'alpha': 0.00023272174618303216, 'learning_rate': 'adaptive', 'max_iter': 423, 'batch_size': 32, 'early_stopping': False}. Best is trial 31 with value: 0.7774863153729473.\n",
            "[I 2025-05-02 16:01:49,618] Trial 58 finished with value: 0.5016949152542373 and parameters: {'hidden_layer_sizes': '(100, 50)', 'activation': 'relu', 'solver': 'adam', 'alpha': 0.00015892656470082166, 'learning_rate': 'adaptive', 'max_iter': 455, 'batch_size': 32, 'early_stopping': False}. Best is trial 31 with value: 0.7774863153729473.\n"
          ]
        },
        {
          "output_type": "execute_result",
          "data": {
            "text/plain": [
              "{'hidden_layer_sizes': '(100,)',\n",
              " 'activation': 'relu',\n",
              " 'solver': 'adam',\n",
              " 'alpha': 0.00015474065316415945,\n",
              " 'learning_rate': 'constant',\n",
              " 'max_iter': 448,\n",
              " 'batch_size': 32,\n",
              " 'early_stopping': False}"
            ]
          },
          "metadata": {},
          "execution_count": 14
        }
      ]
    },
    {
      "cell_type": "code",
      "source": [
        "best_p_mlp['hidden_layer_sizes'] =  ast.literal_eval(best_p_mlp['hidden_layer_sizes'] )\n",
        "model = MLPClassifier(**best_p_mlp)\n",
        "model.fit(X_train_p, y_train_p)\n",
        "\n",
        "y_pred_proba = model.predict_proba(X_test_p)[:, 1]\n",
        "y_pred = model.predict(X_test_p)\n",
        "roc_auc_score(y_test_p, y_pred_proba)"
      ],
      "metadata": {
        "colab": {
          "base_uri": "https://localhost:8080/"
        },
        "id": "qqdk-Xnpr49M",
        "outputId": "4620679d-80bb-4600-d8de-6a6b761995d6"
      },
      "execution_count": 22,
      "outputs": [
        {
          "output_type": "execute_result",
          "data": {
            "text/plain": [
              "np.float64(0.7589627552565321)"
            ]
          },
          "metadata": {},
          "execution_count": 22
        }
      ]
    },
    {
      "cell_type": "code",
      "source": [
        "best_s_mlp = optimizer_mlp(X_train_s, y_train_s, X_valid_s, y_valid_s, n_trials = 30)\n",
        "best_s_mlp"
      ],
      "metadata": {
        "colab": {
          "base_uri": "https://localhost:8080/"
        },
        "id": "yX_0EEG6rsQ1",
        "outputId": "25b2c60c-c2e3-44a5-e1b5-30eed9cd62d4"
      },
      "execution_count": 15,
      "outputs": [
        {
          "output_type": "stream",
          "name": "stderr",
          "text": [
            "[I 2025-05-02 16:01:49,640] A new study created in memory with name: no-name-933d37d0-5414-4c57-81ae-ea7d5c122b02\n",
            "[I 2025-05-02 16:01:53,905] Trial 0 finished with value: 0.5014623699578451 and parameters: {'hidden_layer_sizes': '(100, 50)', 'activation': 'tanh', 'solver': 'sgd', 'alpha': 0.03493516146980141, 'learning_rate': 'constant', 'max_iter': 292, 'batch_size': 128, 'early_stopping': False}. Best is trial 0 with value: 0.5014623699578451.\n",
            "[I 2025-05-02 16:01:58,736] Trial 1 finished with value: 0.5491525505665777 and parameters: {'hidden_layer_sizes': '(100,)', 'activation': 'logistic', 'solver': 'sgd', 'alpha': 0.004761953179348651, 'learning_rate': 'adaptive', 'max_iter': 263, 'batch_size': 128, 'early_stopping': True}. Best is trial 1 with value: 0.5491525505665777.\n",
            "[I 2025-05-02 16:02:00,378] Trial 2 finished with value: 0.38291855203619896 and parameters: {'hidden_layer_sizes': '(100, 50)', 'activation': 'logistic', 'solver': 'adam', 'alpha': 0.000623230670392599, 'learning_rate': 'constant', 'max_iter': 437, 'batch_size': 64, 'early_stopping': True}. Best is trial 1 with value: 0.5491525505665777.\n",
            "[I 2025-05-02 16:02:02,070] Trial 3 finished with value: 0.5 and parameters: {'hidden_layer_sizes': '(100, 50)', 'activation': 'relu', 'solver': 'sgd', 'alpha': 0.011499255010357536, 'learning_rate': 'constant', 'max_iter': 230, 'batch_size': 32, 'early_stopping': True}. Best is trial 1 with value: 0.5491525505665777.\n",
            "[I 2025-05-02 16:02:03,508] Trial 4 finished with value: 0.3700146478709827 and parameters: {'hidden_layer_sizes': '(100,)', 'activation': 'relu', 'solver': 'adam', 'alpha': 0.0002685762464569019, 'learning_rate': 'adaptive', 'max_iter': 454, 'batch_size': 64, 'early_stopping': False}. Best is trial 1 with value: 0.5491525505665777.\n",
            "[I 2025-05-02 16:02:04,250] Trial 5 finished with value: 0.40125135359863867 and parameters: {'hidden_layer_sizes': '(50,)', 'activation': 'relu', 'solver': 'adam', 'alpha': 0.00010693987145412193, 'learning_rate': 'adaptive', 'max_iter': 441, 'batch_size': 64, 'early_stopping': True}. Best is trial 1 with value: 0.5491525505665777.\n",
            "[I 2025-05-02 16:02:06,872] Trial 6 finished with value: 0.6770059848396952 and parameters: {'hidden_layer_sizes': '(50,)', 'activation': 'relu', 'solver': 'adam', 'alpha': 0.02871144257500814, 'learning_rate': 'adaptive', 'max_iter': 379, 'batch_size': 64, 'early_stopping': True}. Best is trial 6 with value: 0.6770059848396952.\n",
            "[I 2025-05-02 16:02:11,477] Trial 7 finished with value: 0.5 and parameters: {'hidden_layer_sizes': '(50,)', 'activation': 'relu', 'solver': 'sgd', 'alpha': 0.002942009546248978, 'learning_rate': 'adaptive', 'max_iter': 222, 'batch_size': 32, 'early_stopping': False}. Best is trial 6 with value: 0.6770059848396952.\n",
            "[I 2025-05-02 16:02:21,797] Trial 8 finished with value: 0.5 and parameters: {'hidden_layer_sizes': '(100,)', 'activation': 'relu', 'solver': 'sgd', 'alpha': 0.00010304940559949455, 'learning_rate': 'adaptive', 'max_iter': 438, 'batch_size': 32, 'early_stopping': True}. Best is trial 6 with value: 0.6770059848396952.\n",
            "[I 2025-05-02 16:02:23,346] Trial 9 finished with value: 0.5 and parameters: {'hidden_layer_sizes': '(50, 50)', 'activation': 'relu', 'solver': 'sgd', 'alpha': 0.004112065953720645, 'learning_rate': 'constant', 'max_iter': 390, 'batch_size': 32, 'early_stopping': True}. Best is trial 6 with value: 0.6770059848396952.\n",
            "[I 2025-05-02 16:02:24,958] Trial 10 finished with value: 0.3391477646285339 and parameters: {'hidden_layer_sizes': '(50,)', 'activation': 'tanh', 'solver': 'adam', 'alpha': 0.09785996359394368, 'learning_rate': 'adaptive', 'max_iter': 339, 'batch_size': 64, 'early_stopping': False}. Best is trial 6 with value: 0.6770059848396952.\n",
            "[I 2025-05-02 16:02:25,817] Trial 11 finished with value: 0.6571201705534285 and parameters: {'hidden_layer_sizes': '(100,)', 'activation': 'logistic', 'solver': 'adam', 'alpha': 0.012121258929245884, 'learning_rate': 'adaptive', 'max_iter': 313, 'batch_size': 128, 'early_stopping': True}. Best is trial 6 with value: 0.6770059848396952.\n",
            "[I 2025-05-02 16:02:26,823] Trial 12 finished with value: 0.453537726727772 and parameters: {'hidden_layer_sizes': '(50, 50)', 'activation': 'logistic', 'solver': 'adam', 'alpha': 0.020945090380922664, 'learning_rate': 'adaptive', 'max_iter': 347, 'batch_size': 128, 'early_stopping': True}. Best is trial 6 with value: 0.6770059848396952.\n",
            "[I 2025-05-02 16:02:27,463] Trial 13 finished with value: 0.34516644428974746 and parameters: {'hidden_layer_sizes': '(50,)', 'activation': 'logistic', 'solver': 'adam', 'alpha': 0.08849494041580966, 'learning_rate': 'adaptive', 'max_iter': 382, 'batch_size': 128, 'early_stopping': True}. Best is trial 6 with value: 0.6770059848396952.\n",
            "[I 2025-05-02 16:02:28,327] Trial 14 finished with value: 0.3765977298217117 and parameters: {'hidden_layer_sizes': '(100,)', 'activation': 'logistic', 'solver': 'adam', 'alpha': 0.0107213952816201, 'learning_rate': 'adaptive', 'max_iter': 294, 'batch_size': 128, 'early_stopping': True}. Best is trial 6 with value: 0.6770059848396952.\n",
            "[I 2025-05-02 16:02:29,368] Trial 15 finished with value: 0.4987745098039216 and parameters: {'hidden_layer_sizes': '(50,)', 'activation': 'tanh', 'solver': 'adam', 'alpha': 0.001302260075068198, 'learning_rate': 'adaptive', 'max_iter': 380, 'batch_size': 64, 'early_stopping': True}. Best is trial 6 with value: 0.6770059848396952.\n",
            "[I 2025-05-02 16:02:30,481] Trial 16 finished with value: 0.6757031461499787 and parameters: {'hidden_layer_sizes': '(100,)', 'activation': 'logistic', 'solver': 'adam', 'alpha': 0.03354264771440799, 'learning_rate': 'adaptive', 'max_iter': 317, 'batch_size': 64, 'early_stopping': True}. Best is trial 6 with value: 0.6770059848396952.\n",
            "[I 2025-05-02 16:02:31,867] Trial 17 finished with value: 0.6639933093553003 and parameters: {'hidden_layer_sizes': '(50, 50)', 'activation': 'logistic', 'solver': 'adam', 'alpha': 0.04109482344412806, 'learning_rate': 'adaptive', 'max_iter': 494, 'batch_size': 64, 'early_stopping': True}. Best is trial 6 with value: 0.6770059848396952.\n",
            "[I 2025-05-02 16:02:35,332] Trial 18 finished with value: 0.6770809161929071 and parameters: {'hidden_layer_sizes': '(100,)', 'activation': 'relu', 'solver': 'adam', 'alpha': 0.04402522262655215, 'learning_rate': 'constant', 'max_iter': 263, 'batch_size': 64, 'early_stopping': False}. Best is trial 18 with value: 0.6770809161929071.\n",
            "[I 2025-05-02 16:02:36,185] Trial 19 finished with value: 0.32983210542599684 and parameters: {'hidden_layer_sizes': '(50,)', 'activation': 'relu', 'solver': 'adam', 'alpha': 0.04817703963275538, 'learning_rate': 'constant', 'max_iter': 259, 'batch_size': 64, 'early_stopping': False}. Best is trial 18 with value: 0.6770809161929071.\n",
            "[I 2025-05-02 16:02:37,498] Trial 20 finished with value: 0.646375981359013 and parameters: {'hidden_layer_sizes': '(100,)', 'activation': 'relu', 'solver': 'adam', 'alpha': 0.02008831206114431, 'learning_rate': 'constant', 'max_iter': 200, 'batch_size': 64, 'early_stopping': False}. Best is trial 18 with value: 0.6770809161929071.\n",
            "[I 2025-05-02 16:02:38,973] Trial 21 finished with value: 0.6119571102602777 and parameters: {'hidden_layer_sizes': '(100,)', 'activation': 'relu', 'solver': 'adam', 'alpha': 0.052186766643313134, 'learning_rate': 'constant', 'max_iter': 323, 'batch_size': 64, 'early_stopping': False}. Best is trial 18 with value: 0.6770809161929071.\n",
            "[I 2025-05-02 16:02:40,400] Trial 22 finished with value: 0.6805652241172603 and parameters: {'hidden_layer_sizes': '(100,)', 'activation': 'relu', 'solver': 'adam', 'alpha': 0.018600215630507698, 'learning_rate': 'constant', 'max_iter': 274, 'batch_size': 64, 'early_stopping': False}. Best is trial 22 with value: 0.6805652241172603.\n",
            "[I 2025-05-02 16:02:41,304] Trial 23 finished with value: 0.6774205244227869 and parameters: {'hidden_layer_sizes': '(100,)', 'activation': 'relu', 'solver': 'adam', 'alpha': 0.006803035710358502, 'learning_rate': 'constant', 'max_iter': 269, 'batch_size': 64, 'early_stopping': False}. Best is trial 22 with value: 0.6805652241172603.\n",
            "[I 2025-05-02 16:02:42,217] Trial 24 finished with value: 0.6548250957187609 and parameters: {'hidden_layer_sizes': '(100,)', 'activation': 'relu', 'solver': 'adam', 'alpha': 0.005636376139091797, 'learning_rate': 'constant', 'max_iter': 255, 'batch_size': 64, 'early_stopping': False}. Best is trial 22 with value: 0.6805652241172603.\n",
            "[I 2025-05-02 16:02:44,051] Trial 25 finished with value: 0.6352813068028 and parameters: {'hidden_layer_sizes': '(100,)', 'activation': 'relu', 'solver': 'adam', 'alpha': 0.0015314241485452017, 'learning_rate': 'constant', 'max_iter': 283, 'batch_size': 64, 'early_stopping': False}. Best is trial 22 with value: 0.6805652241172603.\n",
            "[I 2025-05-02 16:02:46,006] Trial 26 finished with value: 0.6127402637583633 and parameters: {'hidden_layer_sizes': '(100,)', 'activation': 'relu', 'solver': 'adam', 'alpha': 0.00804467394179275, 'learning_rate': 'constant', 'max_iter': 240, 'batch_size': 64, 'early_stopping': False}. Best is trial 22 with value: 0.6805652241172603.\n",
            "[I 2025-05-02 16:02:49,484] Trial 27 finished with value: 0.3703385446880922 and parameters: {'hidden_layer_sizes': '(100,)', 'activation': 'tanh', 'solver': 'adam', 'alpha': 0.018283056385897035, 'learning_rate': 'constant', 'max_iter': 200, 'batch_size': 64, 'early_stopping': False}. Best is trial 22 with value: 0.6805652241172603.\n",
            "[I 2025-05-02 16:02:51,078] Trial 28 finished with value: 0.6745864272730788 and parameters: {'hidden_layer_sizes': '(100,)', 'activation': 'relu', 'solver': 'adam', 'alpha': 0.016403710777305864, 'learning_rate': 'constant', 'max_iter': 273, 'batch_size': 64, 'early_stopping': False}. Best is trial 22 with value: 0.6805652241172603.\n",
            "[I 2025-05-02 16:02:55,256] Trial 29 finished with value: 0.5002392969021928 and parameters: {'hidden_layer_sizes': '(100, 50)', 'activation': 'tanh', 'solver': 'sgd', 'alpha': 0.0021276279652486414, 'learning_rate': 'constant', 'max_iter': 298, 'batch_size': 32, 'early_stopping': False}. Best is trial 22 with value: 0.6805652241172603.\n",
            "[I 2025-05-02 16:02:56,618] Trial 30 finished with value: 0.6658653846153846 and parameters: {'hidden_layer_sizes': '(100,)', 'activation': 'relu', 'solver': 'adam', 'alpha': 0.005960669522639833, 'learning_rate': 'constant', 'max_iter': 244, 'batch_size': 64, 'early_stopping': False}. Best is trial 22 with value: 0.6805652241172603.\n",
            "[I 2025-05-02 16:02:57,838] Trial 31 finished with value: 0.6554898093359631 and parameters: {'hidden_layer_sizes': '(50,)', 'activation': 'relu', 'solver': 'adam', 'alpha': 0.035480477827219574, 'learning_rate': 'constant', 'max_iter': 392, 'batch_size': 64, 'early_stopping': False}. Best is trial 22 with value: 0.6805652241172603.\n",
            "[I 2025-05-02 16:03:00,446] Trial 32 finished with value: 0.34205075028038834 and parameters: {'hidden_layer_sizes': '(50, 50)', 'activation': 'relu', 'solver': 'adam', 'alpha': 0.06015848455511709, 'learning_rate': 'constant', 'max_iter': 408, 'batch_size': 64, 'early_stopping': False}. Best is trial 22 with value: 0.6805652241172603.\n",
            "[I 2025-05-02 16:03:03,641] Trial 33 finished with value: 0.5701611265808099 and parameters: {'hidden_layer_sizes': '(100, 50)', 'activation': 'relu', 'solver': 'adam', 'alpha': 0.027055080698313208, 'learning_rate': 'constant', 'max_iter': 363, 'batch_size': 64, 'early_stopping': False}. Best is trial 22 with value: 0.6805652241172603.\n",
            "[I 2025-05-02 16:03:04,166] Trial 34 finished with value: 0.5 and parameters: {'hidden_layer_sizes': '(100,)', 'activation': 'relu', 'solver': 'sgd', 'alpha': 0.007271450737063466, 'learning_rate': 'constant', 'max_iter': 275, 'batch_size': 64, 'early_stopping': False}. Best is trial 22 with value: 0.6805652241172603.\n",
            "[I 2025-05-02 16:03:06,328] Trial 35 finished with value: 0.6579009069110879 and parameters: {'hidden_layer_sizes': '(100, 50)', 'activation': 'relu', 'solver': 'adam', 'alpha': 0.01186615892071514, 'learning_rate': 'constant', 'max_iter': 303, 'batch_size': 64, 'early_stopping': False}. Best is trial 22 with value: 0.6805652241172603.\n",
            "[I 2025-05-02 16:03:07,725] Trial 36 finished with value: 0.6794509223807865 and parameters: {'hidden_layer_sizes': '(100,)', 'activation': 'relu', 'solver': 'adam', 'alpha': 0.07131679067454309, 'learning_rate': 'constant', 'max_iter': 333, 'batch_size': 64, 'early_stopping': False}. Best is trial 22 with value: 0.6805652241172603.\n",
            "[I 2025-05-02 16:03:09,139] Trial 37 finished with value: 0.6391173086591638 and parameters: {'hidden_layer_sizes': '(100,)', 'activation': 'relu', 'solver': 'adam', 'alpha': 0.06827318543635041, 'learning_rate': 'constant', 'max_iter': 338, 'batch_size': 128, 'early_stopping': False}. Best is trial 22 with value: 0.6805652241172603.\n",
            "[I 2025-05-02 16:03:09,698] Trial 38 finished with value: 0.5 and parameters: {'hidden_layer_sizes': '(100,)', 'activation': 'relu', 'solver': 'sgd', 'alpha': 0.06517659380651597, 'learning_rate': 'constant', 'max_iter': 219, 'batch_size': 64, 'early_stopping': False}. Best is trial 22 with value: 0.6805652241172603.\n",
            "[I 2025-05-02 16:03:13,918] Trial 39 finished with value: 0.3211086456278764 and parameters: {'hidden_layer_sizes': '(100,)', 'activation': 'tanh', 'solver': 'adam', 'alpha': 0.030978863909641823, 'learning_rate': 'constant', 'max_iter': 269, 'batch_size': 32, 'early_stopping': False}. Best is trial 22 with value: 0.6805652241172603.\n",
            "[I 2025-05-02 16:03:15,105] Trial 40 finished with value: 0.6675235429477511 and parameters: {'hidden_layer_sizes': '(100,)', 'activation': 'relu', 'solver': 'adam', 'alpha': 0.022837404059633172, 'learning_rate': 'constant', 'max_iter': 242, 'batch_size': 64, 'early_stopping': False}. Best is trial 22 with value: 0.6805652241172603.\n",
            "[I 2025-05-02 16:03:16,146] Trial 41 finished with value: 0.526495484781684 and parameters: {'hidden_layer_sizes': '(50,)', 'activation': 'relu', 'solver': 'adam', 'alpha': 0.015702476020857205, 'learning_rate': 'constant', 'max_iter': 364, 'batch_size': 64, 'early_stopping': False}. Best is trial 22 with value: 0.6805652241172603.\n",
            "[I 2025-05-02 16:03:17,778] Trial 42 finished with value: 0.3367838012917198 and parameters: {'hidden_layer_sizes': '(100,)', 'activation': 'relu', 'solver': 'adam', 'alpha': 0.07992763861495518, 'learning_rate': 'constant', 'max_iter': 403, 'batch_size': 64, 'early_stopping': False}. Best is trial 22 with value: 0.6805652241172603.\n",
            "[I 2025-05-02 16:03:18,560] Trial 43 finished with value: 0.6429484762346753 and parameters: {'hidden_layer_sizes': '(50,)', 'activation': 'relu', 'solver': 'adam', 'alpha': 0.003862977118669119, 'learning_rate': 'constant', 'max_iter': 332, 'batch_size': 64, 'early_stopping': True}. Best is trial 22 with value: 0.6805652241172603.\n",
            "/usr/local/lib/python3.11/dist-packages/sklearn/neural_network/_multilayer_perceptron.py:691: ConvergenceWarning: Stochastic Optimizer: Maximum iterations (286) reached and the optimization hasn't converged yet.\n",
            "  warnings.warn(\n",
            "[I 2025-05-02 16:04:03,045] Trial 44 finished with value: 0.5 and parameters: {'hidden_layer_sizes': '(100,)', 'activation': 'relu', 'solver': 'sgd', 'alpha': 0.040952051896418484, 'learning_rate': 'adaptive', 'max_iter': 286, 'batch_size': 32, 'early_stopping': False}. Best is trial 22 with value: 0.6805652241172603.\n",
            "[I 2025-05-02 16:04:04,422] Trial 45 finished with value: 0.33398958695904396 and parameters: {'hidden_layer_sizes': '(50, 50)', 'activation': 'relu', 'solver': 'adam', 'alpha': 0.02490278519077224, 'learning_rate': 'adaptive', 'max_iter': 363, 'batch_size': 64, 'early_stopping': True}. Best is trial 22 with value: 0.6805652241172603.\n",
            "[I 2025-05-02 16:04:06,374] Trial 46 finished with value: 0.3242122539351046 and parameters: {'hidden_layer_sizes': '(100, 50)', 'activation': 'relu', 'solver': 'adam', 'alpha': 0.009017362998387065, 'learning_rate': 'constant', 'max_iter': 427, 'batch_size': 128, 'early_stopping': True}. Best is trial 22 with value: 0.6805652241172603.\n",
            "[I 2025-05-02 16:04:07,769] Trial 47 finished with value: 0.6771171732992999 and parameters: {'hidden_layer_sizes': '(50,)', 'activation': 'relu', 'solver': 'adam', 'alpha': 0.013326406352745788, 'learning_rate': 'adaptive', 'max_iter': 305, 'batch_size': 64, 'early_stopping': False}. Best is trial 22 with value: 0.6805652241172603.\n",
            "[I 2025-05-02 16:04:09,961] Trial 48 finished with value: 0.6118495475113123 and parameters: {'hidden_layer_sizes': '(100,)', 'activation': 'relu', 'solver': 'adam', 'alpha': 0.0004967580800222146, 'learning_rate': 'constant', 'max_iter': 304, 'batch_size': 64, 'early_stopping': False}. Best is trial 22 with value: 0.6805652241172603.\n",
            "[I 2025-05-02 16:04:14,838] Trial 49 finished with value: 0.5012254901960784 and parameters: {'hidden_layer_sizes': '(50,)', 'activation': 'tanh', 'solver': 'sgd', 'alpha': 0.014256612183804668, 'learning_rate': 'adaptive', 'max_iter': 254, 'batch_size': 64, 'early_stopping': False}. Best is trial 22 with value: 0.6805652241172603.\n",
            "[I 2025-05-02 16:04:17,098] Trial 50 finished with value: 0.6768911706694511 and parameters: {'hidden_layer_sizes': '(100,)', 'activation': 'relu', 'solver': 'adam', 'alpha': 0.0026213415659982367, 'learning_rate': 'adaptive', 'max_iter': 226, 'batch_size': 32, 'early_stopping': False}. Best is trial 22 with value: 0.6805652241172603.\n",
            "[I 2025-05-02 16:04:17,769] Trial 51 finished with value: 0.661930280001547 and parameters: {'hidden_layer_sizes': '(50,)', 'activation': 'relu', 'solver': 'adam', 'alpha': 0.009966885717193907, 'learning_rate': 'adaptive', 'max_iter': 316, 'batch_size': 64, 'early_stopping': False}. Best is trial 22 with value: 0.6805652241172603.\n",
            "[I 2025-05-02 16:04:18,567] Trial 52 finished with value: 0.5850482944657153 and parameters: {'hidden_layer_sizes': '(50,)', 'activation': 'relu', 'solver': 'adam', 'alpha': 0.04635660548550305, 'learning_rate': 'adaptive', 'max_iter': 348, 'batch_size': 64, 'early_stopping': True}. Best is trial 22 with value: 0.6805652241172603.\n",
            "[I 2025-05-02 16:04:20,404] Trial 53 finished with value: 0.36926654290907684 and parameters: {'hidden_layer_sizes': '(50,)', 'activation': 'logistic', 'solver': 'adam', 'alpha': 0.03017882433592716, 'learning_rate': 'adaptive', 'max_iter': 285, 'batch_size': 64, 'early_stopping': False}. Best is trial 22 with value: 0.6805652241172603.\n",
            "[I 2025-05-02 16:04:22,828] Trial 54 finished with value: 0.6773878930270334 and parameters: {'hidden_layer_sizes': '(50,)', 'activation': 'relu', 'solver': 'adam', 'alpha': 0.00016747035755537902, 'learning_rate': 'adaptive', 'max_iter': 326, 'batch_size': 64, 'early_stopping': True}. Best is trial 22 with value: 0.6805652241172603.\n",
            "[I 2025-05-02 16:04:23,864] Trial 55 finished with value: 0.6773794330355416 and parameters: {'hidden_layer_sizes': '(50,)', 'activation': 'relu', 'solver': 'adam', 'alpha': 0.00020618781744150927, 'learning_rate': 'adaptive', 'max_iter': 327, 'batch_size': 64, 'early_stopping': False}. Best is trial 22 with value: 0.6805652241172603.\n",
            "[I 2025-05-02 16:04:24,938] Trial 56 finished with value: 0.6726067892640291 and parameters: {'hidden_layer_sizes': '(50,)', 'activation': 'relu', 'solver': 'adam', 'alpha': 0.0003521973822668603, 'learning_rate': 'adaptive', 'max_iter': 326, 'batch_size': 128, 'early_stopping': True}. Best is trial 22 with value: 0.6805652241172603.\n",
            "[I 2025-05-02 16:04:25,710] Trial 57 finished with value: 0.33061525892408244 and parameters: {'hidden_layer_sizes': '(50,)', 'activation': 'relu', 'solver': 'adam', 'alpha': 0.0002035745730833221, 'learning_rate': 'adaptive', 'max_iter': 311, 'batch_size': 64, 'early_stopping': False}. Best is trial 22 with value: 0.6805652241172603.\n",
            "[I 2025-05-02 16:04:26,888] Trial 58 finished with value: 0.44486381830838845 and parameters: {'hidden_layer_sizes': '(50,)', 'activation': 'logistic', 'solver': 'adam', 'alpha': 0.00012651896546360354, 'learning_rate': 'adaptive', 'max_iter': 352, 'batch_size': 64, 'early_stopping': False}. Best is trial 22 with value: 0.6805652241172603.\n",
            "[I 2025-05-02 16:04:28,153] Trial 59 finished with value: 0.6765974881076691 and parameters: {'hidden_layer_sizes': '(50,)', 'activation': 'relu', 'solver': 'adam', 'alpha': 0.00016713956200472643, 'learning_rate': 'adaptive', 'max_iter': 334, 'batch_size': 64, 'early_stopping': True}. Best is trial 22 with value: 0.6805652241172603.\n",
            "[I 2025-05-02 16:04:29,058] Trial 60 finished with value: 0.5990665003674054 and parameters: {'hidden_layer_sizes': '(50,)', 'activation': 'relu', 'solver': 'adam', 'alpha': 0.000834761246851466, 'learning_rate': 'adaptive', 'max_iter': 293, 'batch_size': 64, 'early_stopping': False}. Best is trial 22 with value: 0.6805652241172603.\n",
            "[I 2025-05-02 16:04:31,485] Trial 61 finished with value: 0.6741694705495611 and parameters: {'hidden_layer_sizes': '(50, 50)', 'activation': 'relu', 'solver': 'adam', 'alpha': 0.00040973985488998807, 'learning_rate': 'adaptive', 'max_iter': 263, 'batch_size': 64, 'early_stopping': False}. Best is trial 22 with value: 0.6805652241172603.\n",
            "[I 2025-05-02 16:04:32,890] Trial 62 finished with value: 0.34763434466488763 and parameters: {'hidden_layer_sizes': '(100,)', 'activation': 'relu', 'solver': 'adam', 'alpha': 0.0002878302112789273, 'learning_rate': 'adaptive', 'max_iter': 276, 'batch_size': 64, 'early_stopping': False}. Best is trial 22 with value: 0.6805652241172603.\n",
            "[I 2025-05-02 16:04:34,318] Trial 63 finished with value: 0.6509286653517422 and parameters: {'hidden_layer_sizes': '(100,)', 'activation': 'relu', 'solver': 'adam', 'alpha': 0.00019404434921315255, 'learning_rate': 'constant', 'max_iter': 304, 'batch_size': 64, 'early_stopping': False}. Best is trial 22 with value: 0.6805652241172603.\n",
            "[I 2025-05-02 16:04:35,448] Trial 64 finished with value: 0.6739603879026956 and parameters: {'hidden_layer_sizes': '(50,)', 'activation': 'relu', 'solver': 'adam', 'alpha': 0.000832231757985313, 'learning_rate': 'constant', 'max_iter': 325, 'batch_size': 64, 'early_stopping': False}. Best is trial 22 with value: 0.6805652241172603.\n",
            "[I 2025-05-02 16:04:37,159] Trial 65 finished with value: 0.331664297869049 and parameters: {'hidden_layer_sizes': '(100,)', 'activation': 'relu', 'solver': 'adam', 'alpha': 0.004905550385603256, 'learning_rate': 'adaptive', 'max_iter': 311, 'batch_size': 64, 'early_stopping': False}. Best is trial 22 with value: 0.6805652241172603.\n",
            "[I 2025-05-02 16:04:38,473] Trial 66 finished with value: 0.3946924430521716 and parameters: {'hidden_layer_sizes': '(50,)', 'activation': 'tanh', 'solver': 'adam', 'alpha': 0.007085334916626726, 'learning_rate': 'constant', 'max_iter': 353, 'batch_size': 64, 'early_stopping': False}. Best is trial 22 with value: 0.6805652241172603.\n",
            "[I 2025-05-02 16:04:39,416] Trial 67 finished with value: 0.33171264067757283 and parameters: {'hidden_layer_sizes': '(100,)', 'activation': 'relu', 'solver': 'adam', 'alpha': 0.014060049279697305, 'learning_rate': 'constant', 'max_iter': 249, 'batch_size': 64, 'early_stopping': True}. Best is trial 22 with value: 0.6805652241172603.\n",
            "[I 2025-05-02 16:04:41,312] Trial 68 finished with value: 0.5 and parameters: {'hidden_layer_sizes': '(100,)', 'activation': 'relu', 'solver': 'sgd', 'alpha': 0.003753462058117574, 'learning_rate': 'adaptive', 'max_iter': 287, 'batch_size': 128, 'early_stopping': False}. Best is trial 22 with value: 0.6805652241172603.\n",
            "[I 2025-05-02 16:04:47,492] Trial 69 finished with value: 0.6769721448737287 and parameters: {'hidden_layer_sizes': '(100, 50)', 'activation': 'logistic', 'solver': 'adam', 'alpha': 0.08967308178530345, 'learning_rate': 'constant', 'max_iter': 263, 'batch_size': 32, 'early_stopping': False}. Best is trial 22 with value: 0.6805652241172603.\n",
            "[I 2025-05-02 16:04:51,568] Trial 70 finished with value: 0.677053119078006 and parameters: {'hidden_layer_sizes': '(50, 50)', 'activation': 'relu', 'solver': 'adam', 'alpha': 0.00013987552301489468, 'learning_rate': 'constant', 'max_iter': 296, 'batch_size': 64, 'early_stopping': False}. Best is trial 22 with value: 0.6805652241172603.\n"
          ]
        },
        {
          "output_type": "execute_result",
          "data": {
            "text/plain": [
              "{'hidden_layer_sizes': '(100,)',\n",
              " 'activation': 'relu',\n",
              " 'solver': 'adam',\n",
              " 'alpha': 0.018600215630507698,\n",
              " 'learning_rate': 'constant',\n",
              " 'max_iter': 274,\n",
              " 'batch_size': 64,\n",
              " 'early_stopping': False}"
            ]
          },
          "metadata": {},
          "execution_count": 15
        }
      ]
    },
    {
      "cell_type": "code",
      "source": [
        "best_s_mlp['hidden_layer_sizes'] =  ast.literal_eval(best_s_mlp['hidden_layer_sizes'] )\n",
        "model = MLPClassifier(**best_s_mlp)\n",
        "model.fit(X_train_s, y_train_s)\n",
        "\n",
        "y_pred_proba = model.predict_proba(X_test_s)[:, 1]\n",
        "y_pred = model.predict(X_test_s)\n",
        "roc_auc_score(y_test_s, y_pred_proba)"
      ],
      "metadata": {
        "colab": {
          "base_uri": "https://localhost:8080/"
        },
        "id": "4Cr4NRufr5c4",
        "outputId": "8858f18c-6600-4397-d853-9c61dbebc522"
      },
      "execution_count": 23,
      "outputs": [
        {
          "output_type": "execute_result",
          "data": {
            "text/plain": [
              "np.float64(0.6929302195301286)"
            ]
          },
          "metadata": {},
          "execution_count": 23
        }
      ]
    }
  ]
}