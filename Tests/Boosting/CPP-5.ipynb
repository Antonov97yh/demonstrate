{
  "cells": [
    {
      "cell_type": "code",
      "execution_count": 3,
      "metadata": {
        "colab": {
          "base_uri": "https://localhost:8080/"
        },
        "id": "Gm2n5Iq-3Can",
        "outputId": "7a7e5863-37fe-4978-d274-5037b1c1fa58"
      },
      "outputs": [
        {
          "name": "stdout",
          "output_type": "stream",
          "text": [
            "Requirement already satisfied: catboost in /usr/local/lib/python3.11/dist-packages (1.2.7)\n",
            "Requirement already satisfied: graphviz in /usr/local/lib/python3.11/dist-packages (from catboost) (0.20.3)\n",
            "Requirement already satisfied: matplotlib in /usr/local/lib/python3.11/dist-packages (from catboost) (3.10.0)\n",
            "Requirement already satisfied: numpy<2.0,>=1.16.0 in /usr/local/lib/python3.11/dist-packages (from catboost) (1.26.4)\n",
            "Requirement already satisfied: pandas>=0.24 in /usr/local/lib/python3.11/dist-packages (from catboost) (2.2.2)\n",
            "Requirement already satisfied: scipy in /usr/local/lib/python3.11/dist-packages (from catboost) (1.13.1)\n",
            "Requirement already satisfied: plotly in /usr/local/lib/python3.11/dist-packages (from catboost) (5.24.1)\n",
            "Requirement already satisfied: six in /usr/local/lib/python3.11/dist-packages (from catboost) (1.17.0)\n",
            "Requirement already satisfied: python-dateutil>=2.8.2 in /usr/local/lib/python3.11/dist-packages (from pandas>=0.24->catboost) (2.8.2)\n",
            "Requirement already satisfied: pytz>=2020.1 in /usr/local/lib/python3.11/dist-packages (from pandas>=0.24->catboost) (2025.1)\n",
            "Requirement already satisfied: tzdata>=2022.7 in /usr/local/lib/python3.11/dist-packages (from pandas>=0.24->catboost) (2025.1)\n",
            "Requirement already satisfied: contourpy>=1.0.1 in /usr/local/lib/python3.11/dist-packages (from matplotlib->catboost) (1.3.1)\n",
            "Requirement already satisfied: cycler>=0.10 in /usr/local/lib/python3.11/dist-packages (from matplotlib->catboost) (0.12.1)\n",
            "Requirement already satisfied: fonttools>=4.22.0 in /usr/local/lib/python3.11/dist-packages (from matplotlib->catboost) (4.56.0)\n",
            "Requirement already satisfied: kiwisolver>=1.3.1 in /usr/local/lib/python3.11/dist-packages (from matplotlib->catboost) (1.4.8)\n",
            "Requirement already satisfied: packaging>=20.0 in /usr/local/lib/python3.11/dist-packages (from matplotlib->catboost) (24.2)\n",
            "Requirement already satisfied: pillow>=8 in /usr/local/lib/python3.11/dist-packages (from matplotlib->catboost) (11.1.0)\n",
            "Requirement already satisfied: pyparsing>=2.3.1 in /usr/local/lib/python3.11/dist-packages (from matplotlib->catboost) (3.2.1)\n",
            "Requirement already satisfied: tenacity>=6.2.0 in /usr/local/lib/python3.11/dist-packages (from plotly->catboost) (9.0.0)\n",
            "Requirement already satisfied: optuna in /usr/local/lib/python3.11/dist-packages (4.2.1)\n",
            "Requirement already satisfied: alembic>=1.5.0 in /usr/local/lib/python3.11/dist-packages (from optuna) (1.15.1)\n",
            "Requirement already satisfied: colorlog in /usr/local/lib/python3.11/dist-packages (from optuna) (6.9.0)\n",
            "Requirement already satisfied: numpy in /usr/local/lib/python3.11/dist-packages (from optuna) (1.26.4)\n",
            "Requirement already satisfied: packaging>=20.0 in /usr/local/lib/python3.11/dist-packages (from optuna) (24.2)\n",
            "Requirement already satisfied: sqlalchemy>=1.4.2 in /usr/local/lib/python3.11/dist-packages (from optuna) (2.0.38)\n",
            "Requirement already satisfied: tqdm in /usr/local/lib/python3.11/dist-packages (from optuna) (4.67.1)\n",
            "Requirement already satisfied: PyYAML in /usr/local/lib/python3.11/dist-packages (from optuna) (6.0.2)\n",
            "Requirement already satisfied: Mako in /usr/local/lib/python3.11/dist-packages (from alembic>=1.5.0->optuna) (1.3.9)\n",
            "Requirement already satisfied: typing-extensions>=4.12 in /usr/local/lib/python3.11/dist-packages (from alembic>=1.5.0->optuna) (4.12.2)\n",
            "Requirement already satisfied: greenlet!=0.4.17 in /usr/local/lib/python3.11/dist-packages (from sqlalchemy>=1.4.2->optuna) (3.1.1)\n",
            "Requirement already satisfied: MarkupSafe>=0.9.2 in /usr/local/lib/python3.11/dist-packages (from Mako->alembic>=1.5.0->optuna) (3.0.2)\n"
          ]
        }
      ],
      "source": [
        "!pip install catboost\n",
        "!pip install optuna\n",
        "\n",
        "import numpy as np\n",
        "import pandas as pd\n",
        "import matplotlib.pyplot as plt\n",
        "import seaborn as sns"
      ]
    },
    {
      "cell_type": "code",
      "execution_count": 4,
      "metadata": {
        "id": "BWeZOLi06PMz"
      },
      "outputs": [],
      "source": [
        "df = pd.read_csv(\"bank.csv\")\n",
        "target_name = \"deposit\""
      ]
    },
    {
      "cell_type": "code",
      "execution_count": 5,
      "metadata": {
        "id": "Q7etIQbK7uAc"
      },
      "outputs": [],
      "source": [
        "target_name = \"deposit\""
      ]
    },
    {
      "cell_type": "code",
      "execution_count": 6,
      "metadata": {
        "colab": {
          "base_uri": "https://localhost:8080/",
          "height": 300
        },
        "id": "5wPHy2hr608e",
        "outputId": "c62ee22b-537d-478a-d089-85b8bac268db"
      },
      "outputs": [
        {
          "data": {
            "application/vnd.google.colaboratory.intrinsic+json": {
              "summary": "{\n  \"name\": \"df\",\n  \"rows\": 8,\n  \"fields\": [\n    {\n      \"column\": \"age\",\n      \"properties\": {\n        \"dtype\": \"number\",\n        \"std\": 3931.9910823606933,\n        \"min\": 11.913369192215445,\n        \"max\": 11162.0,\n        \"num_unique_values\": 8,\n        \"samples\": [\n          41.231947679627304,\n          39.0,\n          11162.0\n        ],\n        \"semantic_type\": \"\",\n        \"description\": \"\"\n      }\n    },\n    {\n      \"column\": \"balance\",\n      \"properties\": {\n        \"dtype\": \"number\",\n        \"std\": 28556.871708269126,\n        \"min\": -6847.0,\n        \"max\": 81204.0,\n        \"num_unique_values\": 8,\n        \"samples\": [\n          1528.5385235620856,\n          550.0,\n          11162.0\n        ],\n        \"semantic_type\": \"\",\n        \"description\": \"\"\n      }\n    },\n    {\n      \"column\": \"day\",\n      \"properties\": {\n        \"dtype\": \"number\",\n        \"std\": 3941.2684170092043,\n        \"min\": 1.0,\n        \"max\": 11162.0,\n        \"num_unique_values\": 8,\n        \"samples\": [\n          15.658036194230425,\n          15.0,\n          11162.0\n        ],\n        \"semantic_type\": \"\",\n        \"description\": \"\"\n      }\n    },\n    {\n      \"column\": \"duration\",\n      \"properties\": {\n        \"dtype\": \"number\",\n        \"std\": 3883.583794535372,\n        \"min\": 2.0,\n        \"max\": 11162.0,\n        \"num_unique_values\": 8,\n        \"samples\": [\n          371.99381831213043,\n          255.0,\n          11162.0\n        ],\n        \"semantic_type\": \"\",\n        \"description\": \"\"\n      }\n    },\n    {\n      \"column\": \"campaign\",\n      \"properties\": {\n        \"dtype\": \"number\",\n        \"std\": 3942.62101077111,\n        \"min\": 1.0,\n        \"max\": 11162.0,\n        \"num_unique_values\": 7,\n        \"samples\": [\n          11162.0,\n          2.508421429851281,\n          3.0\n        ],\n        \"semantic_type\": \"\",\n        \"description\": \"\"\n      }\n    },\n    {\n      \"column\": \"pdays\",\n      \"properties\": {\n        \"dtype\": \"number\",\n        \"std\": 3905.0927186956947,\n        \"min\": -1.0,\n        \"max\": 11162.0,\n        \"num_unique_values\": 6,\n        \"samples\": [\n          11162.0,\n          51.33040673714388,\n          854.0\n        ],\n        \"semantic_type\": \"\",\n        \"description\": \"\"\n      }\n    },\n    {\n      \"column\": \"previous\",\n      \"properties\": {\n        \"dtype\": \"number\",\n        \"std\": 3943.2762559943403,\n        \"min\": 0.0,\n        \"max\": 11162.0,\n        \"num_unique_values\": 6,\n        \"samples\": [\n          11162.0,\n          0.8325568894463358,\n          58.0\n        ],\n        \"semantic_type\": \"\",\n        \"description\": \"\"\n      }\n    }\n  ]\n}",
              "type": "dataframe"
            },
            "text/html": [
              "\n",
              "  <div id=\"df-59183ee3-774f-4cad-a455-328a5f232d24\" class=\"colab-df-container\">\n",
              "    <div>\n",
              "<style scoped>\n",
              "    .dataframe tbody tr th:only-of-type {\n",
              "        vertical-align: middle;\n",
              "    }\n",
              "\n",
              "    .dataframe tbody tr th {\n",
              "        vertical-align: top;\n",
              "    }\n",
              "\n",
              "    .dataframe thead th {\n",
              "        text-align: right;\n",
              "    }\n",
              "</style>\n",
              "<table border=\"1\" class=\"dataframe\">\n",
              "  <thead>\n",
              "    <tr style=\"text-align: right;\">\n",
              "      <th></th>\n",
              "      <th>age</th>\n",
              "      <th>balance</th>\n",
              "      <th>day</th>\n",
              "      <th>duration</th>\n",
              "      <th>campaign</th>\n",
              "      <th>pdays</th>\n",
              "      <th>previous</th>\n",
              "    </tr>\n",
              "  </thead>\n",
              "  <tbody>\n",
              "    <tr>\n",
              "      <th>count</th>\n",
              "      <td>11162.000000</td>\n",
              "      <td>11162.000000</td>\n",
              "      <td>11162.000000</td>\n",
              "      <td>11162.000000</td>\n",
              "      <td>11162.000000</td>\n",
              "      <td>11162.000000</td>\n",
              "      <td>11162.000000</td>\n",
              "    </tr>\n",
              "    <tr>\n",
              "      <th>mean</th>\n",
              "      <td>41.231948</td>\n",
              "      <td>1528.538524</td>\n",
              "      <td>15.658036</td>\n",
              "      <td>371.993818</td>\n",
              "      <td>2.508421</td>\n",
              "      <td>51.330407</td>\n",
              "      <td>0.832557</td>\n",
              "    </tr>\n",
              "    <tr>\n",
              "      <th>std</th>\n",
              "      <td>11.913369</td>\n",
              "      <td>3225.413326</td>\n",
              "      <td>8.420740</td>\n",
              "      <td>347.128386</td>\n",
              "      <td>2.722077</td>\n",
              "      <td>108.758282</td>\n",
              "      <td>2.292007</td>\n",
              "    </tr>\n",
              "    <tr>\n",
              "      <th>min</th>\n",
              "      <td>18.000000</td>\n",
              "      <td>-6847.000000</td>\n",
              "      <td>1.000000</td>\n",
              "      <td>2.000000</td>\n",
              "      <td>1.000000</td>\n",
              "      <td>-1.000000</td>\n",
              "      <td>0.000000</td>\n",
              "    </tr>\n",
              "    <tr>\n",
              "      <th>25%</th>\n",
              "      <td>32.000000</td>\n",
              "      <td>122.000000</td>\n",
              "      <td>8.000000</td>\n",
              "      <td>138.000000</td>\n",
              "      <td>1.000000</td>\n",
              "      <td>-1.000000</td>\n",
              "      <td>0.000000</td>\n",
              "    </tr>\n",
              "    <tr>\n",
              "      <th>50%</th>\n",
              "      <td>39.000000</td>\n",
              "      <td>550.000000</td>\n",
              "      <td>15.000000</td>\n",
              "      <td>255.000000</td>\n",
              "      <td>2.000000</td>\n",
              "      <td>-1.000000</td>\n",
              "      <td>0.000000</td>\n",
              "    </tr>\n",
              "    <tr>\n",
              "      <th>75%</th>\n",
              "      <td>49.000000</td>\n",
              "      <td>1708.000000</td>\n",
              "      <td>22.000000</td>\n",
              "      <td>496.000000</td>\n",
              "      <td>3.000000</td>\n",
              "      <td>20.750000</td>\n",
              "      <td>1.000000</td>\n",
              "    </tr>\n",
              "    <tr>\n",
              "      <th>max</th>\n",
              "      <td>95.000000</td>\n",
              "      <td>81204.000000</td>\n",
              "      <td>31.000000</td>\n",
              "      <td>3881.000000</td>\n",
              "      <td>63.000000</td>\n",
              "      <td>854.000000</td>\n",
              "      <td>58.000000</td>\n",
              "    </tr>\n",
              "  </tbody>\n",
              "</table>\n",
              "</div>\n",
              "    <div class=\"colab-df-buttons\">\n",
              "\n",
              "  <div class=\"colab-df-container\">\n",
              "    <button class=\"colab-df-convert\" onclick=\"convertToInteractive('df-59183ee3-774f-4cad-a455-328a5f232d24')\"\n",
              "            title=\"Convert this dataframe to an interactive table.\"\n",
              "            style=\"display:none;\">\n",
              "\n",
              "  <svg xmlns=\"http://www.w3.org/2000/svg\" height=\"24px\" viewBox=\"0 -960 960 960\">\n",
              "    <path d=\"M120-120v-720h720v720H120Zm60-500h600v-160H180v160Zm220 220h160v-160H400v160Zm0 220h160v-160H400v160ZM180-400h160v-160H180v160Zm440 0h160v-160H620v160ZM180-180h160v-160H180v160Zm440 0h160v-160H620v160Z\"/>\n",
              "  </svg>\n",
              "    </button>\n",
              "\n",
              "  <style>\n",
              "    .colab-df-container {\n",
              "      display:flex;\n",
              "      gap: 12px;\n",
              "    }\n",
              "\n",
              "    .colab-df-convert {\n",
              "      background-color: #E8F0FE;\n",
              "      border: none;\n",
              "      border-radius: 50%;\n",
              "      cursor: pointer;\n",
              "      display: none;\n",
              "      fill: #1967D2;\n",
              "      height: 32px;\n",
              "      padding: 0 0 0 0;\n",
              "      width: 32px;\n",
              "    }\n",
              "\n",
              "    .colab-df-convert:hover {\n",
              "      background-color: #E2EBFA;\n",
              "      box-shadow: 0px 1px 2px rgba(60, 64, 67, 0.3), 0px 1px 3px 1px rgba(60, 64, 67, 0.15);\n",
              "      fill: #174EA6;\n",
              "    }\n",
              "\n",
              "    .colab-df-buttons div {\n",
              "      margin-bottom: 4px;\n",
              "    }\n",
              "\n",
              "    [theme=dark] .colab-df-convert {\n",
              "      background-color: #3B4455;\n",
              "      fill: #D2E3FC;\n",
              "    }\n",
              "\n",
              "    [theme=dark] .colab-df-convert:hover {\n",
              "      background-color: #434B5C;\n",
              "      box-shadow: 0px 1px 3px 1px rgba(0, 0, 0, 0.15);\n",
              "      filter: drop-shadow(0px 1px 2px rgba(0, 0, 0, 0.3));\n",
              "      fill: #FFFFFF;\n",
              "    }\n",
              "  </style>\n",
              "\n",
              "    <script>\n",
              "      const buttonEl =\n",
              "        document.querySelector('#df-59183ee3-774f-4cad-a455-328a5f232d24 button.colab-df-convert');\n",
              "      buttonEl.style.display =\n",
              "        google.colab.kernel.accessAllowed ? 'block' : 'none';\n",
              "\n",
              "      async function convertToInteractive(key) {\n",
              "        const element = document.querySelector('#df-59183ee3-774f-4cad-a455-328a5f232d24');\n",
              "        const dataTable =\n",
              "          await google.colab.kernel.invokeFunction('convertToInteractive',\n",
              "                                                    [key], {});\n",
              "        if (!dataTable) return;\n",
              "\n",
              "        const docLinkHtml = 'Like what you see? Visit the ' +\n",
              "          '<a target=\"_blank\" href=https://colab.research.google.com/notebooks/data_table.ipynb>data table notebook</a>'\n",
              "          + ' to learn more about interactive tables.';\n",
              "        element.innerHTML = '';\n",
              "        dataTable['output_type'] = 'display_data';\n",
              "        await google.colab.output.renderOutput(dataTable, element);\n",
              "        const docLink = document.createElement('div');\n",
              "        docLink.innerHTML = docLinkHtml;\n",
              "        element.appendChild(docLink);\n",
              "      }\n",
              "    </script>\n",
              "  </div>\n",
              "\n",
              "\n",
              "<div id=\"df-f92232f0-eb5e-47db-9829-1e2dace0d599\">\n",
              "  <button class=\"colab-df-quickchart\" onclick=\"quickchart('df-f92232f0-eb5e-47db-9829-1e2dace0d599')\"\n",
              "            title=\"Suggest charts\"\n",
              "            style=\"display:none;\">\n",
              "\n",
              "<svg xmlns=\"http://www.w3.org/2000/svg\" height=\"24px\"viewBox=\"0 0 24 24\"\n",
              "     width=\"24px\">\n",
              "    <g>\n",
              "        <path d=\"M19 3H5c-1.1 0-2 .9-2 2v14c0 1.1.9 2 2 2h14c1.1 0 2-.9 2-2V5c0-1.1-.9-2-2-2zM9 17H7v-7h2v7zm4 0h-2V7h2v10zm4 0h-2v-4h2v4z\"/>\n",
              "    </g>\n",
              "</svg>\n",
              "  </button>\n",
              "\n",
              "<style>\n",
              "  .colab-df-quickchart {\n",
              "      --bg-color: #E8F0FE;\n",
              "      --fill-color: #1967D2;\n",
              "      --hover-bg-color: #E2EBFA;\n",
              "      --hover-fill-color: #174EA6;\n",
              "      --disabled-fill-color: #AAA;\n",
              "      --disabled-bg-color: #DDD;\n",
              "  }\n",
              "\n",
              "  [theme=dark] .colab-df-quickchart {\n",
              "      --bg-color: #3B4455;\n",
              "      --fill-color: #D2E3FC;\n",
              "      --hover-bg-color: #434B5C;\n",
              "      --hover-fill-color: #FFFFFF;\n",
              "      --disabled-bg-color: #3B4455;\n",
              "      --disabled-fill-color: #666;\n",
              "  }\n",
              "\n",
              "  .colab-df-quickchart {\n",
              "    background-color: var(--bg-color);\n",
              "    border: none;\n",
              "    border-radius: 50%;\n",
              "    cursor: pointer;\n",
              "    display: none;\n",
              "    fill: var(--fill-color);\n",
              "    height: 32px;\n",
              "    padding: 0;\n",
              "    width: 32px;\n",
              "  }\n",
              "\n",
              "  .colab-df-quickchart:hover {\n",
              "    background-color: var(--hover-bg-color);\n",
              "    box-shadow: 0 1px 2px rgba(60, 64, 67, 0.3), 0 1px 3px 1px rgba(60, 64, 67, 0.15);\n",
              "    fill: var(--button-hover-fill-color);\n",
              "  }\n",
              "\n",
              "  .colab-df-quickchart-complete:disabled,\n",
              "  .colab-df-quickchart-complete:disabled:hover {\n",
              "    background-color: var(--disabled-bg-color);\n",
              "    fill: var(--disabled-fill-color);\n",
              "    box-shadow: none;\n",
              "  }\n",
              "\n",
              "  .colab-df-spinner {\n",
              "    border: 2px solid var(--fill-color);\n",
              "    border-color: transparent;\n",
              "    border-bottom-color: var(--fill-color);\n",
              "    animation:\n",
              "      spin 1s steps(1) infinite;\n",
              "  }\n",
              "\n",
              "  @keyframes spin {\n",
              "    0% {\n",
              "      border-color: transparent;\n",
              "      border-bottom-color: var(--fill-color);\n",
              "      border-left-color: var(--fill-color);\n",
              "    }\n",
              "    20% {\n",
              "      border-color: transparent;\n",
              "      border-left-color: var(--fill-color);\n",
              "      border-top-color: var(--fill-color);\n",
              "    }\n",
              "    30% {\n",
              "      border-color: transparent;\n",
              "      border-left-color: var(--fill-color);\n",
              "      border-top-color: var(--fill-color);\n",
              "      border-right-color: var(--fill-color);\n",
              "    }\n",
              "    40% {\n",
              "      border-color: transparent;\n",
              "      border-right-color: var(--fill-color);\n",
              "      border-top-color: var(--fill-color);\n",
              "    }\n",
              "    60% {\n",
              "      border-color: transparent;\n",
              "      border-right-color: var(--fill-color);\n",
              "    }\n",
              "    80% {\n",
              "      border-color: transparent;\n",
              "      border-right-color: var(--fill-color);\n",
              "      border-bottom-color: var(--fill-color);\n",
              "    }\n",
              "    90% {\n",
              "      border-color: transparent;\n",
              "      border-bottom-color: var(--fill-color);\n",
              "    }\n",
              "  }\n",
              "</style>\n",
              "\n",
              "  <script>\n",
              "    async function quickchart(key) {\n",
              "      const quickchartButtonEl =\n",
              "        document.querySelector('#' + key + ' button');\n",
              "      quickchartButtonEl.disabled = true;  // To prevent multiple clicks.\n",
              "      quickchartButtonEl.classList.add('colab-df-spinner');\n",
              "      try {\n",
              "        const charts = await google.colab.kernel.invokeFunction(\n",
              "            'suggestCharts', [key], {});\n",
              "      } catch (error) {\n",
              "        console.error('Error during call to suggestCharts:', error);\n",
              "      }\n",
              "      quickchartButtonEl.classList.remove('colab-df-spinner');\n",
              "      quickchartButtonEl.classList.add('colab-df-quickchart-complete');\n",
              "    }\n",
              "    (() => {\n",
              "      let quickchartButtonEl =\n",
              "        document.querySelector('#df-f92232f0-eb5e-47db-9829-1e2dace0d599 button');\n",
              "      quickchartButtonEl.style.display =\n",
              "        google.colab.kernel.accessAllowed ? 'block' : 'none';\n",
              "    })();\n",
              "  </script>\n",
              "</div>\n",
              "    </div>\n",
              "  </div>\n"
            ],
            "text/plain": [
              "                age       balance           day      duration      campaign  \\\n",
              "count  11162.000000  11162.000000  11162.000000  11162.000000  11162.000000   \n",
              "mean      41.231948   1528.538524     15.658036    371.993818      2.508421   \n",
              "std       11.913369   3225.413326      8.420740    347.128386      2.722077   \n",
              "min       18.000000  -6847.000000      1.000000      2.000000      1.000000   \n",
              "25%       32.000000    122.000000      8.000000    138.000000      1.000000   \n",
              "50%       39.000000    550.000000     15.000000    255.000000      2.000000   \n",
              "75%       49.000000   1708.000000     22.000000    496.000000      3.000000   \n",
              "max       95.000000  81204.000000     31.000000   3881.000000     63.000000   \n",
              "\n",
              "              pdays      previous  \n",
              "count  11162.000000  11162.000000  \n",
              "mean      51.330407      0.832557  \n",
              "std      108.758282      2.292007  \n",
              "min       -1.000000      0.000000  \n",
              "25%       -1.000000      0.000000  \n",
              "50%       -1.000000      0.000000  \n",
              "75%       20.750000      1.000000  \n",
              "max      854.000000     58.000000  "
            ]
          },
          "execution_count": 6,
          "metadata": {},
          "output_type": "execute_result"
        }
      ],
      "source": [
        "df.describe()"
      ]
    },
    {
      "cell_type": "markdown",
      "metadata": {
        "id": "HDgn1B3D70J7"
      },
      "source": [
        "Классы более менее сбалансированы."
      ]
    },
    {
      "cell_type": "code",
      "execution_count": 7,
      "metadata": {
        "colab": {
          "base_uri": "https://localhost:8080/",
          "height": 178
        },
        "id": "l5PIL-C67gXN",
        "outputId": "4751d6bf-d475-4e2c-9bce-18fb03db0129"
      },
      "outputs": [
        {
          "data": {
            "text/html": [
              "<div>\n",
              "<style scoped>\n",
              "    .dataframe tbody tr th:only-of-type {\n",
              "        vertical-align: middle;\n",
              "    }\n",
              "\n",
              "    .dataframe tbody tr th {\n",
              "        vertical-align: top;\n",
              "    }\n",
              "\n",
              "    .dataframe thead th {\n",
              "        text-align: right;\n",
              "    }\n",
              "</style>\n",
              "<table border=\"1\" class=\"dataframe\">\n",
              "  <thead>\n",
              "    <tr style=\"text-align: right;\">\n",
              "      <th></th>\n",
              "      <th>count</th>\n",
              "    </tr>\n",
              "    <tr>\n",
              "      <th>deposit</th>\n",
              "      <th></th>\n",
              "    </tr>\n",
              "  </thead>\n",
              "  <tbody>\n",
              "    <tr>\n",
              "      <th>no</th>\n",
              "      <td>5873</td>\n",
              "    </tr>\n",
              "    <tr>\n",
              "      <th>yes</th>\n",
              "      <td>5289</td>\n",
              "    </tr>\n",
              "  </tbody>\n",
              "</table>\n",
              "</div><br><label><b>dtype:</b> int64</label>"
            ],
            "text/plain": [
              "deposit\n",
              "no     5873\n",
              "yes    5289\n",
              "Name: count, dtype: int64"
            ]
          },
          "execution_count": 7,
          "metadata": {},
          "output_type": "execute_result"
        }
      ],
      "source": [
        "df[target_name].value_counts()"
      ]
    },
    {
      "cell_type": "code",
      "execution_count": 8,
      "metadata": {
        "id": "QSwue7qr9FtP"
      },
      "outputs": [],
      "source": [
        "y = df[target_name]\n",
        "X = df.drop(columns=[target_name])"
      ]
    },
    {
      "cell_type": "code",
      "execution_count": 9,
      "metadata": {
        "id": "YHNaKCg09jqU"
      },
      "outputs": [],
      "source": [
        "from sklearn.model_selection import train_test_split\n",
        "X_1, X_test, y_1, y_test = train_test_split(X, y, test_size = 0.15, shuffle=True)\n",
        "X_train, X_valid, y_train, y_valid = train_test_split(X_1, y_1, test_size=0.15)"
      ]
    },
    {
      "cell_type": "markdown",
      "metadata": {
        "id": "QBGyKCH5_XQ5"
      },
      "source": [
        "Default catboost:"
      ]
    },
    {
      "cell_type": "code",
      "execution_count": 10,
      "metadata": {
        "id": "qLOTjYX7_WTt"
      },
      "outputs": [],
      "source": [
        "from catboost import CatBoostClassifier\n",
        "default_model = CatBoostClassifier(iterations = 1000, task_type=\"GPU\")"
      ]
    },
    {
      "cell_type": "code",
      "execution_count": 11,
      "metadata": {
        "id": "JLA1G2ymArER"
      },
      "outputs": [],
      "source": [
        "cat_features = df.select_dtypes('object').columns\n",
        "categorical_features_indices = np.where(X_train.dtypes != float)[0]"
      ]
    },
    {
      "cell_type": "code",
      "execution_count": null,
      "metadata": {
        "id": "Mt2V93RRClZA"
      },
      "outputs": [],
      "source": [
        "from sklearn.metrics import (\n",
        "    accuracy_score,\n",
        "    f1_score,\n",
        "    roc_auc_score,\n",
        "    precision_score,\n",
        "    recall_score,\n",
        "    roc_curve,\n",
        ")\n",
        "import matplotlib.pyplot as plt\n",
        "\n",
        "def evaluate_model(model, X_test, y_test, pos_label='yes'):\n",
        "    \"\"\"\n",
        "    Вычисляет метрики и строит график AUC для модели CatBoostClassifier.\n",
        "\n",
        "    Параметры:\n",
        "        model: Обученная модель CatBoostClassifier.\n",
        "        X_test: Тестовые данные (признаки).\n",
        "        y_test: Истинные значения целевой переменной.\n",
        "\n",
        "    Возвращает:\n",
        "        Словарь с метриками: accuracy, f1_score, roc_auc, precision, recall.\n",
        "    \"\"\"\n",
        "    # Предсказание вероятностей и классов\n",
        "    y_pred_proba = model.predict_proba(X_test)[:, 1]  # Вероятности для положительного класса\n",
        "    y_pred = model.predict(X_test)  # Предсказанные классы\n",
        "\n",
        "    # Вычисление метрик\n",
        "    accuracy = accuracy_score(y_test, y_pred)\n",
        "    f1 = f1_score(y_test, y_pred, pos_label=pos_label)\n",
        "    roc_auc = roc_auc_score(y_test, y_pred_proba)\n",
        "    precision = precision_score(y_test, y_pred, pos_label=pos_label)\n",
        "    recall = recall_score(y_test, y_pred, pos_label=pos_label)\n",
        "    # Возвращение метрик\n",
        "    return {\n",
        "        \"accuracy\": accuracy,\n",
        "        \"f1_score\": f1,\n",
        "        \"roc_auc\": roc_auc,\n",
        "        \"precision\": precision,\n",
        "        \"recall\": recall,\n",
        "    }"
      ]
    },
    {
      "cell_type": "code",
      "execution_count": 13,
      "metadata": {
        "colab": {
          "base_uri": "https://localhost:8080/"
        },
        "id": "Yp8VS-s7_-NI",
        "outputId": "8b20e76b-6cbb-4a23-b5b1-57e843a223c2"
      },
      "outputs": [
        {
          "data": {
            "text/plain": [
              "<catboost.core.CatBoostClassifier at 0x7bbaafcc2e10>"
            ]
          },
          "execution_count": 13,
          "metadata": {},
          "output_type": "execute_result"
        }
      ],
      "source": [
        "default_model.fit(X_train,\n",
        "          y_train,\n",
        "          verbose=False, cat_features = categorical_features_indices)"
      ]
    },
    {
      "cell_type": "code",
      "execution_count": 14,
      "metadata": {
        "colab": {
          "base_uri": "https://localhost:8080/"
        },
        "id": "RQOpAkteAApf",
        "outputId": "1597afed-0e95-4572-f51e-540d67670a9c"
      },
      "outputs": [
        {
          "data": {
            "text/plain": [
              "0.8370149253731344"
            ]
          },
          "execution_count": 14,
          "metadata": {},
          "output_type": "execute_result"
        }
      ],
      "source": [
        "accuracy = default_model.score(X_test, y_test)\n",
        "accuracy"
      ]
    },
    {
      "cell_type": "code",
      "execution_count": 15,
      "metadata": {
        "colab": {
          "base_uri": "https://localhost:8080/",
          "height": 651
        },
        "id": "scM981ATDXWo",
        "outputId": "8610d1cd-4822-4849-88f9-48e0a333d35a"
      },
      "outputs": [
        {
          "data": {
            "image/png": "[encoded data removed]",
            "text/plain": [
              "<Figure size 800x600 with 1 Axes>"
            ]
          },
          "metadata": {},
          "output_type": "display_data"
        },
        {
          "data": {
            "text/plain": [
              "{'accuracy': 0.8370149253731344,\n",
              " 'f1_score': 0.8370149253731344,\n",
              " 'roc_auc': 0.9192701560235851,\n",
              " 'precision': 0.7984054669703873,\n",
              " 'recall': 0.8795483061480552}"
            ]
          },
          "execution_count": 15,
          "metadata": {},
          "output_type": "execute_result"
        }
      ],
      "source": [
        "evaluate_model(default_model, X_test, y_test.values)"
      ]
    },
    {
      "cell_type": "code",
      "execution_count": 16,
      "metadata": {
        "colab": {
          "base_uri": "https://localhost:8080/"
        },
        "id": "-NUZqMXvYc-n",
        "outputId": "14711f07-2844-40b9-e63d-3c3f61eafa5e"
      },
      "outputs": [
        {
          "name": "stdout",
          "output_type": "stream",
          "text": [
            "0:\tlearn: 0.6901833\ttotal: 20.3ms\tremaining: 20.3s\n",
            "250:\tlearn: 0.4309201\ttotal: 11.5s\tremaining: 34.2s\n",
            "500:\tlearn: 0.3882708\ttotal: 30.7s\tremaining: 30.6s\n",
            "750:\tlearn: 0.3690607\ttotal: 36.5s\tremaining: 12.1s\n",
            "999:\tlearn: 0.3571151\ttotal: 51.9s\tremaining: 0us\n"
          ]
        },
        {
          "data": {
            "text/plain": [
              "<catboost.core.CatBoostClassifier at 0x7bba9d97a7d0>"
            ]
          },
          "execution_count": 16,
          "metadata": {},
          "output_type": "execute_result"
        }
      ],
      "source": [
        "model = CatBoostClassifier(\n",
        "        iterations=1000,\n",
        "        depth=6,\n",
        "        learning_rate=0.005,\n",
        "        loss_function='Logloss',\n",
        "        cat_features = categorical_features_indices,\n",
        "        task_type=\"GPU\",\n",
        "        bootstrap_type=\"Bayesian\",\n",
        "        grow_policy=\"Lossguide\",\n",
        "        random_strength=2,\n",
        "        bagging_temperature=1,\n",
        "        l2_leaf_reg=0.01,\n",
        "        verbose=250\n",
        "    )\n",
        "model.fit(X_train, y_train)"
      ]
    },
    {
      "cell_type": "code",
      "execution_count": 17,
      "metadata": {
        "colab": {
          "base_uri": "https://localhost:8080/"
        },
        "id": "lSw85nzsYyfB",
        "outputId": "29f89ca4-0ead-45ea-c8c3-d83db24517c0"
      },
      "outputs": [
        {
          "data": {
            "text/plain": [
              "0.8250746268656717"
            ]
          },
          "execution_count": 17,
          "metadata": {},
          "output_type": "execute_result"
        }
      ],
      "source": [
        "model.score(X_test, y_test)"
      ]
    },
    {
      "cell_type": "code",
      "execution_count": 18,
      "metadata": {
        "id": "MSGdjV2VgShY"
      },
      "outputs": [],
      "source": [
        "model = CatBoostClassifier(learning_rate= 0.03454190018372963, objective='Logloss', colsample_bylevel = 0.32757765370471664, depth= 7, boosting_type= 'Ordered', bootstrap_type= 'Bernoulli', cat_features = categorical_features_indices)"
      ]
    },
    {
      "cell_type": "markdown",
      "metadata": {
        "id": "NkbbN9L9guX_"
      },
      "source": []
    },
    {
      "cell_type": "code",
      "execution_count": 19,
      "metadata": {
        "colab": {
          "base_uri": "https://localhost:8080/"
        },
        "id": "mFarzVyzgeeU",
        "outputId": "a4b2f119-27aa-4e4a-be3e-36c922322dec"
      },
      "outputs": [
        {
          "data": {
            "text/plain": [
              "<catboost.core.CatBoostClassifier at 0x7bba9d8f5c90>"
            ]
          },
          "execution_count": 19,
          "metadata": {},
          "output_type": "execute_result"
        }
      ],
      "source": [
        "model.fit(X_train, y_train, verbose=0)"
      ]
    },
    {
      "cell_type": "code",
      "execution_count": 20,
      "metadata": {
        "colab": {
          "base_uri": "https://localhost:8080/",
          "height": 651
        },
        "id": "H_77FfBKg6RU",
        "outputId": "28967888-f7ea-46cd-85f8-ee826e4c94cb"
      },
      "outputs": [
        {
          "data": {
            "image/png": "[encoded data removed]",
            "text/plain": [
              "<Figure size 800x600 with 1 Axes>"
            ]
          },
          "metadata": {},
          "output_type": "display_data"
        },
        {
          "data": {
            "text/plain": [
              "{'accuracy': 0.8477611940298507,\n",
              " 'f1_score': 0.8483045806067817,\n",
              " 'roc_auc': 0.9254779454846334,\n",
              " 'precision': 0.8065610859728507,\n",
              " 'recall': 0.8946047678795483}"
            ]
          },
          "execution_count": 20,
          "metadata": {},
          "output_type": "execute_result"
        }
      ],
      "source": [
        "evaluate_model(model, X_test, y_test.values)\n"
      ]
    },
    {
      "cell_type": "code",
      "execution_count": 21,
      "metadata": {
        "id": "_8a3tQ_sg9Vv"
      },
      "outputs": [],
      "source": [
        "importance = model.get_feature_importance()\n"
      ]
    },
    {
      "cell_type": "code",
      "execution_count": 24,
      "metadata": {
        "colab": {
          "base_uri": "https://localhost:8080/",
          "height": 758
        },
        "id": "JMr5NQIkoMzo",
        "outputId": "5d6184d5-2a5f-49e1-ab2f-b83af92feff7"
      },
      "outputs": [
        {
          "name": "stderr",
          "output_type": "stream",
          "text": [
            "[I 2025-03-05 09:28:43,480] A new study created in memory with name: no-name-c8c4fca1-08bd-4def-97ba-1c1436e83ae0\n",
            "[W 2025-03-05 09:28:47,651] Trial 0 failed with parameters: {'learning_rate': 0.005038290496243106, 'objective': 'Logloss', 'colsample_bylevel': 0.23398990731843378, 'depth': 9, 'boosting_type': 'Ordered', 'bootstrap_type': 'MVS'} because of the following error: KeyboardInterrupt('').\n",
            "Traceback (most recent call last):\n",
            "  File \"/usr/local/lib/python3.11/dist-packages/optuna/study/_optimize.py\", line 197, in _run_trial\n",
            "    value_or_values = func(trial)\n",
            "                      ^^^^^^^^^^^\n",
            "  File \"<ipython-input-24-2a21364a3e0d>\", line 25, in objective\n",
            "    model.fit(X_train, y_train_encoded)\n",
            "  File \"/usr/local/lib/python3.11/dist-packages/catboost/core.py\", line 5245, in fit\n",
            "    self._fit(X, y, cat_features, text_features, embedding_features, None, graph, sample_weight, None, None, None, None, baseline, use_best_model,\n",
            "  File \"/usr/local/lib/python3.11/dist-packages/catboost/core.py\", line 2410, in _fit\n",
            "    self._train(\n",
            "  File \"/usr/local/lib/python3.11/dist-packages/catboost/core.py\", line 1790, in _train\n",
            "    self._object._train(train_pool, test_pool, params, allow_clear_pool, init_model._object if init_model else None)\n",
            "  File \"_catboost.pyx\", line 5017, in _catboost._CatBoost._train\n",
            "  File \"_catboost.pyx\", line 5066, in _catboost._CatBoost._train\n",
            "KeyboardInterrupt\n",
            "[W 2025-03-05 09:28:47,653] Trial 0 failed with value None.\n"
          ]
        },
        {
          "ename": "KeyboardInterrupt",
          "evalue": "",
          "output_type": "error",
          "traceback": [
            "\u001b[0;31m---------------------------------------------------------------------------\u001b[0m",
            "\u001b[0;31mKeyboardInterrupt\u001b[0m                         Traceback (most recent call last)",
            "\u001b[0;32m<ipython-input-24-2a21364a3e0d>\u001b[0m in \u001b[0;36m<cell line: 0>\u001b[0;34m()\u001b[0m\n\u001b[1;32m     29\u001b[0m \u001b[0;34m\u001b[0m\u001b[0m\n\u001b[1;32m     30\u001b[0m \u001b[0mstudy\u001b[0m \u001b[0;34m=\u001b[0m \u001b[0moptuna\u001b[0m\u001b[0;34m.\u001b[0m\u001b[0mcreate_study\u001b[0m\u001b[0;34m(\u001b[0m\u001b[0mdirection\u001b[0m\u001b[0;34m=\u001b[0m\u001b[0;34m'maximize'\u001b[0m\u001b[0;34m)\u001b[0m\u001b[0;34m\u001b[0m\u001b[0;34m\u001b[0m\u001b[0m\n\u001b[0;32m---> 31\u001b[0;31m \u001b[0mstudy\u001b[0m\u001b[0;34m.\u001b[0m\u001b[0moptimize\u001b[0m\u001b[0;34m(\u001b[0m\u001b[0mobjective\u001b[0m\u001b[0;34m,\u001b[0m \u001b[0mn_trials\u001b[0m\u001b[0;34m=\u001b[0m\u001b[0;36m100\u001b[0m\u001b[0;34m)\u001b[0m\u001b[0;34m\u001b[0m\u001b[0;34m\u001b[0m\u001b[0m\n\u001b[0m\u001b[1;32m     32\u001b[0m \u001b[0;34m\u001b[0m\u001b[0m\n\u001b[1;32m     33\u001b[0m \u001b[0mprint\u001b[0m\u001b[0;34m(\u001b[0m\u001b[0;34m\"Лучшие параметры:\"\u001b[0m\u001b[0;34m,\u001b[0m \u001b[0mstudy\u001b[0m\u001b[0;34m.\u001b[0m\u001b[0mbest_params\u001b[0m\u001b[0;34m)\u001b[0m\u001b[0;34m\u001b[0m\u001b[0;34m\u001b[0m\u001b[0m\n",
            "\u001b[0;32m/usr/local/lib/python3.11/dist-packages/optuna/study/study.py\u001b[0m in \u001b[0;36moptimize\u001b[0;34m(self, func, n_trials, timeout, n_jobs, catch, callbacks, gc_after_trial, show_progress_bar)\u001b[0m\n\u001b[1;32m    473\u001b[0m                 \u001b[0mIf\u001b[0m \u001b[0mnested\u001b[0m \u001b[0minvocation\u001b[0m \u001b[0mof\u001b[0m \u001b[0mthis\u001b[0m \u001b[0mmethod\u001b[0m \u001b[0moccurs\u001b[0m\u001b[0;34m.\u001b[0m\u001b[0;34m\u001b[0m\u001b[0;34m\u001b[0m\u001b[0m\n\u001b[1;32m    474\u001b[0m         \"\"\"\n\u001b[0;32m--> 475\u001b[0;31m         _optimize(\n\u001b[0m\u001b[1;32m    476\u001b[0m             \u001b[0mstudy\u001b[0m\u001b[0;34m=\u001b[0m\u001b[0mself\u001b[0m\u001b[0;34m,\u001b[0m\u001b[0;34m\u001b[0m\u001b[0;34m\u001b[0m\u001b[0m\n\u001b[1;32m    477\u001b[0m             \u001b[0mfunc\u001b[0m\u001b[0;34m=\u001b[0m\u001b[0mfunc\u001b[0m\u001b[0;34m,\u001b[0m\u001b[0;34m\u001b[0m\u001b[0;34m\u001b[0m\u001b[0m\n",
            "\u001b[0;32m/usr/local/lib/python3.11/dist-packages/optuna/study/_optimize.py\u001b[0m in \u001b[0;36m_optimize\u001b[0;34m(study, func, n_trials, timeout, n_jobs, catch, callbacks, gc_after_trial, show_progress_bar)\u001b[0m\n\u001b[1;32m     61\u001b[0m     \u001b[0;32mtry\u001b[0m\u001b[0;34m:\u001b[0m\u001b[0;34m\u001b[0m\u001b[0;34m\u001b[0m\u001b[0m\n\u001b[1;32m     62\u001b[0m         \u001b[0;32mif\u001b[0m \u001b[0mn_jobs\u001b[0m \u001b[0;34m==\u001b[0m \u001b[0;36m1\u001b[0m\u001b[0;34m:\u001b[0m\u001b[0;34m\u001b[0m\u001b[0;34m\u001b[0m\u001b[0m\n\u001b[0;32m---> 63\u001b[0;31m             _optimize_sequential(\n\u001b[0m\u001b[1;32m     64\u001b[0m                 \u001b[0mstudy\u001b[0m\u001b[0;34m,\u001b[0m\u001b[0;34m\u001b[0m\u001b[0;34m\u001b[0m\u001b[0m\n\u001b[1;32m     65\u001b[0m                 \u001b[0mfunc\u001b[0m\u001b[0;34m,\u001b[0m\u001b[0;34m\u001b[0m\u001b[0;34m\u001b[0m\u001b[0m\n",
            "\u001b[0;32m/usr/local/lib/python3.11/dist-packages/optuna/study/_optimize.py\u001b[0m in \u001b[0;36m_optimize_sequential\u001b[0;34m(study, func, n_trials, timeout, catch, callbacks, gc_after_trial, reseed_sampler_rng, time_start, progress_bar)\u001b[0m\n\u001b[1;32m    158\u001b[0m \u001b[0;34m\u001b[0m\u001b[0m\n\u001b[1;32m    159\u001b[0m         \u001b[0;32mtry\u001b[0m\u001b[0;34m:\u001b[0m\u001b[0;34m\u001b[0m\u001b[0;34m\u001b[0m\u001b[0m\n\u001b[0;32m--> 160\u001b[0;31m             \u001b[0mfrozen_trial\u001b[0m \u001b[0;34m=\u001b[0m \u001b[0m_run_trial\u001b[0m\u001b[0;34m(\u001b[0m\u001b[0mstudy\u001b[0m\u001b[0;34m,\u001b[0m \u001b[0mfunc\u001b[0m\u001b[0;34m,\u001b[0m \u001b[0mcatch\u001b[0m\u001b[0;34m)\u001b[0m\u001b[0;34m\u001b[0m\u001b[0;34m\u001b[0m\u001b[0m\n\u001b[0m\u001b[1;32m    161\u001b[0m         \u001b[0;32mfinally\u001b[0m\u001b[0;34m:\u001b[0m\u001b[0;34m\u001b[0m\u001b[0;34m\u001b[0m\u001b[0m\n\u001b[1;32m    162\u001b[0m             \u001b[0;31m# The following line mitigates memory problems that can be occurred in some\u001b[0m\u001b[0;34m\u001b[0m\u001b[0;34m\u001b[0m\u001b[0m\n",
            "\u001b[0;32m/usr/local/lib/python3.11/dist-packages/optuna/study/_optimize.py\u001b[0m in \u001b[0;36m_run_trial\u001b[0;34m(study, func, catch)\u001b[0m\n\u001b[1;32m    246\u001b[0m         \u001b[0;32mand\u001b[0m \u001b[0;32mnot\u001b[0m \u001b[0misinstance\u001b[0m\u001b[0;34m(\u001b[0m\u001b[0mfunc_err\u001b[0m\u001b[0;34m,\u001b[0m \u001b[0mcatch\u001b[0m\u001b[0;34m)\u001b[0m\u001b[0;34m\u001b[0m\u001b[0;34m\u001b[0m\u001b[0m\n\u001b[1;32m    247\u001b[0m     ):\n\u001b[0;32m--> 248\u001b[0;31m         \u001b[0;32mraise\u001b[0m \u001b[0mfunc_err\u001b[0m\u001b[0;34m\u001b[0m\u001b[0;34m\u001b[0m\u001b[0m\n\u001b[0m\u001b[1;32m    249\u001b[0m     \u001b[0;32mreturn\u001b[0m \u001b[0mfrozen_trial\u001b[0m\u001b[0;34m\u001b[0m\u001b[0;34m\u001b[0m\u001b[0m\n\u001b[1;32m    250\u001b[0m \u001b[0;34m\u001b[0m\u001b[0m\n",
            "\u001b[0;32m/usr/local/lib/python3.11/dist-packages/optuna/study/_optimize.py\u001b[0m in \u001b[0;36m_run_trial\u001b[0;34m(study, func, catch)\u001b[0m\n\u001b[1;32m    195\u001b[0m     \u001b[0;32mwith\u001b[0m \u001b[0mget_heartbeat_thread\u001b[0m\u001b[0;34m(\u001b[0m\u001b[0mtrial\u001b[0m\u001b[0;34m.\u001b[0m\u001b[0m_trial_id\u001b[0m\u001b[0;34m,\u001b[0m \u001b[0mstudy\u001b[0m\u001b[0;34m.\u001b[0m\u001b[0m_storage\u001b[0m\u001b[0;34m)\u001b[0m\u001b[0;34m:\u001b[0m\u001b[0;34m\u001b[0m\u001b[0;34m\u001b[0m\u001b[0m\n\u001b[1;32m    196\u001b[0m         \u001b[0;32mtry\u001b[0m\u001b[0;34m:\u001b[0m\u001b[0;34m\u001b[0m\u001b[0;34m\u001b[0m\u001b[0m\n\u001b[0;32m--> 197\u001b[0;31m             \u001b[0mvalue_or_values\u001b[0m \u001b[0;34m=\u001b[0m \u001b[0mfunc\u001b[0m\u001b[0;34m(\u001b[0m\u001b[0mtrial\u001b[0m\u001b[0;34m)\u001b[0m\u001b[0;34m\u001b[0m\u001b[0;34m\u001b[0m\u001b[0m\n\u001b[0m\u001b[1;32m    198\u001b[0m         \u001b[0;32mexcept\u001b[0m \u001b[0mexceptions\u001b[0m\u001b[0;34m.\u001b[0m\u001b[0mTrialPruned\u001b[0m \u001b[0;32mas\u001b[0m \u001b[0me\u001b[0m\u001b[0;34m:\u001b[0m\u001b[0;34m\u001b[0m\u001b[0;34m\u001b[0m\u001b[0m\n\u001b[1;32m    199\u001b[0m             \u001b[0;31m# TODO(mamu): Handle multi-objective cases.\u001b[0m\u001b[0;34m\u001b[0m\u001b[0;34m\u001b[0m\u001b[0m\n",
            "\u001b[0;32m<ipython-input-24-2a21364a3e0d>\u001b[0m in \u001b[0;36mobjective\u001b[0;34m(trial)\u001b[0m\n\u001b[1;32m     23\u001b[0m     }\n\u001b[1;32m     24\u001b[0m     \u001b[0mmodel\u001b[0m \u001b[0;34m=\u001b[0m \u001b[0mCatBoostClassifier\u001b[0m\u001b[0;34m(\u001b[0m\u001b[0;34m**\u001b[0m\u001b[0mparams\u001b[0m\u001b[0;34m,\u001b[0m \u001b[0mverbose\u001b[0m\u001b[0;34m=\u001b[0m\u001b[0;36m0\u001b[0m\u001b[0;34m,\u001b[0m \u001b[0mcat_features\u001b[0m \u001b[0;34m=\u001b[0m \u001b[0mcategorical_features_indices\u001b[0m\u001b[0;34m)\u001b[0m\u001b[0;34m\u001b[0m\u001b[0;34m\u001b[0m\u001b[0m\n\u001b[0;32m---> 25\u001b[0;31m     \u001b[0mmodel\u001b[0m\u001b[0;34m.\u001b[0m\u001b[0mfit\u001b[0m\u001b[0;34m(\u001b[0m\u001b[0mX_train\u001b[0m\u001b[0;34m,\u001b[0m \u001b[0my_train_encoded\u001b[0m\u001b[0;34m)\u001b[0m\u001b[0;34m\u001b[0m\u001b[0;34m\u001b[0m\u001b[0m\n\u001b[0m\u001b[1;32m     26\u001b[0m     \u001b[0my_pred_proba\u001b[0m \u001b[0;34m=\u001b[0m \u001b[0mmodel\u001b[0m\u001b[0;34m.\u001b[0m\u001b[0mpredict_proba\u001b[0m\u001b[0;34m(\u001b[0m\u001b[0mX_valid\u001b[0m\u001b[0;34m)\u001b[0m\u001b[0;34m[\u001b[0m\u001b[0;34m:\u001b[0m\u001b[0;34m,\u001b[0m \u001b[0;36m1\u001b[0m\u001b[0;34m]\u001b[0m\u001b[0;34m\u001b[0m\u001b[0;34m\u001b[0m\u001b[0m\n\u001b[1;32m     27\u001b[0m     \u001b[0my_pred\u001b[0m \u001b[0;34m=\u001b[0m \u001b[0mmodel\u001b[0m\u001b[0;34m.\u001b[0m\u001b[0mpredict\u001b[0m\u001b[0;34m(\u001b[0m\u001b[0mX_valid\u001b[0m\u001b[0;34m)\u001b[0m\u001b[0;34m\u001b[0m\u001b[0;34m\u001b[0m\u001b[0m\n",
            "\u001b[0;32m/usr/local/lib/python3.11/dist-packages/catboost/core.py\u001b[0m in \u001b[0;36mfit\u001b[0;34m(self, X, y, cat_features, text_features, embedding_features, graph, sample_weight, baseline, use_best_model, eval_set, verbose, logging_level, plot, plot_file, column_description, verbose_eval, metric_period, silent, early_stopping_rounds, save_snapshot, snapshot_file, snapshot_interval, init_model, callbacks, log_cout, log_cerr)\u001b[0m\n\u001b[1;32m   5243\u001b[0m             \u001b[0mCatBoostClassifier\u001b[0m\u001b[0;34m.\u001b[0m\u001b[0m_check_is_compatible_loss\u001b[0m\u001b[0;34m(\u001b[0m\u001b[0mparams\u001b[0m\u001b[0;34m[\u001b[0m\u001b[0;34m'loss_function'\u001b[0m\u001b[0;34m]\u001b[0m\u001b[0;34m)\u001b[0m\u001b[0;34m\u001b[0m\u001b[0;34m\u001b[0m\u001b[0m\n\u001b[1;32m   5244\u001b[0m \u001b[0;34m\u001b[0m\u001b[0m\n\u001b[0;32m-> 5245\u001b[0;31m         self._fit(X, y, cat_features, text_features, embedding_features, None, graph, sample_weight, None, None, None, None, baseline, use_best_model,\n\u001b[0m\u001b[1;32m   5246\u001b[0m                   \u001b[0meval_set\u001b[0m\u001b[0;34m,\u001b[0m \u001b[0mverbose\u001b[0m\u001b[0;34m,\u001b[0m \u001b[0mlogging_level\u001b[0m\u001b[0;34m,\u001b[0m \u001b[0mplot\u001b[0m\u001b[0;34m,\u001b[0m \u001b[0mplot_file\u001b[0m\u001b[0;34m,\u001b[0m \u001b[0mcolumn_description\u001b[0m\u001b[0;34m,\u001b[0m \u001b[0mverbose_eval\u001b[0m\u001b[0;34m,\u001b[0m \u001b[0mmetric_period\u001b[0m\u001b[0;34m,\u001b[0m\u001b[0;34m\u001b[0m\u001b[0;34m\u001b[0m\u001b[0m\n\u001b[1;32m   5247\u001b[0m                   silent, early_stopping_rounds, save_snapshot, snapshot_file, snapshot_interval, init_model, callbacks, log_cout, log_cerr)\n",
            "\u001b[0;32m/usr/local/lib/python3.11/dist-packages/catboost/core.py\u001b[0m in \u001b[0;36m_fit\u001b[0;34m(self, X, y, cat_features, text_features, embedding_features, pairs, graph, sample_weight, group_id, group_weight, subgroup_id, pairs_weight, baseline, use_best_model, eval_set, verbose, logging_level, plot, plot_file, column_description, verbose_eval, metric_period, silent, early_stopping_rounds, save_snapshot, snapshot_file, snapshot_interval, init_model, callbacks, log_cout, log_cerr)\u001b[0m\n\u001b[1;32m   2408\u001b[0m \u001b[0;34m\u001b[0m\u001b[0m\n\u001b[1;32m   2409\u001b[0m             \u001b[0;32mwith\u001b[0m \u001b[0mplot_wrapper\u001b[0m\u001b[0;34m(\u001b[0m\u001b[0mplot\u001b[0m\u001b[0;34m,\u001b[0m \u001b[0mplot_file\u001b[0m\u001b[0;34m,\u001b[0m \u001b[0;34m'Training plots'\u001b[0m\u001b[0;34m,\u001b[0m \u001b[0;34m[\u001b[0m\u001b[0m_get_train_dir\u001b[0m\u001b[0;34m(\u001b[0m\u001b[0mself\u001b[0m\u001b[0;34m.\u001b[0m\u001b[0mget_params\u001b[0m\u001b[0;34m(\u001b[0m\u001b[0;34m)\u001b[0m\u001b[0;34m)\u001b[0m\u001b[0;34m]\u001b[0m\u001b[0;34m)\u001b[0m\u001b[0;34m:\u001b[0m\u001b[0;34m\u001b[0m\u001b[0;34m\u001b[0m\u001b[0m\n\u001b[0;32m-> 2410\u001b[0;31m                 self._train(\n\u001b[0m\u001b[1;32m   2411\u001b[0m                     \u001b[0mtrain_pool\u001b[0m\u001b[0;34m,\u001b[0m\u001b[0;34m\u001b[0m\u001b[0;34m\u001b[0m\u001b[0m\n\u001b[1;32m   2412\u001b[0m                     \u001b[0mtrain_params\u001b[0m\u001b[0;34m[\u001b[0m\u001b[0;34m\"eval_sets\"\u001b[0m\u001b[0;34m]\u001b[0m\u001b[0;34m,\u001b[0m\u001b[0;34m\u001b[0m\u001b[0;34m\u001b[0m\u001b[0m\n",
            "\u001b[0;32m/usr/local/lib/python3.11/dist-packages/catboost/core.py\u001b[0m in \u001b[0;36m_train\u001b[0;34m(self, train_pool, test_pool, params, allow_clear_pool, init_model)\u001b[0m\n\u001b[1;32m   1788\u001b[0m \u001b[0;34m\u001b[0m\u001b[0m\n\u001b[1;32m   1789\u001b[0m     \u001b[0;32mdef\u001b[0m \u001b[0m_train\u001b[0m\u001b[0;34m(\u001b[0m\u001b[0mself\u001b[0m\u001b[0;34m,\u001b[0m \u001b[0mtrain_pool\u001b[0m\u001b[0;34m,\u001b[0m \u001b[0mtest_pool\u001b[0m\u001b[0;34m,\u001b[0m \u001b[0mparams\u001b[0m\u001b[0;34m,\u001b[0m \u001b[0mallow_clear_pool\u001b[0m\u001b[0;34m,\u001b[0m \u001b[0minit_model\u001b[0m\u001b[0;34m)\u001b[0m\u001b[0;34m:\u001b[0m\u001b[0;34m\u001b[0m\u001b[0;34m\u001b[0m\u001b[0m\n\u001b[0;32m-> 1790\u001b[0;31m         \u001b[0mself\u001b[0m\u001b[0;34m.\u001b[0m\u001b[0m_object\u001b[0m\u001b[0;34m.\u001b[0m\u001b[0m_train\u001b[0m\u001b[0;34m(\u001b[0m\u001b[0mtrain_pool\u001b[0m\u001b[0;34m,\u001b[0m \u001b[0mtest_pool\u001b[0m\u001b[0;34m,\u001b[0m \u001b[0mparams\u001b[0m\u001b[0;34m,\u001b[0m \u001b[0mallow_clear_pool\u001b[0m\u001b[0;34m,\u001b[0m \u001b[0minit_model\u001b[0m\u001b[0;34m.\u001b[0m\u001b[0m_object\u001b[0m \u001b[0;32mif\u001b[0m \u001b[0minit_model\u001b[0m \u001b[0;32melse\u001b[0m \u001b[0;32mNone\u001b[0m\u001b[0;34m)\u001b[0m\u001b[0;34m\u001b[0m\u001b[0;34m\u001b[0m\u001b[0m\n\u001b[0m\u001b[1;32m   1791\u001b[0m         \u001b[0mself\u001b[0m\u001b[0;34m.\u001b[0m\u001b[0m_set_trained_model_attributes\u001b[0m\u001b[0;34m(\u001b[0m\u001b[0;34m)\u001b[0m\u001b[0;34m\u001b[0m\u001b[0;34m\u001b[0m\u001b[0m\n\u001b[1;32m   1792\u001b[0m \u001b[0;34m\u001b[0m\u001b[0m\n",
            "\u001b[0;32m_catboost.pyx\u001b[0m in \u001b[0;36m_catboost._CatBoost._train\u001b[0;34m()\u001b[0m\n",
            "\u001b[0;32m_catboost.pyx\u001b[0m in \u001b[0;36m_catboost._CatBoost._train\u001b[0;34m()\u001b[0m\n",
            "\u001b[0;31mKeyboardInterrupt\u001b[0m: "
          ]
        }
      ],
      "source": [
        "from sklearn.metrics import accuracy_score\n",
        "import optuna\n",
        "from sklearn.preprocessing import LabelEncoder\n",
        "\n",
        "label_encoder = LabelEncoder()\n",
        "y_train_encoded = label_encoder.fit_transform(y_train)\n",
        "y_valid_encoded = label_encoder.transform(y_valid)\n",
        "y_test_encoded = label_encoder.transform(y_test)\n",
        "models = []\n",
        "\n",
        "def objective(trial):\n",
        "    params = {\n",
        "        #'iterations' : trial.suggest_int('iterations', 750, 1500, step=250),\n",
        "        'learning_rate': trial.suggest_float('learning_rate', 0.001, 0.04),\n",
        "        \"objective\": trial.suggest_categorical(\"objective\", [\"Logloss\", \"CrossEntropy\"]),\n",
        "        #\"grow_policy\": trial.suggest_categorical(\"grow_policy\", ['SymmetricTree', 'Lossguide']),\n",
        "        \"colsample_bylevel\": trial.suggest_float(\"colsample_bylevel\", 0.2,0.7),\n",
        "        \"max_depth\": trial.suggest_int(\"depth\", 1, 9),\n",
        "        \"boosting_type\": trial.suggest_categorical(\"boosting_type\", [\"Ordered\", \"Plain\"]),\n",
        "        \"bootstrap_type\": trial.suggest_categorical(\n",
        "            \"bootstrap_type\", [\"Bayesian\", \"Bernoulli\", \"MVS\"]\n",
        "        ),\n",
        "    }\n",
        "    model = CatBoostClassifier(**params, verbose=0, cat_features = categorical_features_indices)\n",
        "    model.fit(X_train, y_train_encoded)\n",
        "    y_pred_proba = model.predict_proba(X_valid)[:, 1]\n",
        "    y_pred = model.predict(X_valid)\n",
        "    return roc_auc_score(y_valid, y_pred_proba)\n",
        "\n",
        "study = optuna.create_study(direction='maximize')\n",
        "study.optimize(objective, n_trials=100)\n",
        "\n",
        "print(\"Лучшие параметры:\", study.best_params)\n",
        "print(\"Лучшее значение метрики:\", study.best_value)"
      ]
    },
    {
      "cell_type": "code",
      "execution_count": 117,
      "metadata": {
        "id": "QXGbOWCZpOqe"
      },
      "outputs": [],
      "source": [
        "df2 = pd.read_csv(\"known_behaviors2.csv\")\n",
        "target_name_1 = \"Mortgage\"\n",
        "target_name_2 = \"Pension\"\n",
        "target_name_3 = \"Savings\"\n",
        "y_m = df2[target_name_1]\n",
        "y_p = df2[target_name_2]\n",
        "y_s = df2[target_name_3]\n",
        "X = df2.drop(columns=[target_name_1, target_name_2, target_name_3])\n",
        "from sklearn.model_selection import train_test_split\n",
        "X_1, X_test_m, y_1, y_test_m = train_test_split(X, y_m, test_size = 0.15, shuffle=True)\n",
        "X_train_m, X_valid_m, y_train_m, y_valid_m = train_test_split(X_1, y_1, test_size=0.15)\n",
        "X_1, X_test_p, y_1, y_test_p = train_test_split(X, y_p, test_size = 0.15, shuffle=True)\n",
        "X_train_p, X_valid_p, y_train_p, y_valid_p = train_test_split(X_1, y_1, test_size=0.15)\n",
        "X_1, X_test_s, y_1, y_test_s = train_test_split(X, y_s, test_size = 0.15, shuffle=True)\n",
        "X_train_s, X_valid_s, y_train_s, y_valid_s = train_test_split(X_1, y_1, test_size=0.15)"
      ]
    },
    {
      "cell_type": "code",
      "execution_count": 32,
      "metadata": {
        "id": "xqgkNlgItBXJ"
      },
      "outputs": [],
      "source": [
        "data_mean = X_train_m.mean(axis=0)\n",
        "data_std = X_train_m.std(axis=0)\n",
        "\n",
        "X_train_m = (X_train_m - data_mean) / data_std\n",
        "X_test_m = (X_test_m - data_mean) / data_std\n",
        "X_valid_m = (X_valid_m - data_mean) / data_std"
      ]
    },
    {
      "cell_type": "code",
      "execution_count": 59,
      "metadata": {
        "colab": {
          "base_uri": "https://localhost:8080/"
        },
        "id": "a3qa3pQctsNd",
        "outputId": "9964fda7-f43b-41c1-ba68-f6108eb0dda9"
      },
      "outputs": [
        {
          "name": "stdout",
          "output_type": "stream",
          "text": [
            "Default catboost for mortgage \n"
          ]
        },
        {
          "data": {
            "text/plain": [
              "{'accuracy': 0.9153567110036276,\n",
              " 'f1_score': 0.7188755020080321,\n",
              " 'roc_auc': 0.9551646740484117,\n",
              " 'precision': 0.7276422764227642,\n",
              " 'recall': 0.7103174603174603}"
            ]
          },
          "execution_count": 59,
          "metadata": {},
          "output_type": "execute_result"
        }
      ],
      "source": [
        "print(\"Default catboost for mortgage \")\n",
        "default_model_m = CatBoostClassifier(iterations=1000,verbose=0)\n",
        "default_model_m.fit(X_train_m,\n",
        "          y_train_m,\n",
        "          verbose=False)\n",
        "evaluate_model(default_model_m,X_test_m, y_test_m, pos_label=1)"
      ]
    },
    {
      "cell_type": "code",
      "execution_count": 60,
      "metadata": {
        "colab": {
          "base_uri": "https://localhost:8080/"
        },
        "id": "HFVzXmzBtx1L",
        "outputId": "52a56c50-cca1-4349-df88-b79f9c51c3d3"
      },
      "outputs": [
        {
          "name": "stdout",
          "output_type": "stream",
          "text": [
            "Default catboost for pension \n"
          ]
        },
        {
          "data": {
            "text/plain": [
              "{'accuracy': 0.7593712212817413,\n",
              " 'f1_score': 0.22868217054263565,\n",
              " 'roc_auc': 0.7265221113635615,\n",
              " 'precision': 0.44029850746268656,\n",
              " 'recall': 0.1544502617801047}"
            ]
          },
          "execution_count": 60,
          "metadata": {},
          "output_type": "execute_result"
        }
      ],
      "source": [
        "print(\"Default catboost for pension \")\n",
        "default_model_p = CatBoostClassifier(iterations=1000,verbose=0)\n",
        "default_model_p.fit(X_train_p,\n",
        "          y_train_p,\n",
        "          verbose=False)\n",
        "evaluate_model(default_model_p,X_test_p, y_test_p, pos_label=1)"
      ]
    },
    {
      "cell_type": "code",
      "execution_count": 61,
      "metadata": {
        "colab": {
          "base_uri": "https://localhost:8080/"
        },
        "id": "0Rcv1U1pt6Qj",
        "outputId": "80b6a01f-b804-4e48-afed-ccac3de3b6d7"
      },
      "outputs": [
        {
          "name": "stdout",
          "output_type": "stream",
          "text": [
            "Default catboost for savings\n"
          ]
        },
        {
          "data": {
            "text/plain": [
              "{'accuracy': 0.6354292623941958,\n",
              " 'f1_score': 0.44321329639889195,\n",
              " 'roc_auc': 0.6579177131361598,\n",
              " 'precision': 0.5161290322580645,\n",
              " 'recall': 0.3883495145631068}"
            ]
          },
          "execution_count": 61,
          "metadata": {},
          "output_type": "execute_result"
        }
      ],
      "source": [
        "print(\"Default catboost for savings\")\n",
        "default_model_s = CatBoostClassifier(iterations=1000,verbose=0)\n",
        "default_model_s.fit(X_train_s,\n",
        "          y_train_s,\n",
        "          verbose=False)\n",
        "evaluate_model(default_model_s,X_test_s, y_test_s, pos_label=1)"
      ]
    },
    {
      "cell_type": "code",
      "execution_count": 127,
      "metadata": {
        "id": "g9QbHN_GzW4O"
      },
      "outputs": [],
      "source": [
        "def optimizers(X_train, y_train, X_valid, y_valid, n_trials=10):\n",
        "  def objective(trial):\n",
        "    params = {\n",
        "        'iterations' : trial.suggest_int('iterations', 500, 1500, step=250),\n",
        "        'learning_rate': trial.suggest_float('learning_rate', 0.001, 0.04),\n",
        "        \"objective\": trial.suggest_categorical(\"objective\", [\"Logloss\", \"CrossEntropy\"]),\n",
        "        \"l2_leaf_reg\" : trial.suggest_float('l2_leaf_reg', 1, 10),\n",
        "        \"colsample_bylevel\": trial.suggest_float(\"colsample_bylevel\", 0.2,0.7),\n",
        "        \"max_depth\": trial.suggest_int(\"depth\", 1, 8),\n",
        "        \"boosting_type\": trial.suggest_categorical(\"boosting_type\", [\"Ordered\", \"Plain\"]),\n",
        "        \"bootstrap_type\": trial.suggest_categorical(\n",
        "            \"bootstrap_type\", [\"Bayesian\", \"Bernoulli\", \"MVS\"]\n",
        "        ),\n",
        "    }\n",
        "    model = CatBoostClassifier(**params, verbose=0)\n",
        "    model.fit(X_train, y_train)\n",
        "    y_pred_proba = model.predict_proba(X_valid)[:, 1]\n",
        "    y_pred = model.predict(X_valid)\n",
        "    return roc_auc_score(y_valid, y_pred_proba)\n",
        "\n",
        "  study = optuna.create_study(direction='maximize')\n",
        "  study.optimize(objective, n_trials=n_trials)\n",
        "  return study.best_params"
      ]
    },
    {
      "cell_type": "code",
      "execution_count": 71,
      "metadata": {
        "colab": {
          "base_uri": "https://localhost:8080/"
        },
        "id": "E0QXwyhCzS1D",
        "outputId": "014dd19e-0811-4dfc-d49c-d41ee9612961"
      },
      "outputs": [
        {
          "name": "stderr",
          "output_type": "stream",
          "text": [
            "[I 2025-03-05 10:40:21,521] A new study created in memory with name: no-name-1087e953-a729-41eb-8d59-4565fbd4fe50\n",
            "[I 2025-03-05 10:40:23,799] Trial 0 finished with value: 0.9476708074534161 and parameters: {'iterations': 1000, 'learning_rate': 0.011933261323887324, 'objective': 'Logloss', 'l2_leaf_reg': 9.623646735405744, 'colsample_bylevel': 0.21594288246748095, 'depth': 5, 'boosting_type': 'Plain', 'bootstrap_type': 'MVS'}. Best is trial 0 with value: 0.9476708074534161.\n",
            "[I 2025-03-05 10:40:26,343] Trial 1 finished with value: 0.947232839624144 and parameters: {'iterations': 1250, 'learning_rate': 0.024902696822830188, 'objective': 'CrossEntropy', 'l2_leaf_reg': 6.568450206882555, 'colsample_bylevel': 0.6164868279021363, 'depth': 3, 'boosting_type': 'Plain', 'bootstrap_type': 'Bayesian'}. Best is trial 0 with value: 0.9476708074534161.\n",
            "[I 2025-03-05 10:40:37,502] Trial 2 finished with value: 0.9482720178372352 and parameters: {'iterations': 1250, 'learning_rate': 0.03388496610954805, 'objective': 'Logloss', 'l2_leaf_reg': 3.683313458491295, 'colsample_bylevel': 0.2332374019178024, 'depth': 2, 'boosting_type': 'Ordered', 'bootstrap_type': 'Bernoulli'}. Best is trial 2 with value: 0.9482720178372352.\n",
            "[I 2025-03-05 10:40:50,180] Trial 3 finished with value: 0.9480649784997612 and parameters: {'iterations': 1250, 'learning_rate': 0.02099316032908348, 'objective': 'CrossEntropy', 'l2_leaf_reg': 4.526815379020999, 'colsample_bylevel': 0.23224955831707733, 'depth': 4, 'boosting_type': 'Ordered', 'bootstrap_type': 'Bayesian'}. Best is trial 2 with value: 0.9482720178372352.\n",
            "[I 2025-03-05 10:40:59,251] Trial 4 finished with value: 0.9447005892658067 and parameters: {'iterations': 1250, 'learning_rate': 0.009620897548685937, 'objective': 'CrossEntropy', 'l2_leaf_reg': 7.082105051899056, 'colsample_bylevel': 0.31150681522252965, 'depth': 9, 'boosting_type': 'Plain', 'bootstrap_type': 'MVS'}. Best is trial 2 with value: 0.9482720178372352.\n",
            "[I 2025-03-05 10:41:01,509] Trial 5 finished with value: 0.9454292084726867 and parameters: {'iterations': 1000, 'learning_rate': 0.036284573672181845, 'objective': 'Logloss', 'l2_leaf_reg': 8.489289052872106, 'colsample_bylevel': 0.29007253579783454, 'depth': 5, 'boosting_type': 'Plain', 'bootstrap_type': 'Bayesian'}. Best is trial 2 with value: 0.9482720178372352.\n",
            "[I 2025-03-05 10:41:04,129] Trial 6 finished with value: 0.9413999044433827 and parameters: {'iterations': 1000, 'learning_rate': 0.03368049051843945, 'objective': 'CrossEntropy', 'l2_leaf_reg': 7.930711067254732, 'colsample_bylevel': 0.2817914392266463, 'depth': 7, 'boosting_type': 'Plain', 'bootstrap_type': 'Bernoulli'}. Best is trial 2 with value: 0.9482720178372352.\n",
            "[I 2025-03-05 10:41:09,452] Trial 7 finished with value: 0.9405478579391622 and parameters: {'iterations': 1500, 'learning_rate': 0.02774539820737066, 'objective': 'CrossEntropy', 'l2_leaf_reg': 4.270825139865834, 'colsample_bylevel': 0.4586198082304852, 'depth': 6, 'boosting_type': 'Plain', 'bootstrap_type': 'Bayesian'}. Best is trial 2 with value: 0.9482720178372352.\n",
            "[I 2025-03-05 10:41:34,792] Trial 8 finished with value: 0.9475035833731487 and parameters: {'iterations': 1000, 'learning_rate': 0.024714557230733254, 'objective': 'CrossEntropy', 'l2_leaf_reg': 8.344649767619483, 'colsample_bylevel': 0.5899932144887262, 'depth': 8, 'boosting_type': 'Ordered', 'bootstrap_type': 'Bayesian'}. Best is trial 2 with value: 0.9482720178372352.\n",
            "[I 2025-03-05 10:41:43,776] Trial 9 finished with value: 0.9456561554387642 and parameters: {'iterations': 1000, 'learning_rate': 0.00826805713464248, 'objective': 'CrossEntropy', 'l2_leaf_reg': 4.226755491865132, 'colsample_bylevel': 0.4275427470102663, 'depth': 9, 'boosting_type': 'Plain', 'bootstrap_type': 'Bayesian'}. Best is trial 2 with value: 0.9482720178372352.\n",
            "[I 2025-03-05 10:41:55,697] Trial 10 finished with value: 0.9472885809842331 and parameters: {'iterations': 1500, 'learning_rate': 0.039153812977758926, 'objective': 'Logloss', 'l2_leaf_reg': 1.6229286442639155, 'colsample_bylevel': 0.41459621790686535, 'depth': 1, 'boosting_type': 'Ordered', 'bootstrap_type': 'Bernoulli'}. Best is trial 2 with value: 0.9482720178372352.\n",
            "[I 2025-03-05 10:42:07,272] Trial 11 finished with value: 0.9482361841057494 and parameters: {'iterations': 1250, 'learning_rate': 0.017725382839408527, 'objective': 'Logloss', 'l2_leaf_reg': 2.498429084295576, 'colsample_bylevel': 0.20949759789029948, 'depth': 3, 'boosting_type': 'Ordered', 'bootstrap_type': 'Bernoulli'}. Best is trial 2 with value: 0.9482720178372352.\n",
            "[I 2025-03-05 10:42:18,319] Trial 12 finished with value: 0.9415113871635611 and parameters: {'iterations': 1250, 'learning_rate': 0.002168955285069017, 'objective': 'Logloss', 'l2_leaf_reg': 1.8128563826116588, 'colsample_bylevel': 0.36785411322544403, 'depth': 2, 'boosting_type': 'Ordered', 'bootstrap_type': 'Bernoulli'}. Best is trial 2 with value: 0.9482720178372352.\n",
            "[I 2025-03-05 10:42:30,923] Trial 13 finished with value: 0.9467988533205925 and parameters: {'iterations': 1500, 'learning_rate': 0.01685870388775628, 'objective': 'Logloss', 'l2_leaf_reg': 2.6633705563901695, 'colsample_bylevel': 0.5321428174302779, 'depth': 1, 'boosting_type': 'Ordered', 'bootstrap_type': 'Bernoulli'}. Best is trial 2 with value: 0.9482720178372352.\n",
            "[I 2025-03-05 10:42:44,303] Trial 14 finished with value: 0.9466196846631629 and parameters: {'iterations': 1250, 'learning_rate': 0.03123633286746181, 'objective': 'Logloss', 'l2_leaf_reg': 2.970850487278689, 'colsample_bylevel': 0.6997264137009094, 'depth': 3, 'boosting_type': 'Ordered', 'bootstrap_type': 'Bernoulli'}. Best is trial 2 with value: 0.9482720178372352.\n",
            "[I 2025-03-05 10:42:56,274] Trial 15 finished with value: 0.9481884057971015 and parameters: {'iterations': 1250, 'learning_rate': 0.014053983158044858, 'objective': 'Logloss', 'l2_leaf_reg': 3.1943161149775534, 'colsample_bylevel': 0.3549378187447668, 'depth': 3, 'boosting_type': 'Ordered', 'bootstrap_type': 'Bernoulli'}. Best is trial 2 with value: 0.9482720178372352.\n",
            "[I 2025-03-05 10:43:10,101] Trial 16 finished with value: 0.947985347985348 and parameters: {'iterations': 1500, 'learning_rate': 0.01933729109904173, 'objective': 'Logloss', 'l2_leaf_reg': 5.706257007587876, 'colsample_bylevel': 0.22550009609413552, 'depth': 2, 'boosting_type': 'Ordered', 'bootstrap_type': 'Bernoulli'}. Best is trial 2 with value: 0.9482720178372352.\n",
            "[I 2025-03-05 10:43:22,409] Trial 17 finished with value: 0.9490086000955567 and parameters: {'iterations': 1250, 'learning_rate': 0.02790523555920745, 'objective': 'Logloss', 'l2_leaf_reg': 1.1475357950152565, 'colsample_bylevel': 0.2047198259743157, 'depth': 4, 'boosting_type': 'Ordered', 'bootstrap_type': 'Bernoulli'}. Best is trial 17 with value: 0.9490086000955567.\n",
            "[I 2025-03-05 10:43:37,965] Trial 18 finished with value: 0.9463967192228062 and parameters: {'iterations': 1500, 'learning_rate': 0.03015057546472182, 'objective': 'Logloss', 'l2_leaf_reg': 1.0636669533510896, 'colsample_bylevel': 0.33507612782677043, 'depth': 4, 'boosting_type': 'Ordered', 'bootstrap_type': 'MVS'}. Best is trial 17 with value: 0.9490086000955567.\n",
            "[I 2025-03-05 10:43:51,359] Trial 19 finished with value: 0.9440675266762223 and parameters: {'iterations': 1250, 'learning_rate': 0.035714343385919806, 'objective': 'Logloss', 'l2_leaf_reg': 3.5439364075594284, 'colsample_bylevel': 0.26933386995888364, 'depth': 5, 'boosting_type': 'Ordered', 'bootstrap_type': 'Bernoulli'}. Best is trial 17 with value: 0.9490086000955567.\n",
            "[I 2025-03-05 10:44:02,846] Trial 20 finished with value: 0.9473204331899985 and parameters: {'iterations': 1250, 'learning_rate': 0.024591189953412806, 'objective': 'Logloss', 'l2_leaf_reg': 5.382935975140085, 'colsample_bylevel': 0.47915622555925363, 'depth': 2, 'boosting_type': 'Ordered', 'bootstrap_type': 'Bernoulli'}. Best is trial 17 with value: 0.9490086000955567.\n",
            "[I 2025-03-05 10:44:15,067] Trial 21 finished with value: 0.9485109093804746 and parameters: {'iterations': 1250, 'learning_rate': 0.028400602894440356, 'objective': 'Logloss', 'l2_leaf_reg': 2.2763525149243833, 'colsample_bylevel': 0.20020729472661344, 'depth': 4, 'boosting_type': 'Ordered', 'bootstrap_type': 'Bernoulli'}. Best is trial 17 with value: 0.9490086000955567.\n",
            "[I 2025-03-05 10:44:27,460] Trial 22 finished with value: 0.9472368211498646 and parameters: {'iterations': 1250, 'learning_rate': 0.02852592856356298, 'objective': 'Logloss', 'l2_leaf_reg': 1.0742850728489313, 'colsample_bylevel': 0.2612716876688846, 'depth': 4, 'boosting_type': 'Ordered', 'bootstrap_type': 'Bernoulli'}. Best is trial 17 with value: 0.9490086000955567.\n",
            "[I 2025-03-05 10:44:42,156] Trial 23 finished with value: 0.9445254021340977 and parameters: {'iterations': 1250, 'learning_rate': 0.033461218221889674, 'objective': 'Logloss', 'l2_leaf_reg': 2.15013812518451, 'colsample_bylevel': 0.20823697097376173, 'depth': 6, 'boosting_type': 'Ordered', 'bootstrap_type': 'Bernoulli'}. Best is trial 17 with value: 0.9490086000955567.\n",
            "[I 2025-03-05 10:44:55,558] Trial 24 finished with value: 0.9474398789616182 and parameters: {'iterations': 1250, 'learning_rate': 0.021977690463080776, 'objective': 'Logloss', 'l2_leaf_reg': 3.7397577596588425, 'colsample_bylevel': 0.2541018594983678, 'depth': 4, 'boosting_type': 'Ordered', 'bootstrap_type': 'Bernoulli'}. Best is trial 17 with value: 0.9490086000955567.\n",
            "[I 2025-03-05 10:45:18,362] Trial 25 finished with value: 0.9453057811753464 and parameters: {'iterations': 1500, 'learning_rate': 0.039851639977640727, 'objective': 'Logloss', 'l2_leaf_reg': 1.7125570326980497, 'colsample_bylevel': 0.385491221013493, 'depth': 6, 'boosting_type': 'Ordered', 'bootstrap_type': 'MVS'}. Best is trial 17 with value: 0.9490086000955567.\n",
            "[I 2025-03-05 10:45:27,603] Trial 26 finished with value: 0.9481446090141743 and parameters: {'iterations': 1000, 'learning_rate': 0.027187471211250366, 'objective': 'Logloss', 'l2_leaf_reg': 5.377887254054697, 'colsample_bylevel': 0.3063642083587459, 'depth': 2, 'boosting_type': 'Ordered', 'bootstrap_type': 'Bernoulli'}. Best is trial 17 with value: 0.9490086000955567.\n",
            "[I 2025-03-05 10:45:37,812] Trial 27 finished with value: 0.9477146042363432 and parameters: {'iterations': 1250, 'learning_rate': 0.03154524356006316, 'objective': 'Logloss', 'l2_leaf_reg': 2.444263680529735, 'colsample_bylevel': 0.24251659840782921, 'depth': 1, 'boosting_type': 'Ordered', 'bootstrap_type': 'Bernoulli'}. Best is trial 17 with value: 0.9490086000955567.\n",
            "[I 2025-03-05 10:45:50,022] Trial 28 finished with value: 0.9462294951425386 and parameters: {'iterations': 1250, 'learning_rate': 0.03683976102686104, 'objective': 'Logloss', 'l2_leaf_reg': 3.6014408621250755, 'colsample_bylevel': 0.20116517329535438, 'depth': 4, 'boosting_type': 'Ordered', 'bootstrap_type': 'Bernoulli'}. Best is trial 17 with value: 0.9490086000955567.\n",
            "[I 2025-03-05 10:46:01,125] Trial 29 finished with value: 0.9470536709667146 and parameters: {'iterations': 1000, 'learning_rate': 0.03348963555304635, 'objective': 'Logloss', 'l2_leaf_reg': 4.612291687883637, 'colsample_bylevel': 0.33263264262027314, 'depth': 5, 'boosting_type': 'Ordered', 'bootstrap_type': 'MVS'}. Best is trial 17 with value: 0.9490086000955567.\n"
          ]
        }
      ],
      "source": [
        "best_m = optimizers(X_train_m, y_train_m, X_valid_m, y_valid_m, n_trials = 30)"
      ]
    },
    {
      "cell_type": "code",
      "execution_count": 120,
      "metadata": {
        "colab": {
          "base_uri": "https://localhost:8080/",
          "height": 178
        },
        "id": "SwuLAkbYFFXx",
        "outputId": "f3dc7f84-0c53-455c-8933-9f51a0021f60"
      },
      "outputs": [
        {
          "data": {
            "text/html": [
              "<div>\n",
              "<style scoped>\n",
              "    .dataframe tbody tr th:only-of-type {\n",
              "        vertical-align: middle;\n",
              "    }\n",
              "\n",
              "    .dataframe tbody tr th {\n",
              "        vertical-align: top;\n",
              "    }\n",
              "\n",
              "    .dataframe thead th {\n",
              "        text-align: right;\n",
              "    }\n",
              "</style>\n",
              "<table border=\"1\" class=\"dataframe\">\n",
              "  <thead>\n",
              "    <tr style=\"text-align: right;\">\n",
              "      <th></th>\n",
              "      <th>count</th>\n",
              "    </tr>\n",
              "    <tr>\n",
              "      <th>Pension</th>\n",
              "      <th></th>\n",
              "    </tr>\n",
              "  </thead>\n",
              "  <tbody>\n",
              "    <tr>\n",
              "      <th>0</th>\n",
              "      <td>1288</td>\n",
              "    </tr>\n",
              "    <tr>\n",
              "      <th>1</th>\n",
              "      <td>366</td>\n",
              "    </tr>\n",
              "  </tbody>\n",
              "</table>\n",
              "</div><br><label><b>dtype:</b> int64</label>"
            ],
            "text/plain": [
              "Pension\n",
              "0    1288\n",
              "1     366\n",
              "Name: count, dtype: int64"
            ]
          },
          "execution_count": 120,
          "metadata": {},
          "output_type": "execute_result"
        }
      ],
      "source": [
        "y_test_p.value_counts()"
      ]
    },
    {
      "cell_type": "code",
      "execution_count": 121,
      "metadata": {
        "colab": {
          "base_uri": "https://localhost:8080/",
          "height": 178
        },
        "id": "fZOGmKpPFItN",
        "outputId": "f8173ac7-22a9-4521-b14b-7795ecbc51eb"
      },
      "outputs": [
        {
          "data": {
            "text/html": [
              "<div>\n",
              "<style scoped>\n",
              "    .dataframe tbody tr th:only-of-type {\n",
              "        vertical-align: middle;\n",
              "    }\n",
              "\n",
              "    .dataframe tbody tr th {\n",
              "        vertical-align: top;\n",
              "    }\n",
              "\n",
              "    .dataframe thead th {\n",
              "        text-align: right;\n",
              "    }\n",
              "</style>\n",
              "<table border=\"1\" class=\"dataframe\">\n",
              "  <thead>\n",
              "    <tr style=\"text-align: right;\">\n",
              "      <th></th>\n",
              "      <th>count</th>\n",
              "    </tr>\n",
              "    <tr>\n",
              "      <th>Pension</th>\n",
              "      <th></th>\n",
              "    </tr>\n",
              "  </thead>\n",
              "  <tbody>\n",
              "    <tr>\n",
              "      <th>0</th>\n",
              "      <td>1080</td>\n",
              "    </tr>\n",
              "    <tr>\n",
              "      <th>1</th>\n",
              "      <td>326</td>\n",
              "    </tr>\n",
              "  </tbody>\n",
              "</table>\n",
              "</div><br><label><b>dtype:</b> int64</label>"
            ],
            "text/plain": [
              "Pension\n",
              "0    1080\n",
              "1     326\n",
              "Name: count, dtype: int64"
            ]
          },
          "execution_count": 121,
          "metadata": {},
          "output_type": "execute_result"
        }
      ],
      "source": [
        "y_valid_p.value_counts()"
      ]
    },
    {
      "cell_type": "code",
      "execution_count": 128,
      "metadata": {
        "colab": {
          "base_uri": "https://localhost:8080/"
        },
        "id": "YR-2DPR9Efl1",
        "outputId": "2c3015bd-7254-4da7-e2be-956c40a90ba3"
      },
      "outputs": [
        {
          "name": "stderr",
          "output_type": "stream",
          "text": [
            "[I 2025-03-05 11:44:19,761] A new study created in memory with name: no-name-d648c692-6379-416a-a6e8-617224908eec\n",
            "[I 2025-03-05 11:44:30,119] Trial 0 finished with value: 0.7594992023894376 and parameters: {'iterations': 750, 'learning_rate': 0.02137099170073409, 'objective': 'Logloss', 'l2_leaf_reg': 8.228703793443865, 'colsample_bylevel': 0.46562329209873066, 'depth': 5, 'boosting_type': 'Ordered', 'bootstrap_type': 'MVS'}. Best is trial 0 with value: 0.7594992023894376.\n",
            "[I 2025-03-05 11:45:00,587] Trial 1 finished with value: 0.7526473882496691 and parameters: {'iterations': 1250, 'learning_rate': 0.02610167139647828, 'objective': 'CrossEntropy', 'l2_leaf_reg': 4.976363222550034, 'colsample_bylevel': 0.551145212043326, 'depth': 8, 'boosting_type': 'Ordered', 'bootstrap_type': 'MVS'}. Best is trial 0 with value: 0.7594992023894376.\n",
            "[I 2025-03-05 11:45:14,157] Trial 2 finished with value: 0.7598364898347079 and parameters: {'iterations': 1250, 'learning_rate': 0.00884364610471131, 'objective': 'CrossEntropy', 'l2_leaf_reg': 6.140159206906091, 'colsample_bylevel': 0.5538696935564277, 'depth': 4, 'boosting_type': 'Ordered', 'bootstrap_type': 'Bayesian'}. Best is trial 2 with value: 0.7598364898347079.\n",
            "[I 2025-03-05 11:45:22,497] Trial 3 finished with value: 0.7532880222652141 and parameters: {'iterations': 500, 'learning_rate': 0.029268760144286154, 'objective': 'CrossEntropy', 'l2_leaf_reg': 2.9714287977121563, 'colsample_bylevel': 0.44290964308230196, 'depth': 7, 'boosting_type': 'Ordered', 'bootstrap_type': 'MVS'}. Best is trial 2 with value: 0.7598364898347079.\n",
            "[I 2025-03-05 11:45:24,829] Trial 4 finished with value: 0.7598577028815803 and parameters: {'iterations': 1250, 'learning_rate': 0.014612595495373602, 'objective': 'Logloss', 'l2_leaf_reg': 8.223260224322232, 'colsample_bylevel': 0.26491533507453746, 'depth': 3, 'boosting_type': 'Plain', 'bootstrap_type': 'Bayesian'}. Best is trial 4 with value: 0.7598577028815803.\n",
            "[I 2025-03-05 11:45:27,462] Trial 5 finished with value: 0.7593337406238332 and parameters: {'iterations': 1250, 'learning_rate': 0.0107893407363053, 'objective': 'CrossEntropy', 'l2_leaf_reg': 4.898681186377853, 'colsample_bylevel': 0.22262404237044175, 'depth': 6, 'boosting_type': 'Plain', 'bootstrap_type': 'Bernoulli'}. Best is trial 4 with value: 0.7598577028815803.\n",
            "[I 2025-03-05 11:45:35,332] Trial 6 finished with value: 0.7288739266198283 and parameters: {'iterations': 1500, 'learning_rate': 0.030143376800837042, 'objective': 'Logloss', 'l2_leaf_reg': 8.463372393995014, 'colsample_bylevel': 0.5103740840963353, 'depth': 8, 'boosting_type': 'Plain', 'bootstrap_type': 'Bayesian'}. Best is trial 4 with value: 0.7598577028815803.\n",
            "[I 2025-03-05 11:45:40,072] Trial 7 finished with value: 0.7375924888843635 and parameters: {'iterations': 1250, 'learning_rate': 0.03021364263648964, 'objective': 'CrossEntropy', 'l2_leaf_reg': 8.787845896430309, 'colsample_bylevel': 0.44853471905605524, 'depth': 8, 'boosting_type': 'Plain', 'bootstrap_type': 'Bernoulli'}. Best is trial 4 with value: 0.7598577028815803.\n",
            "[I 2025-03-05 11:45:42,347] Trial 8 finished with value: 0.7635996843498625 and parameters: {'iterations': 1250, 'learning_rate': 0.00350170098247929, 'objective': 'Logloss', 'l2_leaf_reg': 9.256559612726175, 'colsample_bylevel': 0.22871446792708494, 'depth': 3, 'boosting_type': 'Plain', 'bootstrap_type': 'Bayesian'}. Best is trial 8 with value: 0.7635996843498625.\n",
            "[I 2025-03-05 11:45:46,747] Trial 9 finished with value: 0.7503648644062043 and parameters: {'iterations': 1000, 'learning_rate': 0.020794440821228603, 'objective': 'Logloss', 'l2_leaf_reg': 7.097999352685024, 'colsample_bylevel': 0.4091015990522252, 'depth': 7, 'boosting_type': 'Plain', 'bootstrap_type': 'MVS'}. Best is trial 8 with value: 0.7635996843498625.\n",
            "[I 2025-03-05 11:45:47,859] Trial 10 finished with value: 0.7637948443810882 and parameters: {'iterations': 750, 'learning_rate': 0.0025491457727676854, 'objective': 'Logloss', 'l2_leaf_reg': 1.0295816781697518, 'colsample_bylevel': 0.32527838505305307, 'depth': 1, 'boosting_type': 'Plain', 'bootstrap_type': 'Bayesian'}. Best is trial 10 with value: 0.7637948443810882.\n",
            "[I 2025-03-05 11:45:48,976] Trial 11 finished with value: 0.7643675966466416 and parameters: {'iterations': 750, 'learning_rate': 0.001507332934825278, 'objective': 'Logloss', 'l2_leaf_reg': 1.5874188822200836, 'colsample_bylevel': 0.32851441516905017, 'depth': 1, 'boosting_type': 'Plain', 'bootstrap_type': 'Bayesian'}. Best is trial 11 with value: 0.7643675966466416.\n",
            "[I 2025-03-05 11:45:50,056] Trial 12 finished with value: 0.7598746733190781 and parameters: {'iterations': 750, 'learning_rate': 0.03849627944648222, 'objective': 'Logloss', 'l2_leaf_reg': 1.2566756126408434, 'colsample_bylevel': 0.32852365233840863, 'depth': 1, 'boosting_type': 'Plain', 'bootstrap_type': 'Bayesian'}. Best is trial 11 with value: 0.7643675966466416.\n",
            "[I 2025-03-05 11:45:50,829] Trial 13 finished with value: 0.763703628279537 and parameters: {'iterations': 500, 'learning_rate': 0.0014325929882315748, 'objective': 'Logloss', 'l2_leaf_reg': 1.2622509888887048, 'colsample_bylevel': 0.3539490087759943, 'depth': 1, 'boosting_type': 'Plain', 'bootstrap_type': 'Bayesian'}. Best is trial 11 with value: 0.7643675966466416.\n",
            "[I 2025-03-05 11:45:52,176] Trial 14 finished with value: 0.7634851338967518 and parameters: {'iterations': 750, 'learning_rate': 0.00655356771966417, 'objective': 'Logloss', 'l2_leaf_reg': 2.987052151642037, 'colsample_bylevel': 0.6958568909309258, 'depth': 2, 'boosting_type': 'Plain', 'bootstrap_type': 'Bayesian'}. Best is trial 11 with value: 0.7643675966466416.\n",
            "[I 2025-03-05 11:45:53,808] Trial 15 finished with value: 0.7623778128500152 and parameters: {'iterations': 1000, 'learning_rate': 0.014289457487119466, 'objective': 'Logloss', 'l2_leaf_reg': 2.868150588682002, 'colsample_bylevel': 0.31727573696917777, 'depth': 2, 'boosting_type': 'Plain', 'bootstrap_type': 'Bayesian'}. Best is trial 11 with value: 0.7643675966466416.\n",
            "[I 2025-03-05 11:45:54,853] Trial 16 finished with value: 0.7650018667481248 and parameters: {'iterations': 750, 'learning_rate': 0.001100830493204745, 'objective': 'Logloss', 'l2_leaf_reg': 2.125304333612128, 'colsample_bylevel': 0.3660545738113444, 'depth': 1, 'boosting_type': 'Plain', 'bootstrap_type': 'Bernoulli'}. Best is trial 16 with value: 0.7650018667481248.\n",
            "[I 2025-03-05 11:45:55,648] Trial 17 finished with value: 0.7631011777483624 and parameters: {'iterations': 500, 'learning_rate': 0.014350658796263797, 'objective': 'Logloss', 'l2_leaf_reg': 3.9676983718597336, 'colsample_bylevel': 0.3882884270918871, 'depth': 2, 'boosting_type': 'Plain', 'bootstrap_type': 'Bernoulli'}. Best is trial 16 with value: 0.7650018667481248.\n",
            "[I 2025-03-05 11:46:05,721] Trial 18 finished with value: 0.761995978006313 and parameters: {'iterations': 1000, 'learning_rate': 0.007558844472956981, 'objective': 'Logloss', 'l2_leaf_reg': 2.205146062553325, 'colsample_bylevel': 0.26995641708754703, 'depth': 4, 'boosting_type': 'Ordered', 'bootstrap_type': 'Bernoulli'}. Best is trial 16 with value: 0.7650018667481248.\n",
            "[I 2025-03-05 11:46:07,141] Trial 19 finished with value: 0.7638966670060753 and parameters: {'iterations': 750, 'learning_rate': 0.0054105982468629285, 'objective': 'Logloss', 'l2_leaf_reg': 4.196617361152516, 'colsample_bylevel': 0.6833789578156647, 'depth': 3, 'boosting_type': 'Plain', 'bootstrap_type': 'Bernoulli'}. Best is trial 16 with value: 0.7650018667481248.\n",
            "[I 2025-03-05 11:46:07,926] Trial 20 finished with value: 0.7635911991311135 and parameters: {'iterations': 500, 'learning_rate': 0.01015564314508975, 'objective': 'Logloss', 'l2_leaf_reg': 2.1146289069278907, 'colsample_bylevel': 0.38142496285415306, 'depth': 2, 'boosting_type': 'Plain', 'bootstrap_type': 'Bernoulli'}. Best is trial 16 with value: 0.7650018667481248.\n",
            "[I 2025-03-05 11:46:10,328] Trial 21 finished with value: 0.7632454264670944 and parameters: {'iterations': 750, 'learning_rate': 0.005263893879263283, 'objective': 'Logloss', 'l2_leaf_reg': 4.1216345757428385, 'colsample_bylevel': 0.6052208337346415, 'depth': 3, 'boosting_type': 'Plain', 'bootstrap_type': 'Bernoulli'}. Best is trial 16 with value: 0.7650018667481248.\n",
            "[I 2025-03-05 11:46:11,399] Trial 22 finished with value: 0.7648130706309608 and parameters: {'iterations': 750, 'learning_rate': 0.0011515638704064964, 'objective': 'Logloss', 'l2_leaf_reg': 3.869456106176593, 'colsample_bylevel': 0.6457512226565879, 'depth': 1, 'boosting_type': 'Plain', 'bootstrap_type': 'Bernoulli'}. Best is trial 16 with value: 0.7650018667481248.\n",
            "[I 2025-03-05 11:46:12,785] Trial 23 finished with value: 0.764895801513763 and parameters: {'iterations': 1000, 'learning_rate': 0.0017643214168375975, 'objective': 'Logloss', 'l2_leaf_reg': 1.999119314339514, 'colsample_bylevel': 0.6362978837020407, 'depth': 1, 'boosting_type': 'Plain', 'bootstrap_type': 'Bernoulli'}. Best is trial 16 with value: 0.7650018667481248.\n",
            "[I 2025-03-05 11:46:14,158] Trial 24 finished with value: 0.7631839086311646 and parameters: {'iterations': 1000, 'learning_rate': 0.012233832359268114, 'objective': 'Logloss', 'l2_leaf_reg': 3.378795539996599, 'colsample_bylevel': 0.6420043833826168, 'depth': 1, 'boosting_type': 'Plain', 'bootstrap_type': 'Bernoulli'}. Best is trial 16 with value: 0.7650018667481248.\n",
            "[I 2025-03-05 11:46:15,741] Trial 25 finished with value: 0.7649530767403183 and parameters: {'iterations': 1000, 'learning_rate': 0.0010500086859866478, 'objective': 'Logloss', 'l2_leaf_reg': 2.2780075969793163, 'colsample_bylevel': 0.6205793719373535, 'depth': 2, 'boosting_type': 'Plain', 'bootstrap_type': 'Bernoulli'}. Best is trial 16 with value: 0.7650018667481248.\n",
            "[I 2025-03-05 11:46:24,943] Trial 26 finished with value: 0.7644651766622544 and parameters: {'iterations': 1000, 'learning_rate': 0.005118230501614597, 'objective': 'CrossEntropy', 'l2_leaf_reg': 2.1799992024054164, 'colsample_bylevel': 0.5847503425901961, 'depth': 2, 'boosting_type': 'Ordered', 'bootstrap_type': 'Bernoulli'}. Best is trial 16 with value: 0.7650018667481248.\n",
            "[I 2025-03-05 11:46:27,296] Trial 27 finished with value: 0.7584449139598819 and parameters: {'iterations': 1500, 'learning_rate': 0.01901126779302166, 'objective': 'Logloss', 'l2_leaf_reg': 6.005158833220619, 'colsample_bylevel': 0.5190703355697432, 'depth': 2, 'boosting_type': 'Plain', 'bootstrap_type': 'Bernoulli'}. Best is trial 16 with value: 0.7650018667481248.\n",
            "[I 2025-03-05 11:46:29,375] Trial 28 finished with value: 0.761310796592336 and parameters: {'iterations': 1000, 'learning_rate': 0.007764746590642991, 'objective': 'Logloss', 'l2_leaf_reg': 1.8494724371944682, 'colsample_bylevel': 0.633935721244348, 'depth': 4, 'boosting_type': 'Plain', 'bootstrap_type': 'Bernoulli'}. Best is trial 16 with value: 0.7650018667481248.\n",
            "[I 2025-03-05 11:46:39,215] Trial 29 finished with value: 0.7634002817092624 and parameters: {'iterations': 1000, 'learning_rate': 0.004095125325897378, 'objective': 'Logloss', 'l2_leaf_reg': 2.4529145884610597, 'colsample_bylevel': 0.48573923033507604, 'depth': 3, 'boosting_type': 'Ordered', 'bootstrap_type': 'Bernoulli'}. Best is trial 16 with value: 0.7650018667481248.\n"
          ]
        }
      ],
      "source": [
        "best_p = optimizers(X_train_p, y_train_p, X_test_p, y_test_p, n_trials = 30)"
      ]
    },
    {
      "cell_type": "markdown",
      "metadata": {
        "id": "yA9_m4Dj0kXC"
      },
      "source": []
    },
    {
      "cell_type": "code",
      "execution_count": 73,
      "metadata": {
        "colab": {
          "base_uri": "https://localhost:8080/"
        },
        "id": "CIX6OJ_M0KQi",
        "outputId": "f6110fa7-59a4-48b8-9b99-2a3b781d8081"
      },
      "outputs": [
        {
          "name": "stderr",
          "output_type": "stream",
          "text": [
            "[I 2025-03-05 10:51:20,428] A new study created in memory with name: no-name-896eeaa1-f676-48e7-973c-2163e5e6bd98\n",
            "[I 2025-03-05 10:51:32,293] Trial 0 finished with value: 0.6654037679927648 and parameters: {'iterations': 1000, 'learning_rate': 0.016240738960004057, 'objective': 'Logloss', 'l2_leaf_reg': 7.393296231961553, 'colsample_bylevel': 0.490113321619472, 'depth': 4, 'boosting_type': 'Ordered', 'bootstrap_type': 'MVS'}. Best is trial 0 with value: 0.6654037679927648.\n",
            "[I 2025-03-05 10:51:36,318] Trial 1 finished with value: 0.6505344709228205 and parameters: {'iterations': 1500, 'learning_rate': 0.039864577822472484, 'objective': 'Logloss', 'l2_leaf_reg': 5.065206575262516, 'colsample_bylevel': 0.6902687046141593, 'depth': 5, 'boosting_type': 'Plain', 'bootstrap_type': 'MVS'}. Best is trial 0 with value: 0.6654037679927648.\n",
            "[I 2025-03-05 10:51:50,594] Trial 2 finished with value: 0.6566299456267094 and parameters: {'iterations': 1500, 'learning_rate': 0.03666184053781749, 'objective': 'Logloss', 'l2_leaf_reg': 3.220469869983676, 'colsample_bylevel': 0.5601431848879408, 'depth': 3, 'boosting_type': 'Ordered', 'bootstrap_type': 'MVS'}. Best is trial 0 with value: 0.6654037679927648.\n",
            "[I 2025-03-05 10:52:07,103] Trial 3 finished with value: 0.6583581227594173 and parameters: {'iterations': 1000, 'learning_rate': 0.02288547480069919, 'objective': 'Logloss', 'l2_leaf_reg': 1.9479198132423516, 'colsample_bylevel': 0.6800689323536555, 'depth': 6, 'boosting_type': 'Ordered', 'bootstrap_type': 'Bayesian'}. Best is trial 0 with value: 0.6654037679927648.\n",
            "[I 2025-03-05 10:52:12,031] Trial 4 finished with value: 0.6463306201170279 and parameters: {'iterations': 1500, 'learning_rate': 0.038448322198186995, 'objective': 'Logloss', 'l2_leaf_reg': 4.264724983085841, 'colsample_bylevel': 0.5481293937029097, 'depth': 6, 'boosting_type': 'Plain', 'bootstrap_type': 'MVS'}. Best is trial 0 with value: 0.6654037679927648.\n",
            "[I 2025-03-05 10:52:15,354] Trial 5 finished with value: 0.6686312967866366 and parameters: {'iterations': 1250, 'learning_rate': 0.0010488005482758487, 'objective': 'CrossEntropy', 'l2_leaf_reg': 9.218530849714806, 'colsample_bylevel': 0.5801210444944327, 'depth': 6, 'boosting_type': 'Plain', 'bootstrap_type': 'Bernoulli'}. Best is trial 5 with value: 0.6686312967866366.\n",
            "[I 2025-03-05 10:52:30,676] Trial 6 finished with value: 0.6601451407276651 and parameters: {'iterations': 1500, 'learning_rate': 0.03941899728879888, 'objective': 'Logloss', 'l2_leaf_reg': 6.65389925657688, 'colsample_bylevel': 0.5071151206550236, 'depth': 3, 'boosting_type': 'Ordered', 'bootstrap_type': 'Bayesian'}. Best is trial 5 with value: 0.6686312967866366.\n",
            "[I 2025-03-05 10:52:52,409] Trial 7 finished with value: 0.6471020888496617 and parameters: {'iterations': 1250, 'learning_rate': 0.03421348408960097, 'objective': 'Logloss', 'l2_leaf_reg': 5.565031544478509, 'colsample_bylevel': 0.5065511226778319, 'depth': 7, 'boosting_type': 'Ordered', 'bootstrap_type': 'MVS'}. Best is trial 5 with value: 0.6686312967866366.\n",
            "[I 2025-03-05 10:53:05,763] Trial 8 finished with value: 0.666931450426596 and parameters: {'iterations': 1500, 'learning_rate': 0.013819202997815708, 'objective': 'CrossEntropy', 'l2_leaf_reg': 8.03845681736491, 'colsample_bylevel': 0.349623220776599, 'depth': 2, 'boosting_type': 'Ordered', 'bootstrap_type': 'Bernoulli'}. Best is trial 5 with value: 0.6686312967866366.\n",
            "[I 2025-03-05 10:53:20,945] Trial 9 finished with value: 0.6670556699682914 and parameters: {'iterations': 1250, 'learning_rate': 0.004639162057891397, 'objective': 'CrossEntropy', 'l2_leaf_reg': 2.318406870596231, 'colsample_bylevel': 0.38593914179795485, 'depth': 5, 'boosting_type': 'Ordered', 'bootstrap_type': 'Bayesian'}. Best is trial 5 with value: 0.6686312967866366.\n",
            "[I 2025-03-05 10:53:26,394] Trial 10 finished with value: 0.6686312967866367 and parameters: {'iterations': 1250, 'learning_rate': 0.0012286400941827322, 'objective': 'CrossEntropy', 'l2_leaf_reg': 9.722909260122659, 'colsample_bylevel': 0.2038724354448799, 'depth': 9, 'boosting_type': 'Plain', 'bootstrap_type': 'Bernoulli'}. Best is trial 10 with value: 0.6686312967866367.\n",
            "[I 2025-03-05 10:53:32,406] Trial 11 finished with value: 0.6697383762108682 and parameters: {'iterations': 1250, 'learning_rate': 0.0010236786324591418, 'objective': 'CrossEntropy', 'l2_leaf_reg': 9.790566147306283, 'colsample_bylevel': 0.20929962501401453, 'depth': 9, 'boosting_type': 'Plain', 'bootstrap_type': 'Bernoulli'}. Best is trial 11 with value: 0.6697383762108682.\n",
            "[I 2025-03-05 10:53:38,652] Trial 12 finished with value: 0.6647129329977226 and parameters: {'iterations': 1250, 'learning_rate': 0.0071205597299205965, 'objective': 'CrossEntropy', 'l2_leaf_reg': 9.943970195596753, 'colsample_bylevel': 0.2142243924938861, 'depth': 9, 'boosting_type': 'Plain', 'bootstrap_type': 'Bernoulli'}. Best is trial 11 with value: 0.6697383762108682.\n",
            "[I 2025-03-05 10:53:43,076] Trial 13 finished with value: 0.6665740468329465 and parameters: {'iterations': 1000, 'learning_rate': 0.009531433774670434, 'objective': 'CrossEntropy', 'l2_leaf_reg': 8.654040519595155, 'colsample_bylevel': 0.20299933878401435, 'depth': 9, 'boosting_type': 'Plain', 'bootstrap_type': 'Bernoulli'}. Best is trial 11 with value: 0.6697383762108682.\n",
            "[I 2025-03-05 10:53:48,374] Trial 14 finished with value: 0.6477275451385485 and parameters: {'iterations': 1250, 'learning_rate': 0.025376784194867327, 'objective': 'CrossEntropy', 'l2_leaf_reg': 9.879643457226765, 'colsample_bylevel': 0.28904310017052653, 'depth': 8, 'boosting_type': 'Plain', 'bootstrap_type': 'Bernoulli'}. Best is trial 11 with value: 0.6697383762108682.\n",
            "[I 2025-03-05 10:53:52,306] Trial 15 finished with value: 0.6686574482690987 and parameters: {'iterations': 1250, 'learning_rate': 0.0019012366885986648, 'objective': 'CrossEntropy', 'l2_leaf_reg': 6.742756754355823, 'colsample_bylevel': 0.27798707143762325, 'depth': 8, 'boosting_type': 'Plain', 'bootstrap_type': 'Bernoulli'}. Best is trial 11 with value: 0.6697383762108682.\n",
            "[I 2025-03-05 10:53:55,526] Trial 16 finished with value: 0.6679164895993375 and parameters: {'iterations': 1000, 'learning_rate': 0.01172416247333342, 'objective': 'CrossEntropy', 'l2_leaf_reg': 6.585511960139544, 'colsample_bylevel': 0.284753608091189, 'depth': 8, 'boosting_type': 'Plain', 'bootstrap_type': 'Bernoulli'}. Best is trial 11 with value: 0.6697383762108682.\n",
            "[I 2025-03-05 10:54:00,789] Trial 17 finished with value: 0.6490852429363756 and parameters: {'iterations': 1250, 'learning_rate': 0.029013824422883288, 'objective': 'CrossEntropy', 'l2_leaf_reg': 7.873054389981882, 'colsample_bylevel': 0.28232008655041896, 'depth': 8, 'boosting_type': 'Plain', 'bootstrap_type': 'Bernoulli'}. Best is trial 11 with value: 0.6697383762108682.\n",
            "[I 2025-03-05 10:54:04,377] Trial 18 finished with value: 0.6653013413531212 and parameters: {'iterations': 1250, 'learning_rate': 0.016772999531303612, 'objective': 'CrossEntropy', 'l2_leaf_reg': 5.751739520031359, 'colsample_bylevel': 0.3857717451749853, 'depth': 7, 'boosting_type': 'Plain', 'bootstrap_type': 'Bernoulli'}. Best is trial 11 with value: 0.6697383762108682.\n",
            "[I 2025-03-05 10:54:05,709] Trial 19 finished with value: 0.667354232726401 and parameters: {'iterations': 1000, 'learning_rate': 0.006822607898600954, 'objective': 'CrossEntropy', 'l2_leaf_reg': 8.61107958315602, 'colsample_bylevel': 0.3453384045487017, 'depth': 1, 'boosting_type': 'Plain', 'bootstrap_type': 'Bernoulli'}. Best is trial 11 with value: 0.6697383762108682.\n",
            "[I 2025-03-05 10:54:10,477] Trial 20 finished with value: 0.6661054994388329 and parameters: {'iterations': 1250, 'learning_rate': 0.0042770985316392535, 'objective': 'CrossEntropy', 'l2_leaf_reg': 1.181502641228878, 'colsample_bylevel': 0.25266698912922003, 'depth': 7, 'boosting_type': 'Plain', 'bootstrap_type': 'Bayesian'}. Best is trial 11 with value: 0.6697383762108682.\n",
            "[I 2025-03-05 10:54:16,693] Trial 21 finished with value: 0.6702483301188803 and parameters: {'iterations': 1250, 'learning_rate': 0.0016209076557410118, 'objective': 'CrossEntropy', 'l2_leaf_reg': 9.050483420606026, 'colsample_bylevel': 0.23957529661769178, 'depth': 9, 'boosting_type': 'Plain', 'bootstrap_type': 'Bernoulli'}. Best is trial 21 with value: 0.6702483301188803.\n",
            "[I 2025-03-05 10:54:24,292] Trial 22 finished with value: 0.670028221808157 and parameters: {'iterations': 1250, 'learning_rate': 0.0011751004851008981, 'objective': 'CrossEntropy', 'l2_leaf_reg': 6.941758689633737, 'colsample_bylevel': 0.2534484664187539, 'depth': 9, 'boosting_type': 'Plain', 'bootstrap_type': 'Bernoulli'}. Best is trial 21 with value: 0.6702483301188803.\n",
            "[I 2025-03-05 10:54:32,686] Trial 23 finished with value: 0.6651008466542447 and parameters: {'iterations': 1250, 'learning_rate': 0.00862035036032299, 'objective': 'CrossEntropy', 'l2_leaf_reg': 8.645568304230704, 'colsample_bylevel': 0.33535500059598355, 'depth': 9, 'boosting_type': 'Plain', 'bootstrap_type': 'Bernoulli'}. Best is trial 21 with value: 0.6702483301188803.\n",
            "[I 2025-03-05 10:54:39,908] Trial 24 finished with value: 0.6679796890152877 and parameters: {'iterations': 1250, 'learning_rate': 0.004732358922156111, 'objective': 'CrossEntropy', 'l2_leaf_reg': 7.516057639419374, 'colsample_bylevel': 0.24603607913622658, 'depth': 9, 'boosting_type': 'Plain', 'bootstrap_type': 'Bernoulli'}. Best is trial 21 with value: 0.6702483301188803.\n",
            "[I 2025-03-05 10:54:43,718] Trial 25 finished with value: 0.6670796421605483 and parameters: {'iterations': 1000, 'learning_rate': 0.011626207947970408, 'objective': 'CrossEntropy', 'l2_leaf_reg': 9.202609731206856, 'colsample_bylevel': 0.4143803408715695, 'depth': 8, 'boosting_type': 'Plain', 'bootstrap_type': 'Bernoulli'}. Best is trial 21 with value: 0.6702483301188803.\n",
            "[I 2025-03-05 10:54:48,672] Trial 26 finished with value: 0.6676244647118433 and parameters: {'iterations': 1500, 'learning_rate': 0.00438752817374812, 'objective': 'CrossEntropy', 'l2_leaf_reg': 9.00057626906452, 'colsample_bylevel': 0.24376103485024525, 'depth': 7, 'boosting_type': 'Plain', 'bootstrap_type': 'Bernoulli'}. Best is trial 21 with value: 0.6702483301188803.\n",
            "[I 2025-03-05 10:54:56,267] Trial 27 finished with value: 0.6508700816144182 and parameters: {'iterations': 1250, 'learning_rate': 0.020153266084751202, 'objective': 'CrossEntropy', 'l2_leaf_reg': 8.132886191034837, 'colsample_bylevel': 0.3062733520855967, 'depth': 9, 'boosting_type': 'Plain', 'bootstrap_type': 'Bernoulli'}. Best is trial 21 with value: 0.6702483301188803.\n",
            "[I 2025-03-05 10:55:01,161] Trial 28 finished with value: 0.6645756377147962 and parameters: {'iterations': 1250, 'learning_rate': 0.010140345816397014, 'objective': 'CrossEntropy', 'l2_leaf_reg': 7.071764096965392, 'colsample_bylevel': 0.23890353205087816, 'depth': 8, 'boosting_type': 'Plain', 'bootstrap_type': 'Bernoulli'}. Best is trial 21 with value: 0.6702483301188803.\n",
            "[I 2025-03-05 10:55:03,655] Trial 29 finished with value: 0.6645734584245911 and parameters: {'iterations': 1000, 'learning_rate': 0.015881723729063383, 'objective': 'CrossEntropy', 'l2_leaf_reg': 6.036962941981158, 'colsample_bylevel': 0.4684595233523628, 'depth': 5, 'boosting_type': 'Plain', 'bootstrap_type': 'Bayesian'}. Best is trial 21 with value: 0.6702483301188803.\n"
          ]
        }
      ],
      "source": [
        "best_s = optimizers(X_train_s, y_train_s, X_valid_s, y_valid_s, n_trials = 30)"
      ]
    },
    {
      "cell_type": "code",
      "execution_count": 76,
      "metadata": {
        "colab": {
          "base_uri": "https://localhost:8080/"
        },
        "id": "I_SIHYN88fz-",
        "outputId": "4c49381f-796f-4340-ed42-65daffb35fd3"
      },
      "outputs": [
        {
          "data": {
            "text/plain": [
              "{'iterations': 1250,\n",
              " 'learning_rate': 0.02790523555920745,\n",
              " 'objective': 'Logloss',\n",
              " 'l2_leaf_reg': 1.1475357950152565,\n",
              " 'colsample_bylevel': 0.2047198259743157,\n",
              " 'depth': 4,\n",
              " 'boosting_type': 'Ordered',\n",
              " 'bootstrap_type': 'Bernoulli'}"
            ]
          },
          "execution_count": 76,
          "metadata": {},
          "output_type": "execute_result"
        }
      ],
      "source": [
        "best_m"
      ]
    },
    {
      "cell_type": "code",
      "execution_count": null,
      "metadata": {
        "id": "A_CoU0ig9-Fp"
      },
      "outputs": [],
      "source": []
    },
    {
      "cell_type": "code",
      "execution_count": 78,
      "metadata": {
        "colab": {
          "base_uri": "https://localhost:8080/"
        },
        "id": "A8v9pmkW8pWK",
        "outputId": "6f72bf6d-5e11-4581-a52c-b70df03cd09d"
      },
      "outputs": [
        {
          "name": "stdout",
          "output_type": "stream",
          "text": [
            "0:\tlearn: 0.6421421\ttotal: 10.4ms\tremaining: 13s\n",
            "250:\tlearn: 0.2002422\ttotal: 2.31s\tremaining: 9.21s\n",
            "500:\tlearn: 0.1876355\ttotal: 5.39s\tremaining: 8.06s\n",
            "750:\tlearn: 0.1792909\ttotal: 8.37s\tremaining: 5.56s\n",
            "1000:\tlearn: 0.1726325\ttotal: 12.2s\tremaining: 3.03s\n",
            "1249:\tlearn: 0.1672533\ttotal: 17.2s\tremaining: 0us\n"
          ]
        },
        {
          "data": {
            "text/plain": [
              "{'accuracy': 0.9135429262394196,\n",
              " 'f1_score': 0.7122736418511066,\n",
              " 'roc_auc': 0.955841145302629,\n",
              " 'precision': 0.7224489795918367,\n",
              " 'recall': 0.7023809523809523}"
            ]
          },
          "execution_count": 78,
          "metadata": {},
          "output_type": "execute_result"
        }
      ],
      "source": [
        "best_model_m = CatBoostClassifier(**best_m, verbose=250)\n",
        "best_model_m.fit(X_train_m,y_train_m)\n",
        "evaluate_model(best_model_m, X_test_m, y_test_m, pos_label=1)"
      ]
    },
    {
      "cell_type": "code",
      "execution_count": 129,
      "metadata": {
        "colab": {
          "base_uri": "https://localhost:8080/"
        },
        "id": "EUcfy1Vd-E4a",
        "outputId": "c0ea7079-788a-4331-86ea-a00879a7b347"
      },
      "outputs": [
        {
          "data": {
            "text/plain": [
              "{'iterations': 750,\n",
              " 'learning_rate': 0.001100830493204745,\n",
              " 'objective': 'Logloss',\n",
              " 'l2_leaf_reg': 2.125304333612128,\n",
              " 'colsample_bylevel': 0.3660545738113444,\n",
              " 'depth': 1,\n",
              " 'boosting_type': 'Plain',\n",
              " 'bootstrap_type': 'Bernoulli'}"
            ]
          },
          "execution_count": 129,
          "metadata": {},
          "output_type": "execute_result"
        }
      ],
      "source": [
        "best_p"
      ]
    },
    {
      "cell_type": "code",
      "execution_count": 86,
      "metadata": {
        "id": "UpZkFVl7Aenr"
      },
      "outputs": [],
      "source": [
        "ss = {'iterations': 1000, 'learning_rate': 0.032592993382736184, 'objective': 'Logloss', 'l2_leaf_reg': 4.55792508644508, 'colsample_bylevel': 0.348484013137108, 'depth': 4, 'boosting_type': 'Plain', 'bootstrap_type': 'MVS'}"
      ]
    },
    {
      "cell_type": "code",
      "execution_count": 99,
      "metadata": {
        "colab": {
          "base_uri": "https://localhost:8080/"
        },
        "id": "O-hf2yOtCbdm",
        "outputId": "dfe6d415-38b1-4be8-c94b-1f0f961ee425"
      },
      "outputs": [
        {
          "data": {
            "text/plain": [
              "{'iterations': 200,\n",
              " 'learning_rate': 0.005350032144881398,\n",
              " 'objective': 'CrossEntropy',\n",
              " 'l2_leaf_reg': 7.634448191037505,\n",
              " 'colsample_bylevel': 0.4309194890802742,\n",
              " 'depth': 1,\n",
              " 'boosting_type': 'Ordered',\n",
              " 'bootstrap_type': 'MVS'}"
            ]
          },
          "execution_count": 99,
          "metadata": {},
          "output_type": "execute_result"
        }
      ],
      "source": [
        "best_p['iterations'] = 200\n",
        "best_p"
      ]
    },
    {
      "cell_type": "code",
      "execution_count": 96,
      "metadata": {
        "id": "ylVCIrvoCsnH"
      },
      "outputs": [],
      "source": []
    },
    {
      "cell_type": "code",
      "execution_count": 130,
      "metadata": {
        "colab": {
          "base_uri": "https://localhost:8080/"
        },
        "id": "5L8vgiZB8yOQ",
        "outputId": "b225c422-c002-42c2-ca55-c2032ec6875c"
      },
      "outputs": [
        {
          "name": "stdout",
          "output_type": "stream",
          "text": [
            "0:\tlearn: 0.6925359\ttotal: 2.37ms\tremaining: 1.77s\n",
            "250:\tlearn: 0.5869776\ttotal: 328ms\tremaining: 651ms\n",
            "500:\tlearn: 0.5291530\ttotal: 644ms\tremaining: 320ms\n",
            "749:\tlearn: 0.4961130\ttotal: 957ms\tremaining: 0us\n"
          ]
        },
        {
          "name": "stderr",
          "output_type": "stream",
          "text": [
            "/usr/local/lib/python3.11/dist-packages/sklearn/metrics/_classification.py:1565: UndefinedMetricWarning: Precision is ill-defined and being set to 0.0 due to no predicted samples. Use `zero_division` parameter to control this behavior.\n",
            "  _warn_prf(average, modifier, f\"{metric.capitalize()} is\", len(result))\n"
          ]
        },
        {
          "data": {
            "text/plain": [
              "{'accuracy': 0.7787182587666264,\n",
              " 'f1_score': 0.0,\n",
              " 'roc_auc': 0.7650018667481248,\n",
              " 'precision': 0.0,\n",
              " 'recall': 0.0}"
            ]
          },
          "execution_count": 130,
          "metadata": {},
          "output_type": "execute_result"
        }
      ],
      "source": [
        "best_model_p = CatBoostClassifier(**best_p, verbose=250)\n",
        "best_model_p.fit(X_train_p, y_train_p)\n",
        "evaluate_model(best_model_p, X_test_p, y_test_p, pos_label=1)"
      ]
    },
    {
      "cell_type": "code",
      "execution_count": 108,
      "metadata": {
        "colab": {
          "base_uri": "https://localhost:8080/",
          "height": 178
        },
        "id": "VGV01qDcDRwN",
        "outputId": "b8678daa-1d15-4b94-fbb2-fe0f71c67b6e"
      },
      "outputs": [
        {
          "data": {
            "text/html": [
              "<div>\n",
              "<style scoped>\n",
              "    .dataframe tbody tr th:only-of-type {\n",
              "        vertical-align: middle;\n",
              "    }\n",
              "\n",
              "    .dataframe tbody tr th {\n",
              "        vertical-align: top;\n",
              "    }\n",
              "\n",
              "    .dataframe thead th {\n",
              "        text-align: right;\n",
              "    }\n",
              "</style>\n",
              "<table border=\"1\" class=\"dataframe\">\n",
              "  <thead>\n",
              "    <tr style=\"text-align: right;\">\n",
              "      <th></th>\n",
              "      <th>count</th>\n",
              "    </tr>\n",
              "    <tr>\n",
              "      <th>Pension</th>\n",
              "      <th></th>\n",
              "    </tr>\n",
              "  </thead>\n",
              "  <tbody>\n",
              "    <tr>\n",
              "      <th>0</th>\n",
              "      <td>1132</td>\n",
              "    </tr>\n",
              "    <tr>\n",
              "      <th>1</th>\n",
              "      <td>274</td>\n",
              "    </tr>\n",
              "  </tbody>\n",
              "</table>\n",
              "</div><br><label><b>dtype:</b> int64</label>"
            ],
            "text/plain": [
              "Pension\n",
              "0    1132\n",
              "1     274\n",
              "Name: count, dtype: int64"
            ]
          },
          "execution_count": 108,
          "metadata": {},
          "output_type": "execute_result"
        }
      ],
      "source": [
        "y_valid_p.value_counts()"
      ]
    },
    {
      "cell_type": "code",
      "execution_count": 83,
      "metadata": {
        "colab": {
          "base_uri": "https://localhost:8080/"
        },
        "id": "YEty9gfG-LjG",
        "outputId": "6e8bfe2d-e3f8-42eb-d59b-28f15a718e6b"
      },
      "outputs": [
        {
          "data": {
            "text/plain": [
              "{'iterations': 1250,\n",
              " 'learning_rate': 0.0016209076557410118,\n",
              " 'objective': 'CrossEntropy',\n",
              " 'l2_leaf_reg': 9.050483420606026,\n",
              " 'colsample_bylevel': 0.23957529661769178,\n",
              " 'depth': 9,\n",
              " 'boosting_type': 'Plain',\n",
              " 'bootstrap_type': 'Bernoulli'}"
            ]
          },
          "execution_count": 83,
          "metadata": {},
          "output_type": "execute_result"
        }
      ],
      "source": [
        "best_s"
      ]
    },
    {
      "cell_type": "code",
      "execution_count": null,
      "metadata": {
        "id": "xAPt16UZ-OKE"
      },
      "outputs": [],
      "source": []
    },
    {
      "cell_type": "code",
      "execution_count": 81,
      "metadata": {
        "colab": {
          "base_uri": "https://localhost:8080/"
        },
        "id": "i_oih_ur8ylE",
        "outputId": "10338b43-afa5-484b-e01f-954c6ffba221"
      },
      "outputs": [
        {
          "name": "stdout",
          "output_type": "stream",
          "text": [
            "0:\tlearn: 0.6928451\ttotal: 2.85ms\tremaining: 3.56s\n",
            "250:\tlearn: 0.6458099\ttotal: 1.18s\tremaining: 4.71s\n",
            "500:\tlearn: 0.6224636\ttotal: 2.38s\tremaining: 3.56s\n",
            "750:\tlearn: 0.6090222\ttotal: 3.54s\tremaining: 2.35s\n",
            "1000:\tlearn: 0.6001225\ttotal: 5.02s\tremaining: 1.25s\n",
            "1249:\tlearn: 0.5931849\ttotal: 7.02s\tremaining: 0us\n"
          ]
        },
        {
          "data": {
            "text/plain": [
              "{'accuracy': 0.6221281741233373,\n",
              " 'f1_score': 0.410933081998115,\n",
              " 'roc_auc': 0.6643699004135897,\n",
              " 'precision': 0.49209932279909707,\n",
              " 'recall': 0.35275080906148865}"
            ]
          },
          "execution_count": 81,
          "metadata": {},
          "output_type": "execute_result"
        }
      ],
      "source": [
        "best_model_s = CatBoostClassifier(**best_s, verbose=250)\n",
        "best_model_s.fit(X_train_s,y_train_s)\n",
        "evaluate_model(best_model_s, X_test_s, y_test_s, pos_label=1)"
      ]
    }
  ],
  "metadata": {
    "accelerator": "GPU",
    "colab": {
      "gpuType": "T4",
      "provenance": []
    },
    "kernelspec": {
      "display_name": "Python 3",
      "name": "python3"
    },
    "language_info": {
      "name": "python"
    }
  },
  "nbformat": 4,
  "nbformat_minor": 0
}
